{
 "cells": [
  {
   "cell_type": "code",
   "execution_count": 1,
   "metadata": {},
   "outputs": [],
   "source": [
    "import pandas as pd\n",
    "import numpy as np\n",
    "import matplotlib.pyplot as plt\n",
    "%matplotlib inline\n",
    "import seaborn as sns"
   ]
  },
  {
   "cell_type": "code",
   "execution_count": 2,
   "metadata": {},
   "outputs": [],
   "source": [
    "train = pd.read_csv(\"train.csv\", header = 0)\n",
    "test = pd.read_csv(\"test.csv\", header = 0)\n",
    "labels = train.SalePrice"
   ]
  },
  {
   "cell_type": "code",
   "execution_count": 3,
   "metadata": {},
   "outputs": [],
   "source": [
    "train_temp = train[\"SalePrice\"].copy()"
   ]
  },
  {
   "cell_type": "code",
   "execution_count": 4,
   "metadata": {},
   "outputs": [],
   "source": [
    "train.drop([\"Id\", \"SalePrice\"], axis=1, inplace=True)\n",
    "test.drop([\"Id\"], axis=1, inplace=True)"
   ]
  },
  {
   "cell_type": "code",
   "execution_count": 5,
   "metadata": {},
   "outputs": [
    {
     "name": "stdout",
     "output_type": "stream",
     "text": [
      "Name           \tNaNs\t#unique\n",
      "MSSubClass     \t0.0000\t15\n",
      "MSZoning       \t0.0000\t5\n",
      "LotFrontage    \t0.1774\t110\n",
      "LotArea        \t0.0000\t1073\n",
      "Street         \t0.0000\t2\n",
      "Alley          \t0.9377\t2\n",
      "LotShape       \t0.0000\t4\n",
      "LandContour    \t0.0000\t4\n",
      "Utilities      \t0.0000\t2\n",
      "LotConfig      \t0.0000\t5\n",
      "LandSlope      \t0.0000\t3\n",
      "Neighborhood   \t0.0000\t25\n",
      "Condition1     \t0.0000\t9\n",
      "Condition2     \t0.0000\t8\n",
      "BldgType       \t0.0000\t5\n",
      "HouseStyle     \t0.0000\t8\n",
      "OverallQual    \t0.0000\t10\n",
      "OverallCond    \t0.0000\t9\n",
      "YearBuilt      \t0.0000\t112\n",
      "YearRemodAdd   \t0.0000\t61\n",
      "RoofStyle      \t0.0000\t6\n",
      "RoofMatl       \t0.0000\t8\n",
      "Exterior1st    \t0.0000\t15\n",
      "Exterior2nd    \t0.0000\t16\n",
      "MasVnrType     \t0.0055\t4\n",
      "MasVnrArea     \t0.0055\t327\n",
      "ExterQual      \t0.0000\t4\n",
      "ExterCond      \t0.0000\t5\n",
      "Foundation     \t0.0000\t6\n",
      "BsmtQual       \t0.0253\t4\n",
      "BsmtCond       \t0.0253\t4\n",
      "BsmtExposure   \t0.0260\t4\n",
      "BsmtFinType1   \t0.0253\t6\n",
      "BsmtFinSF1     \t0.0000\t637\n",
      "BsmtFinType2   \t0.0260\t6\n",
      "BsmtFinSF2     \t0.0000\t144\n",
      "BsmtUnfSF      \t0.0000\t780\n",
      "TotalBsmtSF    \t0.0000\t721\n",
      "Heating        \t0.0000\t6\n",
      "HeatingQC      \t0.0000\t5\n",
      "CentralAir     \t0.0000\t2\n",
      "Electrical     \t0.0007\t5\n",
      "1stFlrSF       \t0.0000\t753\n",
      "2ndFlrSF       \t0.0000\t417\n",
      "LowQualFinSF   \t0.0000\t24\n",
      "GrLivArea      \t0.0000\t861\n",
      "BsmtFullBath   \t0.0000\t4\n",
      "BsmtHalfBath   \t0.0000\t3\n",
      "FullBath       \t0.0000\t4\n",
      "HalfBath       \t0.0000\t3\n",
      "BedroomAbvGr   \t0.0000\t8\n",
      "KitchenAbvGr   \t0.0000\t4\n",
      "KitchenQual    \t0.0000\t4\n",
      "TotRmsAbvGrd   \t0.0000\t12\n",
      "Functional     \t0.0000\t7\n",
      "Fireplaces     \t0.0000\t4\n",
      "FireplaceQu    \t0.4726\t5\n",
      "GarageType     \t0.0555\t6\n",
      "GarageYrBlt    \t0.0555\t97\n",
      "GarageFinish   \t0.0555\t3\n",
      "GarageCars     \t0.0000\t5\n",
      "GarageArea     \t0.0000\t441\n",
      "GarageQual     \t0.0555\t5\n",
      "GarageCond     \t0.0555\t5\n",
      "PavedDrive     \t0.0000\t3\n",
      "WoodDeckSF     \t0.0000\t274\n",
      "OpenPorchSF    \t0.0000\t202\n",
      "EnclosedPorch  \t0.0000\t120\n",
      "3SsnPorch      \t0.0000\t20\n",
      "ScreenPorch    \t0.0000\t76\n",
      "PoolArea       \t0.0000\t8\n",
      "PoolQC         \t0.9952\t3\n",
      "Fence          \t0.8075\t4\n",
      "MiscFeature    \t0.9630\t4\n",
      "MiscVal        \t0.0000\t21\n",
      "MoSold         \t0.0000\t12\n",
      "YrSold         \t0.0000\t5\n",
      "SaleType       \t0.0000\t9\n",
      "SaleCondition  \t0.0000\t6\n"
     ]
    }
   ],
   "source": [
    "print(\"{0:15}\\t{1}\\t{2}\".format(\"Name\", \"NaNs\", \"#unique\"))\n",
    "for col in train.columns:\n",
    "    print(\"{0:15}\\t{1:.4f}\\t{2}\".format(col, train[col].isnull().mean(), train[col].nunique()))"
   ]
  },
  {
   "cell_type": "markdown",
   "metadata": {},
   "source": [
    "Здесь представлены, как количественные (площадь участка, кол-во комнат, площадь этажей и т.п.), так и качественные (класс здания, год постройки, форма участка, материал крыши и т.п.) признаки. Также можем выделить набор признаков для описания гаража, набор для описания подвала, для жилой части здания и т.п."
   ]
  },
  {
   "cell_type": "code",
   "execution_count": 6,
   "metadata": {},
   "outputs": [],
   "source": [
    "all = pd.concat([train, test], axis=0)"
   ]
  },
  {
   "cell_type": "code",
   "execution_count": 7,
   "metadata": {},
   "outputs": [],
   "source": [
    "to_drop = [\"Street\",\"Utilities\",\"MiscFeature\"]\n",
    "all.drop(to_drop, axis=1, inplace=True, errors=\"ignore\")\n",
    "\n",
    "to_replace_to_none = [\"Fence\", \"FireplaceQu\", \"Alley\",\"MasVnrType\",\"BsmtQual\",\"BsmtCond\",\"BsmtExposure\",\"BsmtFinType1\"\n",
    "                     ,\"BsmtFinType2\",\"Electrical\",\"GarageType\",\"GarageFinish\",\"GarageQual\",\"GarageCond\",\"PoolQC\"]\n",
    "for col in to_replace_to_none:\n",
    "    all[col].fillna(\"No\" + col, inplace=True)\n",
    "    \n",
    "#to_replace_to_zero = [\"BsmtFinSF1\", \"BsmtFinSF2\", \"BsmtUnfSF\",\"TotalBsmtSF\",\"BsmtHalfBath\"\n",
    "#                     ,\"MasVnrArea\",\"GarageArea\",\"BsmtFullBath\"]\n",
    "#for col in to_replace_to_zero:\n",
    "#    all[col].fillna(0, inplace=True)\n",
    "    \n",
    "#to_replace_to_avg = [\"LotFrontage\"]\n",
    "#for col in to_replace_to_avg:\n",
    "#    all[col].fillna(all[col].mean(), inplace=True)\n",
    "    \n",
    "all[\"KitchenQual\"].fillna(\"TA\", inplace=True)\n",
    "    \n",
    "all.fillna(0, inplace=True)"
   ]
  },
  {
   "cell_type": "code",
   "execution_count": 8,
   "metadata": {},
   "outputs": [],
   "source": [
    "def binarize(data, columns):\n",
    "    \"\"\"\n",
    "    binarize feature\n",
    "    \n",
    "    data: pd.csv dataset\n",
    "    columns: list of cstegorical columns to process\n",
    "    \"\"\"\n",
    "    binarized_data = data.copy()\n",
    "    for column in columns:\n",
    "        unique_items = set(data[column])\n",
    "        for unique_item in unique_items:\n",
    "            new_column = []\n",
    "            for item in data[column]:\n",
    "                new_column.append(int(item==unique_item))\n",
    "            binarized_data[column+'_'+str(unique_item)] = new_column\n",
    "        binarized_data.drop(column, axis=1, inplace=True)\n",
    "    return binarized_data"
   ]
  },
  {
   "cell_type": "code",
   "execution_count": 9,
   "metadata": {},
   "outputs": [
    {
     "data": {
      "text/html": [
       "<div>\n",
       "<style scoped>\n",
       "    .dataframe tbody tr th:only-of-type {\n",
       "        vertical-align: middle;\n",
       "    }\n",
       "\n",
       "    .dataframe tbody tr th {\n",
       "        vertical-align: top;\n",
       "    }\n",
       "\n",
       "    .dataframe thead th {\n",
       "        text-align: right;\n",
       "    }\n",
       "</style>\n",
       "<table border=\"1\" class=\"dataframe\">\n",
       "  <thead>\n",
       "    <tr style=\"text-align: right;\">\n",
       "      <th></th>\n",
       "      <th>LotArea</th>\n",
       "      <th>LotFrontage</th>\n",
       "      <th>YearBuilt</th>\n",
       "    </tr>\n",
       "  </thead>\n",
       "  <tbody>\n",
       "    <tr>\n",
       "      <th>count</th>\n",
       "      <td>2919.000000</td>\n",
       "      <td>2919.000000</td>\n",
       "      <td>2919.000000</td>\n",
       "    </tr>\n",
       "    <tr>\n",
       "      <th>mean</th>\n",
       "      <td>10168.114080</td>\n",
       "      <td>57.766701</td>\n",
       "      <td>1971.312778</td>\n",
       "    </tr>\n",
       "    <tr>\n",
       "      <th>std</th>\n",
       "      <td>7886.996359</td>\n",
       "      <td>33.481636</td>\n",
       "      <td>30.291442</td>\n",
       "    </tr>\n",
       "    <tr>\n",
       "      <th>min</th>\n",
       "      <td>1300.000000</td>\n",
       "      <td>0.000000</td>\n",
       "      <td>1872.000000</td>\n",
       "    </tr>\n",
       "    <tr>\n",
       "      <th>25%</th>\n",
       "      <td>7478.000000</td>\n",
       "      <td>43.000000</td>\n",
       "      <td>1953.500000</td>\n",
       "    </tr>\n",
       "    <tr>\n",
       "      <th>50%</th>\n",
       "      <td>9453.000000</td>\n",
       "      <td>63.000000</td>\n",
       "      <td>1973.000000</td>\n",
       "    </tr>\n",
       "    <tr>\n",
       "      <th>75%</th>\n",
       "      <td>11570.000000</td>\n",
       "      <td>78.000000</td>\n",
       "      <td>2001.000000</td>\n",
       "    </tr>\n",
       "    <tr>\n",
       "      <th>max</th>\n",
       "      <td>215245.000000</td>\n",
       "      <td>313.000000</td>\n",
       "      <td>2010.000000</td>\n",
       "    </tr>\n",
       "  </tbody>\n",
       "</table>\n",
       "</div>"
      ],
      "text/plain": [
       "             LotArea  LotFrontage    YearBuilt\n",
       "count    2919.000000  2919.000000  2919.000000\n",
       "mean    10168.114080    57.766701  1971.312778\n",
       "std      7886.996359    33.481636    30.291442\n",
       "min      1300.000000     0.000000  1872.000000\n",
       "25%      7478.000000    43.000000  1953.500000\n",
       "50%      9453.000000    63.000000  1973.000000\n",
       "75%     11570.000000    78.000000  2001.000000\n",
       "max    215245.000000   313.000000  2010.000000"
      ]
     },
     "execution_count": 9,
     "metadata": {},
     "output_type": "execute_result"
    }
   ],
   "source": [
    "all[['LotArea', 'LotFrontage', 'YearBuilt']].describe()"
   ]
  },
  {
   "cell_type": "code",
   "execution_count": 10,
   "metadata": {},
   "outputs": [],
   "source": [
    "all = binarize(all, [\"LandContour\",\"LotConfig\",\"LotShape\",\"LandSlope\",\"Neighborhood\",\"BldgType\",\"HouseStyle\", \"ExterQual\"\n",
    "                     ,\"CentralAir\", \"SaleCondition\", \"PavedDrive\", \"KitchenQual\"\n",
    "                    ])"
   ]
  },
  {
   "cell_type": "code",
   "execution_count": 11,
   "metadata": {},
   "outputs": [],
   "source": [
    "categorial = [\"Condition1\", \"Condition2\", \"FireplaceQu\",\"Exterior1st\", \"Exterior2nd\", \"RoofMatl\",\"Alley\"\n",
    "              , \"MasVnrType\",\"ExterCond\",\"RoofStyle\", \"Electrical\", \"Heating\",\"SaleType\", \"HeatingQC\"\n",
    "                  , \"Foundation\", \"BsmtQual\", \"BsmtCond\", \"BsmtFinType1\", \"BsmtFinType2\",\"MSZoning\"\n",
    "                   , \"Functional\", \"GarageFinish\", \"BsmtExposure\",\"GarageType\", \"Fence\"\n",
    "                    , \"GarageQual\", \"GarageCond\"]\n",
    "for col in categorial:\n",
    "    all[col] = all[col].factorize()[0]"
   ]
  },
  {
   "cell_type": "markdown",
   "metadata": {},
   "source": [
    "to_drop = ['GarageArea', 'GarageYrBlt', \"PoolQC\", \"MSSubClass\",\"MoSold\"\n",
    "          , \"Electrical\", \"Heating\", \"Functional\", \"FireplaceQu\"\n",
    "          ,\"SaleType\",\"ScreenPorch\",\"YearRemodAdd\",\"BsmtFullBath\",\"BsmtHalfBath\"\n",
    "          ,\"BsmtFinSF1\",\"BsmtFinSF2\",\"BsmtUnfSF\",\"1stFlrSF\",\"2ndFlrSF\",\"LowQualFinSF\"\n",
    "          , \"GarageCond\", \"WoodDeckSF\", \"OpenPorchSF\", \"EnclosedPorch\", \"3SsnPorch\", \"ScreenPorch\"\n",
    "          #,\"BsmtHalfBath\"\n",
    "          ]\n",
    "all = all.drop(to_drop, axis=1)"
   ]
  },
  {
   "cell_type": "code",
   "execution_count": 12,
   "metadata": {},
   "outputs": [],
   "source": [
    "to_drop = ['GarageArea', 'GarageYrBlt', \"PoolQC\", \"MSSubClass\", \"MoSold\"]\n",
    "all = all.drop(to_drop, axis=1)"
   ]
  },
  {
   "cell_type": "code",
   "execution_count": 13,
   "metadata": {},
   "outputs": [],
   "source": [
    "buck = [\"YearBuilt\",\"GrLivArea\",\"TotalBsmtSF\"        ,\"LotArea\",\"LotFrontage\"\n",
    "       ]\n",
    "coef = [[1850,1940,1960,1980,1990,2000,2005,2100],\n",
    "        [100,500,1000,1500,2000,10000],\n",
    "        [100,500,1000,1500,10000],\n",
    "        [1000,3000,5000,7000,9000,11000,13000,15000,17000,20000,20000000],\n",
    "        [20,50,100,10000]\n",
    "       ]"
   ]
  },
  {
   "cell_type": "code",
   "execution_count": 14,
   "metadata": {},
   "outputs": [],
   "source": [
    "for x in range(len(buck)):\n",
    "    bucketed = np.array(all[buck[x]])\n",
    "    for y in range(len(coef[x])-1):\n",
    "        bucketed[(bucketed >= coef[x][y]) & (bucketed < coef[x][y+1])] = coef[x][y]\n",
    "    all[buck[x]] = bucketed"
   ]
  },
  {
   "cell_type": "code",
   "execution_count": 15,
   "metadata": {},
   "outputs": [],
   "source": [
    "to_flat = [\"TotRmsAbvGrd\",\"HalfBath\",\"BedroomAbvGr\",\"GarageCars\",\"PoolArea\"]#,\"YearBuilt\",\"GrLivArea\",\"LotArea\",\"LotFrontage\"]\n",
    "    #,\"BsmtFullBath\",\"BsmtHalfBath\"]\n",
    "coef = [10,1,4,3,100]#,2015,2500,20000,100]\n",
    "for x in range(len(to_flat)):\n",
    "    flatten = np.array(all[to_flat[x]]) \n",
    "    flatten[flatten >= coef[x]] = coef[x]\n",
    "    all[to_flat[x]] = flatten"
   ]
  },
  {
   "cell_type": "markdown",
   "metadata": {
    "scrolled": true
   },
   "source": [
    "e = pd.Series(train_temp)\n",
    "train_temp = all.iloc[:train.shape[0]].astype('float').assign(e=e.values)\n",
    "corr_matrix1 = train_temp.corr().abs()\n",
    "upper1 = corr_matrix1.where(np.triu(np.ones(corr_matrix1.shape), k=1).astype(np.bool))\n",
    "upper1[\"e\"]"
   ]
  },
  {
   "cell_type": "markdown",
   "metadata": {
    "scrolled": true
   },
   "source": [
    "s1 = upper1[\"SalePrice\"]\n",
    "all = all.drop(s1[s1<0.05].index, axis=1)"
   ]
  },
  {
   "cell_type": "markdown",
   "metadata": {},
   "source": [
    "corr_matrix = all.corr().abs()\n",
    "upper = corr_matrix.where(np.triu(np.ones(corr_matrix.shape), k=1).astype(np.bool))"
   ]
  },
  {
   "cell_type": "code",
   "execution_count": 16,
   "metadata": {},
   "outputs": [],
   "source": [
    "train = all.iloc[:train.shape[0]].astype('float')\n",
    "test = all.iloc[train.shape[0]:].astype('float')"
   ]
  },
  {
   "cell_type": "markdown",
   "metadata": {},
   "source": [
    "Linear Regression"
   ]
  },
  {
   "cell_type": "code",
   "execution_count": 17,
   "metadata": {},
   "outputs": [],
   "source": [
    "import matplotlib.pyplot as plt\n",
    "import numpy as np\n",
    "from sklearn import datasets, linear_model\n",
    "from sklearn.metrics import mean_squared_error, r2_score\n",
    "from sklearn.model_selection import cross_val_score\n",
    "from sklearn.linear_model import LinearRegression\n",
    "from sklearn.linear_model import LogisticRegression"
   ]
  },
  {
   "cell_type": "code",
   "execution_count": 18,
   "metadata": {},
   "outputs": [],
   "source": [
    "def submit(preds):\n",
    "    submission = pd.read_csv(\"sample_submission.csv\")\n",
    "    submission[\"SalePrice\"] = preds\n",
    "    submission.to_csv(\"submission.csv\", index=False)"
   ]
  },
  {
   "cell_type": "code",
   "execution_count": 19,
   "metadata": {},
   "outputs": [],
   "source": [
    "regr = LinearRegression(normalize=True, n_jobs=1)\n",
    "regr.fit(train, np.log1p(labels))\n",
    "preds = regr.predict(test)\n",
    "submit(np.expm1(preds))"
   ]
  },
  {
   "cell_type": "code",
   "execution_count": 20,
   "metadata": {
    "scrolled": true
   },
   "outputs": [
    {
     "name": "stdout",
     "output_type": "stream",
     "text": [
      "Coefficients: \n",
      " [-5.62539692e-04 -2.49603616e-05  6.27731390e-06  1.54862764e-02\n",
      " -7.89034117e-03 -3.07297438e-02  5.56029732e-02  3.75419009e-02\n",
      "  6.43493299e-04  7.73687237e-04  1.94731383e-02 -3.16429794e-02\n",
      "  5.50377258e-04 -1.33711959e-03 -5.55958004e-04 -1.92851634e-05\n",
      " -1.36524987e-02 -1.37139002e-02  6.38464159e-03 -9.54361481e-03\n",
      "  9.62255124e-04 -6.21778284e-03  6.19852720e-06 -2.95215423e-03\n",
      "  3.03824937e-05 -3.74881974e-05  9.87485491e-05 -1.21175292e-02\n",
      " -1.22233774e-02  7.03365217e-03  1.16359508e-04  1.66365070e-04\n",
      "  1.32907785e-04  1.08849508e-04  3.64959766e-02  1.50051562e-02\n",
      "  4.42303193e-02  3.10300631e-02  1.86872099e-03 -7.37993424e-02\n",
      "  9.69185127e-03 -2.64248538e-02  1.71222829e-02  6.50587685e-03\n",
      " -1.04230069e-02  5.20512929e-03  4.95951384e-02  3.29193702e-03\n",
      " -8.61188054e-04  1.09141999e-04  5.62507903e-05  9.46472861e-05\n",
      "  1.86067305e-04  2.85396613e-04 -5.88549991e-04 -5.99743697e-03\n",
      "  3.88135071e-06 -4.03800844e-03  1.05595974e-02 -8.46532482e+10\n",
      " -8.46532482e+10 -8.46532482e+10 -8.46532482e+10  6.10321453e+10\n",
      "  6.10321453e+10  6.10321453e+10  6.10321453e+10  6.10321453e+10\n",
      "  4.34538788e+10  4.34538788e+10  4.34538788e+10  4.34538788e+10\n",
      "  2.19866205e+10  2.19866205e+10  2.19866205e+10  2.60056662e+10\n",
      "  2.60056662e+10  2.60056662e+10  2.60056662e+10  2.60056662e+10\n",
      "  2.60056662e+10  2.60056662e+10  2.60056662e+10  2.60056662e+10\n",
      "  2.60056662e+10  2.60056662e+10  2.60056662e+10  2.60056662e+10\n",
      "  2.60056662e+10  2.60056662e+10  2.60056662e+10  2.60056662e+10\n",
      "  2.60056662e+10  2.60056662e+10  2.60056662e+10  2.60056662e+10\n",
      "  2.60056662e+10  2.60056662e+10  2.60056662e+10  2.60056662e+10\n",
      " -9.93745894e+10 -9.93745894e+10 -9.93745894e+10 -9.93745894e+10\n",
      " -9.93745894e+10 -4.02873914e+10 -4.02873914e+10 -4.02873914e+10\n",
      " -4.02873914e+10 -4.02873914e+10 -4.02873914e+10 -4.02873914e+10\n",
      " -4.02873914e+10  5.59790286e+10  5.59790286e+10  5.59790286e+10\n",
      "  5.59790286e+10  4.34376202e+10  4.34376202e+10  8.67636219e+10\n",
      "  8.67636219e+10  8.67636219e+10  8.67636219e+10  8.67636219e+10\n",
      "  8.67636219e+10  3.04390513e+11  3.04390513e+11  3.04390513e+11\n",
      "  8.31096707e+10  8.31096707e+10  8.31096707e+10  8.31096707e+10]\n"
     ]
    }
   ],
   "source": [
    "print('Coefficients: \\n', regr.coef_)"
   ]
  },
  {
   "cell_type": "code",
   "execution_count": 21,
   "metadata": {},
   "outputs": [],
   "source": [
    "from sklearn.model_selection import KFold\n",
    "\n",
    "cv = KFold(n_splits=7, random_state=0)"
   ]
  },
  {
   "cell_type": "code",
   "execution_count": 22,
   "metadata": {
    "scrolled": true
   },
   "outputs": [
    {
     "name": "stderr",
     "output_type": "stream",
     "text": [
      "C:\\Users\\ManaUlcho\\Anaconda3\\lib\\site-packages\\sklearn\\metrics\\scorer.py:100: DeprecationWarning: Scoring method mean_squared_error was renamed to neg_mean_squared_error in version 0.18 and will be removed in 0.20.\n",
      "  sample_weight=sample_weight)\n",
      "C:\\Users\\ManaUlcho\\Anaconda3\\lib\\site-packages\\sklearn\\metrics\\scorer.py:100: DeprecationWarning: Scoring method mean_squared_error was renamed to neg_mean_squared_error in version 0.18 and will be removed in 0.20.\n",
      "  sample_weight=sample_weight)\n",
      "C:\\Users\\ManaUlcho\\Anaconda3\\lib\\site-packages\\sklearn\\metrics\\scorer.py:100: DeprecationWarning: Scoring method mean_squared_error was renamed to neg_mean_squared_error in version 0.18 and will be removed in 0.20.\n",
      "  sample_weight=sample_weight)\n",
      "C:\\Users\\ManaUlcho\\Anaconda3\\lib\\site-packages\\sklearn\\metrics\\scorer.py:100: DeprecationWarning: Scoring method mean_squared_error was renamed to neg_mean_squared_error in version 0.18 and will be removed in 0.20.\n",
      "  sample_weight=sample_weight)\n",
      "C:\\Users\\ManaUlcho\\Anaconda3\\lib\\site-packages\\sklearn\\metrics\\scorer.py:100: DeprecationWarning: Scoring method mean_squared_error was renamed to neg_mean_squared_error in version 0.18 and will be removed in 0.20.\n",
      "  sample_weight=sample_weight)\n",
      "C:\\Users\\ManaUlcho\\Anaconda3\\lib\\site-packages\\sklearn\\metrics\\scorer.py:100: DeprecationWarning: Scoring method mean_squared_error was renamed to neg_mean_squared_error in version 0.18 and will be removed in 0.20.\n",
      "  sample_weight=sample_weight)\n",
      "C:\\Users\\ManaUlcho\\Anaconda3\\lib\\site-packages\\sklearn\\metrics\\scorer.py:100: DeprecationWarning: Scoring method mean_squared_error was renamed to neg_mean_squared_error in version 0.18 and will be removed in 0.20.\n",
      "  sample_weight=sample_weight)\n"
     ]
    }
   ],
   "source": [
    "from sklearn.model_selection import cross_val_score\n",
    "t = cross_val_score(regr, train, np.log1p(labels), scoring=\"mean_squared_error\", cv=cv).mean()"
   ]
  },
  {
   "cell_type": "code",
   "execution_count": 23,
   "metadata": {},
   "outputs": [
    {
     "name": "stdout",
     "output_type": "stream",
     "text": [
      "-1899\n"
     ]
    }
   ],
   "source": [
    "print(int(100000*t))"
   ]
  },
  {
   "attachments": {
    "image.png": {
     "image/png": "[encoded data removed]"
    }
   },
   "cell_type": "markdown",
   "metadata": {},
   "source": [
    "Результат на Kaggle для линейной регрессии - 0.12853\n",
    "https://www.kaggle.com/pavelkuleshov\n",
    "![image.png](attachment:image.png)"
   ]
  },
  {
   "cell_type": "markdown",
   "metadata": {},
   "source": [
    "DecisionTreeRegressor"
   ]
  },
  {
   "cell_type": "code",
   "execution_count": 24,
   "metadata": {},
   "outputs": [],
   "source": [
    "import numpy as np\n",
    "from sklearn.tree import DecisionTreeRegressor\n",
    "import matplotlib.pyplot as plt"
   ]
  },
  {
   "cell_type": "code",
   "execution_count": 25,
   "metadata": {},
   "outputs": [
    {
     "data": {
      "text/plain": [
       "DecisionTreeRegressor(criterion='mse', max_depth=5, max_features=None,\n",
       "           max_leaf_nodes=None, min_impurity_decrease=0.0,\n",
       "           min_impurity_split=None, min_samples_leaf=1,\n",
       "           min_samples_split=2, min_weight_fraction_leaf=0.0,\n",
       "           presort=False, random_state=10, splitter='best')"
      ]
     },
     "execution_count": 25,
     "metadata": {},
     "output_type": "execute_result"
    }
   ],
   "source": [
    "regr_1 = DecisionTreeRegressor(max_depth=3, random_state=10)\n",
    "regr_2 = DecisionTreeRegressor(max_depth=5, random_state=10)\n",
    "regr_1.fit(train, np.log1p(labels))\n",
    "regr_2.fit(train, np.log1p(labels))"
   ]
  },
  {
   "cell_type": "code",
   "execution_count": 26,
   "metadata": {},
   "outputs": [
    {
     "name": "stdout",
     "output_type": "stream",
     "text": [
      "-0.05040087590803382\n",
      "-0.04085390957333702\n"
     ]
    },
    {
     "name": "stderr",
     "output_type": "stream",
     "text": [
      "C:\\Users\\ManaUlcho\\Anaconda3\\lib\\site-packages\\sklearn\\metrics\\scorer.py:100: DeprecationWarning: Scoring method mean_squared_error was renamed to neg_mean_squared_error in version 0.18 and will be removed in 0.20.\n",
      "  sample_weight=sample_weight)\n",
      "C:\\Users\\ManaUlcho\\Anaconda3\\lib\\site-packages\\sklearn\\metrics\\scorer.py:100: DeprecationWarning: Scoring method mean_squared_error was renamed to neg_mean_squared_error in version 0.18 and will be removed in 0.20.\n",
      "  sample_weight=sample_weight)\n",
      "C:\\Users\\ManaUlcho\\Anaconda3\\lib\\site-packages\\sklearn\\metrics\\scorer.py:100: DeprecationWarning: Scoring method mean_squared_error was renamed to neg_mean_squared_error in version 0.18 and will be removed in 0.20.\n",
      "  sample_weight=sample_weight)\n",
      "C:\\Users\\ManaUlcho\\Anaconda3\\lib\\site-packages\\sklearn\\metrics\\scorer.py:100: DeprecationWarning: Scoring method mean_squared_error was renamed to neg_mean_squared_error in version 0.18 and will be removed in 0.20.\n",
      "  sample_weight=sample_weight)\n",
      "C:\\Users\\ManaUlcho\\Anaconda3\\lib\\site-packages\\sklearn\\metrics\\scorer.py:100: DeprecationWarning: Scoring method mean_squared_error was renamed to neg_mean_squared_error in version 0.18 and will be removed in 0.20.\n",
      "  sample_weight=sample_weight)\n",
      "C:\\Users\\ManaUlcho\\Anaconda3\\lib\\site-packages\\sklearn\\metrics\\scorer.py:100: DeprecationWarning: Scoring method mean_squared_error was renamed to neg_mean_squared_error in version 0.18 and will be removed in 0.20.\n",
      "  sample_weight=sample_weight)\n",
      "C:\\Users\\ManaUlcho\\Anaconda3\\lib\\site-packages\\sklearn\\metrics\\scorer.py:100: DeprecationWarning: Scoring method mean_squared_error was renamed to neg_mean_squared_error in version 0.18 and will be removed in 0.20.\n",
      "  sample_weight=sample_weight)\n",
      "C:\\Users\\ManaUlcho\\Anaconda3\\lib\\site-packages\\sklearn\\metrics\\scorer.py:100: DeprecationWarning: Scoring method mean_squared_error was renamed to neg_mean_squared_error in version 0.18 and will be removed in 0.20.\n",
      "  sample_weight=sample_weight)\n",
      "C:\\Users\\ManaUlcho\\Anaconda3\\lib\\site-packages\\sklearn\\metrics\\scorer.py:100: DeprecationWarning: Scoring method mean_squared_error was renamed to neg_mean_squared_error in version 0.18 and will be removed in 0.20.\n",
      "  sample_weight=sample_weight)\n",
      "C:\\Users\\ManaUlcho\\Anaconda3\\lib\\site-packages\\sklearn\\metrics\\scorer.py:100: DeprecationWarning: Scoring method mean_squared_error was renamed to neg_mean_squared_error in version 0.18 and will be removed in 0.20.\n",
      "  sample_weight=sample_weight)\n",
      "C:\\Users\\ManaUlcho\\Anaconda3\\lib\\site-packages\\sklearn\\metrics\\scorer.py:100: DeprecationWarning: Scoring method mean_squared_error was renamed to neg_mean_squared_error in version 0.18 and will be removed in 0.20.\n",
      "  sample_weight=sample_weight)\n",
      "C:\\Users\\ManaUlcho\\Anaconda3\\lib\\site-packages\\sklearn\\metrics\\scorer.py:100: DeprecationWarning: Scoring method mean_squared_error was renamed to neg_mean_squared_error in version 0.18 and will be removed in 0.20.\n",
      "  sample_weight=sample_weight)\n",
      "C:\\Users\\ManaUlcho\\Anaconda3\\lib\\site-packages\\sklearn\\metrics\\scorer.py:100: DeprecationWarning: Scoring method mean_squared_error was renamed to neg_mean_squared_error in version 0.18 and will be removed in 0.20.\n",
      "  sample_weight=sample_weight)\n",
      "C:\\Users\\ManaUlcho\\Anaconda3\\lib\\site-packages\\sklearn\\metrics\\scorer.py:100: DeprecationWarning: Scoring method mean_squared_error was renamed to neg_mean_squared_error in version 0.18 and will be removed in 0.20.\n",
      "  sample_weight=sample_weight)\n"
     ]
    }
   ],
   "source": [
    "print(cross_val_score(regr_1, train, np.log1p(labels), scoring=\"mean_squared_error\", cv=cv).mean())\n",
    "print(cross_val_score(regr_2, train, np.log1p(labels), scoring=\"mean_squared_error\", cv=cv).mean())"
   ]
  },
  {
   "cell_type": "code",
   "execution_count": 27,
   "metadata": {},
   "outputs": [],
   "source": [
    "preds = regr_2.predict(test)\n",
    "submit(np.expm1(preds))"
   ]
  },
  {
   "cell_type": "markdown",
   "metadata": {},
   "source": [
    "RandomForest"
   ]
  },
  {
   "cell_type": "code",
   "execution_count": 28,
   "metadata": {},
   "outputs": [],
   "source": [
    "import numpy as np\n",
    "from sklearn.ensemble import RandomForestClassifier\n",
    "from sklearn import datasets\n",
    "from sklearn.model_selection import train_test_split\n",
    "from sklearn.feature_selection import SelectFromModel\n",
    "from sklearn.metrics import accuracy_score\n",
    "\n",
    "rf = RandomForestClassifier(n_estimators=100)"
   ]
  },
  {
   "cell_type": "code",
   "execution_count": 29,
   "metadata": {
    "scrolled": true
   },
   "outputs": [
    {
     "data": {
      "image/png": "[encoded data removed]",
      "text/plain": [
       "<matplotlib.figure.Figure at 0x22200d28fd0>"
      ]
     },
     "metadata": {},
     "output_type": "display_data"
    }
   ],
   "source": [
    "rf.fit(train, labels)\n",
    "\n",
    "importances = rf.feature_importances_\n",
    "std = np.std([tree.feature_importances_ for tree in rf.estimators_], axis=0)\n",
    "indices = np.argsort(importances)[::-1]\n",
    "\n",
    "plt.figure(figsize=(20, 8))\n",
    "plt.title(\"Feature importances\")\n",
    "plt.bar(range(train.shape[1]), importances[indices],\n",
    "       color=\"r\", yerr=std[indices], align=\"center\")\n",
    "plt.xticks(range(train.shape[1]), train.columns[indices])\n",
    "plt.xlim([-1, train.shape[1]])\n",
    "plt.show()"
   ]
  },
  {
   "cell_type": "code",
   "execution_count": 30,
   "metadata": {},
   "outputs": [
    {
     "name": "stdout",
     "output_type": "stream",
     "text": [
      "('MSZoning', 0.00795401821138725)\n",
      "('LotFrontage', 0.014290628668973033)\n",
      "('LotArea', 0.025306813789255336)\n",
      "('Alley', 0.003949931329169289)\n",
      "('Condition1', 0.009316324056512271)\n",
      "('Condition2', 0.0009084206885571601)\n",
      "('OverallQual', 0.018772592049625805)\n",
      "('OverallCond', 0.01677632197016996)\n",
      "('YearBuilt', 0.01662886009666109)\n",
      "('YearRemodAdd', 0.03324310970496342)\n",
      "('RoofStyle', 0.0098346767481576)\n",
      "('RoofMatl', 0.0014568717541281562)\n",
      "('Exterior1st', 0.018815769195829554)\n",
      "('Exterior2nd', 0.020185440207127772)\n",
      "('MasVnrType', 0.013346892113395426)\n",
      "('MasVnrArea', 0.022410197596194736)\n",
      "('ExterCond', 0.006967388527669903)\n",
      "('Foundation', 0.009312515471591079)\n",
      "('BsmtQual', 0.010243958692302546)\n",
      "('BsmtCond', 0.006678918686889291)\n",
      "('BsmtExposure', 0.014565856030991454)\n",
      "('BsmtFinType1', 0.02036786398799819)\n",
      "('BsmtFinSF1', 0.03392806036016078)\n",
      "('BsmtFinType2', 0.007702948327067764)\n",
      "('BsmtFinSF2', 0.009437035933440106)\n",
      "('BsmtUnfSF', 0.038999485699839666)\n",
      "('TotalBsmtSF', 0.012646647285241336)\n",
      "('Heating', 0.0016689742799727372)\n",
      "('HeatingQC', 0.014216810895785009)\n",
      "('Electrical', 0.004393109489570068)\n",
      "('1stFlrSF', 0.042556388443850277)\n",
      "('2ndFlrSF', 0.021896314308047914)\n",
      "('LowQualFinSF', 0.002180086738659331)\n",
      "('GrLivArea', 0.014512626607472505)\n",
      "('BsmtFullBath', 0.010323828821434013)\n",
      "('BsmtHalfBath', 0.003762458337536194)\n",
      "('FullBath', 0.007445854793824768)\n",
      "('HalfBath', 0.007994158953258874)\n",
      "('BedroomAbvGr', 0.014401409141021624)\n",
      "('KitchenAbvGr', 0.002128843937009982)\n",
      "('TotRmsAbvGrd', 0.023003694638492535)\n",
      "('Functional', 0.00493028427145855)\n",
      "('Fireplaces', 0.012027610228333239)\n",
      "('FireplaceQu', 0.014860800356709886)\n",
      "('GarageType', 0.012023777122103159)\n",
      "('GarageFinish', 0.014386925590287076)\n",
      "('GarageCars', 0.01082994213359726)\n",
      "('GarageQual', 0.004617234820291722)\n",
      "('GarageCond', 0.004557504620116392)\n",
      "('WoodDeckSF', 0.027181499710015197)\n",
      "('OpenPorchSF', 0.02838823201930004)\n",
      "('EnclosedPorch', 0.010302044023437523)\n",
      "('3SsnPorch', 0.0030299024570033615)\n",
      "('ScreenPorch', 0.007808582122079727)\n",
      "('PoolArea', 0.0005904215186820277)\n",
      "('Fence', 0.010825587261010636)\n",
      "('MiscVal', 0.004179611357639228)\n",
      "('YrSold', 0.025162977601132275)\n",
      "('SaleType', 0.008077550783743307)\n",
      "('LandContour_Lvl', 0.004264527283311528)\n",
      "('LandContour_Bnk', 0.002685162806629362)\n",
      "('LandContour_Low', 0.0017243527728604219)\n",
      "('LandContour_HLS', 0.002625940280301442)\n",
      "('LotConfig_CulDSac', 0.004624020268061731)\n",
      "('LotConfig_Corner', 0.008256271500901554)\n",
      "('LotConfig_FR3', 0.0005563007896162515)\n",
      "('LotConfig_Inside', 0.009648830274638243)\n",
      "('LotConfig_FR2', 0.002919557455973179)\n",
      "('LotShape_IR3', 0.0008753899995550884)\n",
      "('LotShape_IR2', 0.0022695402483873953)\n",
      "('LotShape_Reg', 0.008506270418087823)\n",
      "('LotShape_IR1', 0.009930537122390169)\n",
      "('LandSlope_Mod', 0.003056594864206904)\n",
      "('LandSlope_Gtl', 0.0025583544144472826)\n",
      "('LandSlope_Sev', 0.000838946530013742)\n",
      "('Neighborhood_Blueste', 0.00019286392962705875)\n",
      "('Neighborhood_CollgCr', 0.005890309260581861)\n",
      "('Neighborhood_StoneBr', 0.001409449384549422)\n",
      "('Neighborhood_MeadowV', 0.0007157072123063154)\n",
      "('Neighborhood_Somerst', 0.002917209486180633)\n",
      "('Neighborhood_Timber', 0.0023559874408002265)\n",
      "('Neighborhood_SawyerW', 0.003140581226241477)\n",
      "('Neighborhood_Blmngtn', 0.00089519968780491)\n",
      "('Neighborhood_NridgHt', 0.0027853300438343983)\n",
      "('Neighborhood_IDOTRR', 0.00211946964780196)\n",
      "('Neighborhood_Edwards', 0.004133603762188258)\n",
      "('Neighborhood_Veenker', 0.0009735075999927002)\n",
      "('Neighborhood_Sawyer', 0.0038934870429654365)\n",
      "('Neighborhood_OldTown', 0.0033923580671407203)\n",
      "('Neighborhood_NPkVill', 0.0006064469519248109)\n",
      "('Neighborhood_NoRidge', 0.0017652768134578658)\n",
      "('Neighborhood_ClearCr', 0.0013352193594019395)\n",
      "('Neighborhood_SWISU', 0.0013148836873380452)\n",
      "('Neighborhood_Mitchel', 0.0028292204206239024)\n",
      "('Neighborhood_NWAmes', 0.002902077507494908)\n",
      "('Neighborhood_Gilbert', 0.0031417907570771893)\n",
      "('Neighborhood_BrkSide', 0.002612596789366373)\n",
      "('Neighborhood_NAmes', 0.005478126432135376)\n",
      "('Neighborhood_Crawfor', 0.002647555198876929)\n",
      "('Neighborhood_BrDale', 0.0006622254603489379)\n",
      "('BldgType_Twnhs', 0.0018805000067019474)\n",
      "('BldgType_2fmCon', 0.0013472227672044182)\n",
      "('BldgType_1Fam', 0.004491958715220564)\n",
      "('BldgType_Duplex', 0.0016520784974046031)\n",
      "('BldgType_TwnhsE', 0.0032699995920683583)\n",
      "('HouseStyle_1Story', 0.007339921156105328)\n",
      "('HouseStyle_SLvl', 0.0031159968705130204)\n",
      "('HouseStyle_2.5Unf', 0.0007971237069176024)\n",
      "('HouseStyle_2.5Fin', 0.0005178465702885787)\n",
      "('HouseStyle_1.5Fin', 0.00418747497455718)\n",
      "('HouseStyle_1.5Unf', 0.001041315520245674)\n",
      "('HouseStyle_2Story', 0.006310974342110453)\n",
      "('HouseStyle_SFoyer', 0.0016755130141600791)\n",
      "('ExterQual_TA', 0.004078977830992873)\n",
      "('ExterQual_Gd', 0.004994565845812461)\n",
      "('ExterQual_Ex', 0.0014858930523189537)\n",
      "('ExterQual_Fa', 0.0005610118585922145)\n",
      "('CentralAir_Y', 0.0020394531255599354)\n",
      "('CentralAir_N', 0.002367760060182447)\n",
      "('SaleCondition_AdjLand', 0.00041598839072649755)\n",
      "('SaleCondition_Family', 0.0017022223934780858)\n",
      "('SaleCondition_Normal', 0.007225376634111657)\n",
      "('SaleCondition_Abnorml', 0.004222780078969423)\n",
      "('SaleCondition_Alloca', 0.0006583710371392632)\n",
      "('SaleCondition_Partial', 0.003358601516365671)\n",
      "('PavedDrive_P', 0.0018604270618492805)\n",
      "('PavedDrive_Y', 0.003196683216031683)\n",
      "('PavedDrive_N', 0.002457646681971656)\n",
      "('KitchenQual_TA', 0.0062872888209198775)\n",
      "('KitchenQual_Gd', 0.006901296301823717)\n",
      "('KitchenQual_Ex', 0.0029446207190044803)\n",
      "('KitchenQual_Fa', 0.0018494348750318647)\n"
     ]
    }
   ],
   "source": [
    "for feature in zip(train.columns, rf.feature_importances_):\n",
    "    print(feature)"
   ]
  },
  {
   "cell_type": "code",
   "execution_count": 31,
   "metadata": {},
   "outputs": [],
   "source": [
    "rr = np.array(train.columns)\n",
    "rrr = np.stack((rf.feature_importances_,rr), axis=-1)\n",
    "rrr = np.sort(rrr, axis=0,)"
   ]
  },
  {
   "cell_type": "code",
   "execution_count": 32,
   "metadata": {},
   "outputs": [],
   "source": [
    "dr = []\n",
    "for i in range(50):\n",
    "    dr.append(rrr[len(rrr)-1-i,1])"
   ]
  },
  {
   "cell_type": "code",
   "execution_count": 33,
   "metadata": {},
   "outputs": [],
   "source": [
    "train = train[dr]\n",
    "test = test[dr]"
   ]
  },
  {
   "cell_type": "code",
   "execution_count": 34,
   "metadata": {},
   "outputs": [
    {
     "name": "stderr",
     "output_type": "stream",
     "text": [
      "C:\\Users\\ManaUlcho\\Anaconda3\\lib\\site-packages\\sklearn\\cross_validation.py:41: DeprecationWarning: This module was deprecated in version 0.18 in favor of the model_selection module into which all the refactored classes and functions are moved. Also note that the interface of the new CV iterators are different from that of this module. This module will be removed in 0.20.\n",
      "  \"This module will be removed in 0.20.\", DeprecationWarning)\n",
      "C:\\Users\\ManaUlcho\\Anaconda3\\lib\\site-packages\\sklearn\\grid_search.py:42: DeprecationWarning: This module was deprecated in version 0.18 in favor of the model_selection module into which all the refactored classes and functions are moved. This module will be removed in 0.20.\n",
      "  DeprecationWarning)\n",
      "C:\\Users\\ManaUlcho\\Anaconda3\\lib\\site-packages\\sklearn\\cross_validation.py:553: Warning: The least populated class in y has only 1 members, which is too few. The minimum number of labels for any class cannot be less than n_folds=3.\n",
      "  % (min_labels, self.n_folds)), Warning)\n"
     ]
    },
    {
     "name": "stdout",
     "output_type": "stream",
     "text": [
      "Fitting 3 folds for each of 3 candidates, totalling 9 fits\n"
     ]
    },
    {
     "name": "stderr",
     "output_type": "stream",
     "text": [
      "[Parallel(n_jobs=1)]: Done   9 out of   9 | elapsed:   23.2s finished\n"
     ]
    },
    {
     "data": {
      "text/plain": [
       "GridSearchCV(cv=3, error_score='raise',\n",
       "       estimator=RandomForestClassifier(bootstrap=True, class_weight=None, criterion='gini',\n",
       "            max_depth=None, max_features='auto', max_leaf_nodes=None,\n",
       "            min_impurity_decrease=0.0, min_impurity_split=None,\n",
       "            min_samples_leaf=1, min_samples_split=2,\n",
       "            min_weight_fraction_leaf=0.0, n_estimators=100, n_jobs=1,\n",
       "            oob_score=False, random_state=None, verbose=0,\n",
       "            warm_start=False),\n",
       "       fit_params={}, iid=True, n_jobs=1,\n",
       "       param_grid={'n_estimators': [50, 100, 500]},\n",
       "       pre_dispatch='2*n_jobs', refit=True, scoring='accuracy', verbose=1)"
      ]
     },
     "execution_count": 34,
     "metadata": {},
     "output_type": "execute_result"
    }
   ],
   "source": [
    "from sklearn.grid_search import GridSearchCV\n",
    "\n",
    "rf = RandomForestClassifier(n_estimators=100, bootstrap=True)\n",
    "params = {\n",
    "    'n_estimators': [50, 100, 500]\n",
    "}\n",
    "gsv = GridSearchCV(estimator=rf, param_grid=params, scoring='accuracy', cv=3, verbose=1)\n",
    "gsv.fit(train, labels)"
   ]
  },
  {
   "cell_type": "code",
   "execution_count": 35,
   "metadata": {},
   "outputs": [
    {
     "name": "stdout",
     "output_type": "stream",
     "text": [
      "{'n_estimators': 500} 0.017123287671232876\n"
     ]
    }
   ],
   "source": [
    "print(gsv.best_params_, gsv.best_score_)"
   ]
  },
  {
   "cell_type": "code",
   "execution_count": 36,
   "metadata": {},
   "outputs": [],
   "source": [
    "preds = gsv.predict(test)\n",
    "submit(preds)"
   ]
  },
  {
   "cell_type": "code",
   "execution_count": 37,
   "metadata": {},
   "outputs": [
    {
     "data": {
      "text/plain": [
       "0.9945205479452055"
      ]
     },
     "execution_count": 37,
     "metadata": {},
     "output_type": "execute_result"
    }
   ],
   "source": [
    "gsv.score(train,labels)"
   ]
  },
  {
   "cell_type": "code",
   "execution_count": null,
   "metadata": {
    "scrolled": true
   },
   "outputs": [],
   "source": [
    "cross_val_score(gsv, train, labels, scoring='accuracy')"
   ]
  },
  {
   "cell_type": "markdown",
   "metadata": {},
   "source": [
    "GradientBoostingRegressor"
   ]
  },
  {
   "cell_type": "code",
   "execution_count": 24,
   "metadata": {},
   "outputs": [],
   "source": [
    "import numpy as np\n",
    "import matplotlib.pyplot as plt\n",
    "\n",
    "from sklearn import ensemble\n",
    "from sklearn import datasets\n",
    "from sklearn.utils import shuffle\n",
    "from sklearn.metrics import mean_squared_error"
   ]
  },
  {
   "cell_type": "code",
   "execution_count": 25,
   "metadata": {
    "scrolled": false
   },
   "outputs": [
    {
     "name": "stderr",
     "output_type": "stream",
     "text": [
      "C:\\Users\\ManaUlcho\\Anaconda3\\lib\\site-packages\\sklearn\\metrics\\scorer.py:100: DeprecationWarning: Scoring method mean_squared_error was renamed to neg_mean_squared_error in version 0.18 and will be removed in 0.20.\n",
      "  sample_weight=sample_weight)\n",
      "C:\\Users\\ManaUlcho\\Anaconda3\\lib\\site-packages\\sklearn\\metrics\\scorer.py:100: DeprecationWarning: Scoring method mean_squared_error was renamed to neg_mean_squared_error in version 0.18 and will be removed in 0.20.\n",
      "  sample_weight=sample_weight)\n",
      "C:\\Users\\ManaUlcho\\Anaconda3\\lib\\site-packages\\sklearn\\metrics\\scorer.py:100: DeprecationWarning: Scoring method mean_squared_error was renamed to neg_mean_squared_error in version 0.18 and will be removed in 0.20.\n",
      "  sample_weight=sample_weight)\n",
      "C:\\Users\\ManaUlcho\\Anaconda3\\lib\\site-packages\\sklearn\\metrics\\scorer.py:100: DeprecationWarning: Scoring method mean_squared_error was renamed to neg_mean_squared_error in version 0.18 and will be removed in 0.20.\n",
      "  sample_weight=sample_weight)\n",
      "C:\\Users\\ManaUlcho\\Anaconda3\\lib\\site-packages\\sklearn\\metrics\\scorer.py:100: DeprecationWarning: Scoring method mean_squared_error was renamed to neg_mean_squared_error in version 0.18 and will be removed in 0.20.\n",
      "  sample_weight=sample_weight)\n",
      "C:\\Users\\ManaUlcho\\Anaconda3\\lib\\site-packages\\sklearn\\metrics\\scorer.py:100: DeprecationWarning: Scoring method mean_squared_error was renamed to neg_mean_squared_error in version 0.18 and will be removed in 0.20.\n",
      "  sample_weight=sample_weight)\n"
     ]
    },
    {
     "name": "stdout",
     "output_type": "stream",
     "text": [
      "-0.01831158005997367\n"
     ]
    },
    {
     "name": "stderr",
     "output_type": "stream",
     "text": [
      "C:\\Users\\ManaUlcho\\Anaconda3\\lib\\site-packages\\sklearn\\metrics\\scorer.py:100: DeprecationWarning: Scoring method mean_squared_error was renamed to neg_mean_squared_error in version 0.18 and will be removed in 0.20.\n",
      "  sample_weight=sample_weight)\n"
     ]
    }
   ],
   "source": [
    "params = {'n_estimators': 500, 'max_depth': 4, 'min_samples_split': 2,\n",
    "          'learning_rate': 0.01, 'loss': 'ls'}\n",
    "clf = ensemble.GradientBoostingRegressor(**params)\n",
    "\n",
    "clf.fit(train, labels)\n",
    "print(cross_val_score(clf, train, np.log1p(labels), scoring=\"mean_squared_error\", cv=cv).mean())"
   ]
  },
  {
   "cell_type": "code",
   "execution_count": 26,
   "metadata": {},
   "outputs": [],
   "source": [
    "preds = clf.predict(test)\n",
    "submit(preds)"
   ]
  },
  {
   "cell_type": "code",
   "execution_count": 27,
   "metadata": {},
   "outputs": [
    {
     "data": {
      "image/png": "[encoded data removed]",
      "text/plain": [
       "<matplotlib.figure.Figure at 0x1edba55e940>"
      ]
     },
     "metadata": {},
     "output_type": "display_data"
    }
   ],
   "source": [
    "# Plot feature importance\n",
    "feature_importance = clf.feature_importances_\n",
    "# make importances relative to max importance\n",
    "feature_importance = 100.0 * (feature_importance / feature_importance.max())\n",
    "sorted_idx = np.argsort(feature_importance)\n",
    "pos = np.arange(sorted_idx.shape[0]) + .5\n",
    "plt.subplot(1, 2, 2)\n",
    "plt.barh(pos, feature_importance[sorted_idx], align='center')\n",
    "plt.yticks(pos, train.columns[sorted_idx])\n",
    "plt.xlabel('Relative Importance')\n",
    "plt.title('Variable Importance')\n",
    "plt.show()"
   ]
  },
  {
   "cell_type": "code",
   "execution_count": null,
   "metadata": {},
   "outputs": [],
   "source": [
    "rr = np.array(train.columns[sorted_idx])"
   ]
  },
  {
   "cell_type": "code",
   "execution_count": null,
   "metadata": {},
   "outputs": [],
   "source": [
    "dr = []\n",
    "for i in range(50):\n",
    "    dr.append(rr[len(rr)-1-i])"
   ]
  },
  {
   "cell_type": "code",
   "execution_count": null,
   "metadata": {},
   "outputs": [],
   "source": [
    "train = train[dr]\n",
    "test = test[dr]"
   ]
  },
  {
   "cell_type": "markdown",
   "metadata": {},
   "source": [
    "В итоге, остальные виды моделей дали результат хуже, чем линейная регрессия."
   ]
  }
 ],
 "metadata": {
  "kernelspec": {
   "display_name": "Python 3",
   "language": "python",
   "name": "python3"
  },
  "language_info": {
   "codemirror_mode": {
    "name": "ipython",
    "version": 3
   },
   "file_extension": ".py",
   "mimetype": "text/x-python",
   "name": "python",
   "nbconvert_exporter": "python",
   "pygments_lexer": "ipython3",
   "version": "3.6.4"
  }
 },
 "nbformat": 4,
 "nbformat_minor": 2
}
