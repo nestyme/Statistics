{
 "cells": [
  {
   "cell_type": "markdown",
   "metadata": {},
   "source": [
    "## Домашнее задание 2\n",
    "\n",
    "Дедлайн — ***6.09.18 12:00***. \n",
    "\n",
    "Выполненные задания можно присылать на почту zueva.nn@phystech.edu либо загружать в папку в своем репозитории.\n",
    "\n",
    "В этом задании предлагается продолжить то, что мы начали делать на семинаре — принять участие в соревновании на платформе 'Kaggle'!\n",
    "\n",
    "Мы будем работать с  уже знакомым нам соревнованием **House Prices: Advanced Regression Techniques**: \n",
    "\n",
    "https://www.kaggle.com/c/house-prices-advanced-regression-techniques\n",
    "\n",
    "Задачей является предсказание цены дома по большому набору фич. Вам необходимо обучиться на `train.csv` и отправить свои предсказания для данных, которые лежат в `test.csv`. Все данные находятся в папке **Seminars/Seminar2**. Там же можно найти `baseline solutions` — базовые и простые решения без особых надстроек.\n"
   ]
  },
  {
   "cell_type": "markdown",
   "metadata": {},
   "source": [
    "### Часть 1\n",
    "\n",
    "1. Если вы еще не зарегистрированы на платформе `Kaggle`, то это можно сделать здесь: www.kaggle.com.\n",
    "   Регистрация нужна для того, чтобы Ваши посылки были привязаны к конкретному аккаунту. \n",
    "2. После регистрации на ресурсе нужно стать участником соревнования: https://www.kaggle.com/c/house-prices-advanced-regression-techniques\n",
    "3. После того, как вы зарегистрировались на участие в конкретном соревновании, вы готовы работать с данными. Обычно их можно скачать в разделе `Data`, но данные оттуда уже лежат в папке **Seminars/Seminar2**."
   ]
  },
  {
   "cell_type": "markdown",
   "metadata": {},
   "source": [
    "### Часть 2\n",
    "\n",
    "Как только вы зарегистрировались и скачали данные, можно приступать к работе с ними.\n",
    "1. Загрузите данные с помощью функций из пакета `Pandas` read_csv(). Обратите внимание на параметры — если у данных в первой строке стоят названия столбцов, то параметр **Header** нужно сделать истинным. Если данные вводятся через запятую, то параметру **sep** (separator) нужно передать символ `,`. Подробнее про параметры read_csv можно почитать здесь: https://pandas.pydata.org/pandas-docs/stable/generated/pandas.read_csv.html. Как видите, их очень много и чтение файла можно настроить очень тонко"
   ]
  },
  {
   "cell_type": "code",
   "execution_count": 1,
   "metadata": {},
   "outputs": [],
   "source": [
    "import pandas as pd\n",
    "import numpy as np\n",
    "import matplotlib\n",
    "import matplotlib.pyplot as plt\n",
    "import seaborn as sns\n",
    "from scipy.stats import skew\n",
    "from scipy.stats.stats import pearsonr"
   ]
  },
  {
   "cell_type": "code",
   "execution_count": 2,
   "metadata": {},
   "outputs": [
    {
     "ename": "FileNotFoundError",
     "evalue": "File b'C:/Users/1/lesson_py/Sberbank_ML-master/Sberbank_ML-master/Hometasks/Hometask_2/train.csv' does not exist",
     "output_type": "error",
     "traceback": [
      "\u001b[0;31m---------------------------------------------------------------------------\u001b[0m",
      "\u001b[0;31mFileNotFoundError\u001b[0m                         Traceback (most recent call last)",
      "\u001b[0;32m<ipython-input-2-bf7b4734eb0f>\u001b[0m in \u001b[0;36m<module>\u001b[0;34m()\u001b[0m\n\u001b[0;32m----> 1\u001b[0;31m \u001b[0mtrain\u001b[0m \u001b[0;34m=\u001b[0m \u001b[0mpd\u001b[0m\u001b[0;34m.\u001b[0m\u001b[0mread_csv\u001b[0m\u001b[0;34m(\u001b[0m\u001b[0;34m'C:/Users/1/lesson_py/Sberbank_ML-master/Sberbank_ML-master/Hometasks/Hometask_2/train.csv'\u001b[0m\u001b[0;34m,\u001b[0m \u001b[0mdelimiter\u001b[0m\u001b[0;34m=\u001b[0m\u001b[0;34m','\u001b[0m\u001b[0;34m)\u001b[0m\u001b[0;31m#загрузите сюда данные для тренировки\u001b[0m\u001b[0;34m\u001b[0m\u001b[0m\n\u001b[0m\u001b[1;32m      2\u001b[0m \u001b[0;34m\u001b[0m\u001b[0m\n\u001b[1;32m      3\u001b[0m \u001b[0mtest\u001b[0m \u001b[0;34m=\u001b[0m \u001b[0mpd\u001b[0m\u001b[0;34m.\u001b[0m\u001b[0mread_csv\u001b[0m\u001b[0;34m(\u001b[0m\u001b[0;34m'C:/Users/1/lesson_py/Sberbank_ML-master/Sberbank_ML-master/Hometasks/Hometask_2/test.csv'\u001b[0m\u001b[0;34m,\u001b[0m \u001b[0mdelimiter\u001b[0m\u001b[0;34m=\u001b[0m\u001b[0;34m','\u001b[0m\u001b[0;34m)\u001b[0m \u001b[0;31m#загрузите сюда данные для построения предсказаний\u001b[0m\u001b[0;34m\u001b[0m\u001b[0m\n\u001b[1;32m      4\u001b[0m \u001b[0;34m\u001b[0m\u001b[0m\n\u001b[1;32m      5\u001b[0m \u001b[0mlabels\u001b[0m \u001b[0;34m=\u001b[0m\u001b[0mtrain\u001b[0m\u001b[0;34m.\u001b[0m\u001b[0mSalePrice\u001b[0m \u001b[0;31m#сюда нужно загрузить метки\u001b[0m\u001b[0;34m\u001b[0m\u001b[0m\n",
      "\u001b[0;32m~/anaconda3/lib/python3.5/site-packages/pandas/io/parsers.py\u001b[0m in \u001b[0;36mparser_f\u001b[0;34m(filepath_or_buffer, sep, delimiter, header, names, index_col, usecols, squeeze, prefix, mangle_dupe_cols, dtype, engine, converters, true_values, false_values, skipinitialspace, skiprows, nrows, na_values, keep_default_na, na_filter, verbose, skip_blank_lines, parse_dates, infer_datetime_format, keep_date_col, date_parser, dayfirst, iterator, chunksize, compression, thousands, decimal, lineterminator, quotechar, quoting, escapechar, comment, encoding, dialect, tupleize_cols, error_bad_lines, warn_bad_lines, skipfooter, skip_footer, doublequote, delim_whitespace, as_recarray, compact_ints, use_unsigned, low_memory, buffer_lines, memory_map, float_precision)\u001b[0m\n\u001b[1;32m    707\u001b[0m                     skip_blank_lines=skip_blank_lines)\n\u001b[1;32m    708\u001b[0m \u001b[0;34m\u001b[0m\u001b[0m\n\u001b[0;32m--> 709\u001b[0;31m         \u001b[0;32mreturn\u001b[0m \u001b[0m_read\u001b[0m\u001b[0;34m(\u001b[0m\u001b[0mfilepath_or_buffer\u001b[0m\u001b[0;34m,\u001b[0m \u001b[0mkwds\u001b[0m\u001b[0;34m)\u001b[0m\u001b[0;34m\u001b[0m\u001b[0m\n\u001b[0m\u001b[1;32m    710\u001b[0m \u001b[0;34m\u001b[0m\u001b[0m\n\u001b[1;32m    711\u001b[0m     \u001b[0mparser_f\u001b[0m\u001b[0;34m.\u001b[0m\u001b[0m__name__\u001b[0m \u001b[0;34m=\u001b[0m \u001b[0mname\u001b[0m\u001b[0;34m\u001b[0m\u001b[0m\n",
      "\u001b[0;32m~/anaconda3/lib/python3.5/site-packages/pandas/io/parsers.py\u001b[0m in \u001b[0;36m_read\u001b[0;34m(filepath_or_buffer, kwds)\u001b[0m\n\u001b[1;32m    447\u001b[0m \u001b[0;34m\u001b[0m\u001b[0m\n\u001b[1;32m    448\u001b[0m     \u001b[0;31m# Create the parser.\u001b[0m\u001b[0;34m\u001b[0m\u001b[0;34m\u001b[0m\u001b[0m\n\u001b[0;32m--> 449\u001b[0;31m     \u001b[0mparser\u001b[0m \u001b[0;34m=\u001b[0m \u001b[0mTextFileReader\u001b[0m\u001b[0;34m(\u001b[0m\u001b[0mfilepath_or_buffer\u001b[0m\u001b[0;34m,\u001b[0m \u001b[0;34m**\u001b[0m\u001b[0mkwds\u001b[0m\u001b[0;34m)\u001b[0m\u001b[0;34m\u001b[0m\u001b[0m\n\u001b[0m\u001b[1;32m    450\u001b[0m \u001b[0;34m\u001b[0m\u001b[0m\n\u001b[1;32m    451\u001b[0m     \u001b[0;32mif\u001b[0m \u001b[0mchunksize\u001b[0m \u001b[0;32mor\u001b[0m \u001b[0miterator\u001b[0m\u001b[0;34m:\u001b[0m\u001b[0;34m\u001b[0m\u001b[0m\n",
      "\u001b[0;32m~/anaconda3/lib/python3.5/site-packages/pandas/io/parsers.py\u001b[0m in \u001b[0;36m__init__\u001b[0;34m(self, f, engine, **kwds)\u001b[0m\n\u001b[1;32m    816\u001b[0m             \u001b[0mself\u001b[0m\u001b[0;34m.\u001b[0m\u001b[0moptions\u001b[0m\u001b[0;34m[\u001b[0m\u001b[0;34m'has_index_names'\u001b[0m\u001b[0;34m]\u001b[0m \u001b[0;34m=\u001b[0m \u001b[0mkwds\u001b[0m\u001b[0;34m[\u001b[0m\u001b[0;34m'has_index_names'\u001b[0m\u001b[0;34m]\u001b[0m\u001b[0;34m\u001b[0m\u001b[0m\n\u001b[1;32m    817\u001b[0m \u001b[0;34m\u001b[0m\u001b[0m\n\u001b[0;32m--> 818\u001b[0;31m         \u001b[0mself\u001b[0m\u001b[0;34m.\u001b[0m\u001b[0m_make_engine\u001b[0m\u001b[0;34m(\u001b[0m\u001b[0mself\u001b[0m\u001b[0;34m.\u001b[0m\u001b[0mengine\u001b[0m\u001b[0;34m)\u001b[0m\u001b[0;34m\u001b[0m\u001b[0m\n\u001b[0m\u001b[1;32m    819\u001b[0m \u001b[0;34m\u001b[0m\u001b[0m\n\u001b[1;32m    820\u001b[0m     \u001b[0;32mdef\u001b[0m \u001b[0mclose\u001b[0m\u001b[0;34m(\u001b[0m\u001b[0mself\u001b[0m\u001b[0;34m)\u001b[0m\u001b[0;34m:\u001b[0m\u001b[0;34m\u001b[0m\u001b[0m\n",
      "\u001b[0;32m~/anaconda3/lib/python3.5/site-packages/pandas/io/parsers.py\u001b[0m in \u001b[0;36m_make_engine\u001b[0;34m(self, engine)\u001b[0m\n\u001b[1;32m   1047\u001b[0m     \u001b[0;32mdef\u001b[0m \u001b[0m_make_engine\u001b[0m\u001b[0;34m(\u001b[0m\u001b[0mself\u001b[0m\u001b[0;34m,\u001b[0m \u001b[0mengine\u001b[0m\u001b[0;34m=\u001b[0m\u001b[0;34m'c'\u001b[0m\u001b[0;34m)\u001b[0m\u001b[0;34m:\u001b[0m\u001b[0;34m\u001b[0m\u001b[0m\n\u001b[1;32m   1048\u001b[0m         \u001b[0;32mif\u001b[0m \u001b[0mengine\u001b[0m \u001b[0;34m==\u001b[0m \u001b[0;34m'c'\u001b[0m\u001b[0;34m:\u001b[0m\u001b[0;34m\u001b[0m\u001b[0m\n\u001b[0;32m-> 1049\u001b[0;31m             \u001b[0mself\u001b[0m\u001b[0;34m.\u001b[0m\u001b[0m_engine\u001b[0m \u001b[0;34m=\u001b[0m \u001b[0mCParserWrapper\u001b[0m\u001b[0;34m(\u001b[0m\u001b[0mself\u001b[0m\u001b[0;34m.\u001b[0m\u001b[0mf\u001b[0m\u001b[0;34m,\u001b[0m \u001b[0;34m**\u001b[0m\u001b[0mself\u001b[0m\u001b[0;34m.\u001b[0m\u001b[0moptions\u001b[0m\u001b[0;34m)\u001b[0m\u001b[0;34m\u001b[0m\u001b[0m\n\u001b[0m\u001b[1;32m   1050\u001b[0m         \u001b[0;32melse\u001b[0m\u001b[0;34m:\u001b[0m\u001b[0;34m\u001b[0m\u001b[0m\n\u001b[1;32m   1051\u001b[0m             \u001b[0;32mif\u001b[0m \u001b[0mengine\u001b[0m \u001b[0;34m==\u001b[0m \u001b[0;34m'python'\u001b[0m\u001b[0;34m:\u001b[0m\u001b[0;34m\u001b[0m\u001b[0m\n",
      "\u001b[0;32m~/anaconda3/lib/python3.5/site-packages/pandas/io/parsers.py\u001b[0m in \u001b[0;36m__init__\u001b[0;34m(self, src, **kwds)\u001b[0m\n\u001b[1;32m   1693\u001b[0m         \u001b[0mkwds\u001b[0m\u001b[0;34m[\u001b[0m\u001b[0;34m'allow_leading_cols'\u001b[0m\u001b[0;34m]\u001b[0m \u001b[0;34m=\u001b[0m \u001b[0mself\u001b[0m\u001b[0;34m.\u001b[0m\u001b[0mindex_col\u001b[0m \u001b[0;32mis\u001b[0m \u001b[0;32mnot\u001b[0m \u001b[0;32mFalse\u001b[0m\u001b[0;34m\u001b[0m\u001b[0m\n\u001b[1;32m   1694\u001b[0m \u001b[0;34m\u001b[0m\u001b[0m\n\u001b[0;32m-> 1695\u001b[0;31m         \u001b[0mself\u001b[0m\u001b[0;34m.\u001b[0m\u001b[0m_reader\u001b[0m \u001b[0;34m=\u001b[0m \u001b[0mparsers\u001b[0m\u001b[0;34m.\u001b[0m\u001b[0mTextReader\u001b[0m\u001b[0;34m(\u001b[0m\u001b[0msrc\u001b[0m\u001b[0;34m,\u001b[0m \u001b[0;34m**\u001b[0m\u001b[0mkwds\u001b[0m\u001b[0;34m)\u001b[0m\u001b[0;34m\u001b[0m\u001b[0m\n\u001b[0m\u001b[1;32m   1696\u001b[0m \u001b[0;34m\u001b[0m\u001b[0m\n\u001b[1;32m   1697\u001b[0m         \u001b[0;31m# XXX\u001b[0m\u001b[0;34m\u001b[0m\u001b[0;34m\u001b[0m\u001b[0m\n",
      "\u001b[0;32mpandas/_libs/parsers.pyx\u001b[0m in \u001b[0;36mpandas._libs.parsers.TextReader.__cinit__\u001b[0;34m()\u001b[0m\n",
      "\u001b[0;32mpandas/_libs/parsers.pyx\u001b[0m in \u001b[0;36mpandas._libs.parsers.TextReader._setup_parser_source\u001b[0;34m()\u001b[0m\n",
      "\u001b[0;31mFileNotFoundError\u001b[0m: File b'C:/Users/1/lesson_py/Sberbank_ML-master/Sberbank_ML-master/Hometasks/Hometask_2/train.csv' does not exist"
     ]
    }
   ],
   "source": [
    "train = pd.read_csv('C:/Users/1/lesson_py/Sberbank_ML-master/Sberbank_ML-master/Hometasks/Hometask_2/train.csv', delimiter=',')#загрузите сюда данные для тренировки\n",
    "\n",
    "test = pd.read_csv('C:/Users/1/lesson_py/Sberbank_ML-master/Sberbank_ML-master/Hometasks/Hometask_2/test.csv', delimiter=',') #загрузите сюда данные для построения предсказаний\n",
    "\n",
    "labels =train.SalePrice #сюда нужно загрузить метки"
   ]
  },
  {
   "cell_type": "code",
   "execution_count": 566,
   "metadata": {},
   "outputs": [
    {
     "data": {
      "text/plain": [
       "(1460, 81)"
      ]
     },
     "execution_count": 566,
     "metadata": {},
     "output_type": "execute_result"
    }
   ],
   "source": [
    "train.head(10)\n",
    "train.shape"
   ]
  },
  {
   "cell_type": "code",
   "execution_count": 567,
   "metadata": {},
   "outputs": [
    {
     "data": {
      "text/plain": [
       "(1459, 80)"
      ]
     },
     "execution_count": 567,
     "metadata": {},
     "output_type": "execute_result"
    }
   ],
   "source": [
    "test.head(10)\n",
    "test.shape"
   ]
  },
  {
   "cell_type": "code",
   "execution_count": 568,
   "metadata": {},
   "outputs": [
    {
     "data": {
      "text/plain": [
       "0    208500\n",
       "1    181500\n",
       "2    223500\n",
       "3    140000\n",
       "4    250000\n",
       "5    143000\n",
       "6    307000\n",
       "7    200000\n",
       "8    129900\n",
       "9    118000\n",
       "Name: SalePrice, dtype: int64"
      ]
     },
     "execution_count": 568,
     "metadata": {},
     "output_type": "execute_result"
    }
   ],
   "source": [
    "labels.head(10)"
   ]
  },
  {
   "cell_type": "code",
   "execution_count": 569,
   "metadata": {},
   "outputs": [
    {
     "name": "stdout",
     "output_type": "stream",
     "text": [
      "Name           \tNaNs\t#unique\t#type\n",
      "Id             \t0.00\t1460\tint64\n",
      "MSSubClass     \t0.00\t15\tint64\n",
      "MSZoning       \t0.00\t5\tobject\n",
      "LotFrontage    \t0.18\t110\tfloat64\n",
      "LotArea        \t0.00\t1073\tint64\n",
      "Street         \t0.00\t2\tobject\n",
      "Alley          \t0.94\t2\tobject\n",
      "LotShape       \t0.00\t4\tobject\n",
      "LandContour    \t0.00\t4\tobject\n",
      "Utilities      \t0.00\t2\tobject\n",
      "LotConfig      \t0.00\t5\tobject\n",
      "LandSlope      \t0.00\t3\tobject\n",
      "Neighborhood   \t0.00\t25\tobject\n",
      "Condition1     \t0.00\t9\tobject\n",
      "Condition2     \t0.00\t8\tobject\n",
      "BldgType       \t0.00\t5\tobject\n",
      "HouseStyle     \t0.00\t8\tobject\n",
      "OverallQual    \t0.00\t10\tint64\n",
      "OverallCond    \t0.00\t9\tint64\n",
      "YearBuilt      \t0.00\t112\tint64\n",
      "YearRemodAdd   \t0.00\t61\tint64\n",
      "RoofStyle      \t0.00\t6\tobject\n",
      "RoofMatl       \t0.00\t8\tobject\n",
      "Exterior1st    \t0.00\t15\tobject\n",
      "Exterior2nd    \t0.00\t16\tobject\n",
      "MasVnrType     \t0.01\t4\tobject\n",
      "MasVnrArea     \t0.01\t327\tfloat64\n",
      "ExterQual      \t0.00\t4\tobject\n",
      "ExterCond      \t0.00\t5\tobject\n",
      "Foundation     \t0.00\t6\tobject\n",
      "BsmtQual       \t0.03\t4\tobject\n",
      "BsmtCond       \t0.03\t4\tobject\n",
      "BsmtExposure   \t0.03\t4\tobject\n",
      "BsmtFinType1   \t0.03\t6\tobject\n",
      "BsmtFinSF1     \t0.00\t637\tint64\n",
      "BsmtFinType2   \t0.03\t6\tobject\n",
      "BsmtFinSF2     \t0.00\t144\tint64\n",
      "BsmtUnfSF      \t0.00\t780\tint64\n",
      "TotalBsmtSF    \t0.00\t721\tint64\n",
      "Heating        \t0.00\t6\tobject\n",
      "HeatingQC      \t0.00\t5\tobject\n",
      "CentralAir     \t0.00\t2\tobject\n",
      "Electrical     \t0.00\t5\tobject\n",
      "1stFlrSF       \t0.00\t753\tint64\n",
      "2ndFlrSF       \t0.00\t417\tint64\n",
      "LowQualFinSF   \t0.00\t24\tint64\n",
      "GrLivArea      \t0.00\t861\tint64\n",
      "BsmtFullBath   \t0.00\t4\tint64\n",
      "BsmtHalfBath   \t0.00\t3\tint64\n",
      "FullBath       \t0.00\t4\tint64\n",
      "HalfBath       \t0.00\t3\tint64\n",
      "BedroomAbvGr   \t0.00\t8\tint64\n",
      "KitchenAbvGr   \t0.00\t4\tint64\n",
      "KitchenQual    \t0.00\t4\tobject\n",
      "TotRmsAbvGrd   \t0.00\t12\tint64\n",
      "Functional     \t0.00\t7\tobject\n",
      "Fireplaces     \t0.00\t4\tint64\n",
      "FireplaceQu    \t0.47\t5\tobject\n",
      "GarageType     \t0.06\t6\tobject\n",
      "GarageYrBlt    \t0.06\t97\tfloat64\n",
      "GarageFinish   \t0.06\t3\tobject\n",
      "GarageCars     \t0.00\t5\tint64\n",
      "GarageArea     \t0.00\t441\tint64\n",
      "GarageQual     \t0.06\t5\tobject\n",
      "GarageCond     \t0.06\t5\tobject\n",
      "PavedDrive     \t0.00\t3\tobject\n",
      "WoodDeckSF     \t0.00\t274\tint64\n",
      "OpenPorchSF    \t0.00\t202\tint64\n",
      "EnclosedPorch  \t0.00\t120\tint64\n",
      "3SsnPorch      \t0.00\t20\tint64\n",
      "ScreenPorch    \t0.00\t76\tint64\n",
      "PoolArea       \t0.00\t8\tint64\n",
      "PoolQC         \t1.00\t3\tobject\n",
      "Fence          \t0.81\t4\tobject\n",
      "MiscFeature    \t0.96\t4\tobject\n",
      "MiscVal        \t0.00\t21\tint64\n",
      "MoSold         \t0.00\t12\tint64\n",
      "YrSold         \t0.00\t5\tint64\n",
      "SaleType       \t0.00\t9\tobject\n",
      "SaleCondition  \t0.00\t6\tobject\n",
      "SalePrice      \t0.00\t663\tint64\n"
     ]
    }
   ],
   "source": [
    "print(\"{0:15}\\t{1}\\t{2}\\t{3}\".format(\"Name\", \"NaNs\", \"#unique\",\"#type\"))\n",
    "for col in train.columns:\n",
    "    print(\"{0:15}\\t{1:.2f}\\t{2}\\t{3}\".format(col, train[col].isnull().mean(), train[col].nunique(), train[col].dtype))"
   ]
  },
  {
   "cell_type": "markdown",
   "metadata": {},
   "source": [
    "С какими типами признаков вы столкнулись?\n"
   ]
  },
  {
   "cell_type": "markdown",
   "metadata": {},
   "source": [
    "Ответ:int,object,float"
   ]
  },
  {
   "cell_type": "markdown",
   "metadata": {},
   "source": [
    "### Часть 3\n",
    "Какие признаки выглядят бесполезными? Попробуйте выбросить некоторые фичи, опираясь на ваш личный жизненный опыт или алгоритмы `feature selection`. Подробнее про них можно прочитать здесь: http://scikit-learn.org/stable/modules/feature_selection.html"
   ]
  },
  {
   "cell_type": "code",
   "execution_count": 570,
   "metadata": {},
   "outputs": [
    {
     "data": {
      "text/plain": [
       "array([[<matplotlib.axes._subplots.AxesSubplot object at 0x000001FE6D48C2B0>,\n",
       "        <matplotlib.axes._subplots.AxesSubplot object at 0x000001FE6BFD1A90>]],\n",
       "      dtype=object)"
      ]
     },
     "execution_count": 570,
     "metadata": {},
     "output_type": "execute_result"
    },
    {
     "data": {
      "image/png": "[encoded data removed]",
      "text/plain": [
       "<Figure size 864x432 with 2 Axes>"
      ]
     },
     "metadata": {},
     "output_type": "display_data"
    }
   ],
   "source": [
    "matplotlib.rcParams['figure.figsize'] = (12.0, 6.0)\n",
    "prices = pd.DataFrame({\"price\":train[\"SalePrice\"], \"log(price + 1)\":np.log1p(train[\"SalePrice\"])})\n",
    "prices.hist()"
   ]
  },
  {
   "cell_type": "code",
   "execution_count": 571,
   "metadata": {
    "collapsed": true
   },
   "outputs": [],
   "source": [
    "labels=np.log1p(train[\"SalePrice\"])"
   ]
  },
  {
   "cell_type": "code",
   "execution_count": 572,
   "metadata": {},
   "outputs": [
    {
     "data": {
      "text/plain": [
       "(1460,)"
      ]
     },
     "execution_count": 572,
     "metadata": {},
     "output_type": "execute_result"
    }
   ],
   "source": [
    "labels.dtypes\n",
    "labels.shape"
   ]
  },
  {
   "cell_type": "code",
   "execution_count": 1,
   "metadata": {},
   "outputs": [
    {
     "ename": "NameError",
     "evalue": "name 'pd' is not defined",
     "output_type": "error",
     "traceback": [
      "\u001b[1;31m---------------------------------------------------------------------------\u001b[0m",
      "\u001b[1;31mNameError\u001b[0m                                 Traceback (most recent call last)",
      "\u001b[1;32m<ipython-input-1-8d52a7ccde5c>\u001b[0m in \u001b[0;36m<module>\u001b[1;34m()\u001b[0m\n\u001b[1;32m----> 1\u001b[1;33m \u001b[0mall\u001b[0m \u001b[1;33m=\u001b[0m \u001b[0mpd\u001b[0m\u001b[1;33m.\u001b[0m\u001b[0mconcat\u001b[0m\u001b[1;33m(\u001b[0m\u001b[1;33m[\u001b[0m\u001b[0mtrain\u001b[0m\u001b[1;33m,\u001b[0m \u001b[0mtest\u001b[0m\u001b[1;33m]\u001b[0m\u001b[1;33m,\u001b[0m \u001b[0maxis\u001b[0m\u001b[1;33m=\u001b[0m\u001b[1;36m0\u001b[0m\u001b[1;33m)\u001b[0m\u001b[1;33m\u001b[0m\u001b[0m\n\u001b[0m\u001b[0;32m      2\u001b[0m \u001b[0mall\u001b[0m\u001b[1;33m=\u001b[0m\u001b[0mall\u001b[0m\u001b[1;33m.\u001b[0m\u001b[0mdrop\u001b[0m\u001b[1;33m(\u001b[0m\u001b[1;34m\"SalePrice\"\u001b[0m\u001b[1;33m,\u001b[0m \u001b[0maxis\u001b[0m\u001b[1;33m=\u001b[0m\u001b[1;36m1\u001b[0m\u001b[1;33m)\u001b[0m\u001b[1;33m\u001b[0m\u001b[0m\n",
      "\u001b[1;31mNameError\u001b[0m: name 'pd' is not defined"
     ]
    }
   ],
   "source": [
    "all = pd.concat([train, test], axis=0)\n",
    "all=all.drop(\"SalePrice\", axis=1)"
   ]
  },
  {
   "cell_type": "markdown",
   "metadata": {},
   "source": [
    "Рассмотрим количественные переменные"
   ]
  },
  {
   "cell_type": "code",
   "execution_count": 574,
   "metadata": {},
   "outputs": [
    {
     "name": "stdout",
     "output_type": "stream",
     "text": [
      "Index(['1stFlrSF', '2ndFlrSF', '3SsnPorch', 'BedroomAbvGr', 'BsmtFinSF1',\n",
      "       'BsmtFinSF2', 'BsmtFullBath', 'BsmtHalfBath', 'BsmtUnfSF',\n",
      "       'EnclosedPorch', 'Fireplaces', 'FullBath', 'GarageArea', 'GarageCars',\n",
      "       'GarageYrBlt', 'GrLivArea', 'HalfBath', 'Id', 'KitchenAbvGr', 'LotArea',\n",
      "       'LotFrontage', 'LowQualFinSF', 'MSSubClass', 'MasVnrArea', 'MiscVal',\n",
      "       'MoSold', 'OpenPorchSF', 'OverallCond', 'OverallQual', 'PoolArea',\n",
      "       'ScreenPorch', 'TotRmsAbvGrd', 'TotalBsmtSF', 'WoodDeckSF', 'YearBuilt',\n",
      "       'YearRemodAdd', 'YrSold'],\n",
      "      dtype='object')\n"
     ]
    }
   ],
   "source": [
    "numerical_features = all.select_dtypes(exclude = [\"object\"]).columns\n",
    "print(numerical_features)"
   ]
  },
  {
   "cell_type": "code",
   "execution_count": 575,
   "metadata": {},
   "outputs": [
    {
     "name": "stdout",
     "output_type": "stream",
     "text": [
      "Name           \tNaNs\t#unique\t#type\n",
      "1stFlrSF       \t0.00\t1083\tint64\n",
      "2ndFlrSF       \t0.00\t635\tint64\n",
      "3SsnPorch      \t0.00\t31\tint64\n",
      "BedroomAbvGr   \t0.00\t8\tint64\n",
      "BsmtFinSF1     \t0.00\t991\tfloat64\n",
      "BsmtFinSF2     \t0.00\t272\tfloat64\n",
      "BsmtFullBath   \t0.00\t4\tfloat64\n",
      "BsmtHalfBath   \t0.00\t3\tfloat64\n",
      "BsmtUnfSF      \t0.00\t1135\tfloat64\n",
      "EnclosedPorch  \t0.00\t183\tint64\n",
      "Fireplaces     \t0.00\t5\tint64\n",
      "FullBath       \t0.00\t5\tint64\n",
      "GarageArea     \t0.00\t603\tfloat64\n",
      "GarageCars     \t0.00\t6\tfloat64\n",
      "GarageYrBlt    \t0.05\t103\tfloat64\n",
      "GrLivArea      \t0.00\t1292\tint64\n",
      "HalfBath       \t0.00\t3\tint64\n",
      "Id             \t0.00\t2919\tint64\n",
      "KitchenAbvGr   \t0.00\t4\tint64\n",
      "LotArea        \t0.00\t1951\tint64\n",
      "LotFrontage    \t0.17\t128\tfloat64\n",
      "LowQualFinSF   \t0.00\t36\tint64\n",
      "MSSubClass     \t0.00\t16\tint64\n",
      "MasVnrArea     \t0.01\t444\tfloat64\n",
      "MiscVal        \t0.00\t38\tint64\n",
      "MoSold         \t0.00\t12\tint64\n",
      "OpenPorchSF    \t0.00\t252\tint64\n",
      "OverallCond    \t0.00\t9\tint64\n",
      "OverallQual    \t0.00\t10\tint64\n",
      "PoolArea       \t0.00\t14\tint64\n",
      "ScreenPorch    \t0.00\t121\tint64\n",
      "TotRmsAbvGrd   \t0.00\t14\tint64\n",
      "TotalBsmtSF    \t0.00\t1058\tfloat64\n",
      "WoodDeckSF     \t0.00\t379\tint64\n",
      "YearBuilt      \t0.00\t118\tint64\n",
      "YearRemodAdd   \t0.00\t61\tint64\n",
      "YrSold         \t0.00\t5\tint64\n"
     ]
    }
   ],
   "source": [
    "print(\"{0:15}\\t{1}\\t{2}\\t{3}\".format(\"Name\", \"NaNs\", \"#unique\",\"#type\"))\n",
    "for col in numerical_features:\n",
    "    print(\"{0:15}\\t{1:.2f}\\t{2}\\t{3}\".format(col, all[col].isnull().mean(), all[col].nunique(), all[col].dtype))"
   ]
  },
  {
   "cell_type": "code",
   "execution_count": 576,
   "metadata": {
    "collapsed": true
   },
   "outputs": [],
   "source": [
    "for col in numerical_features:\n",
    "    if all[col].isnull().mean()>0:\n",
    "        all[col]=all[col].fillna(all[col].mode()[0], inplace=True)"
   ]
  },
  {
   "cell_type": "code",
   "execution_count": 577,
   "metadata": {
    "collapsed": true
   },
   "outputs": [],
   "source": [
    "skewed_feats = all[numerical_features].apply(lambda x: skew(x.dropna())) #compute skewness\n",
    "skewed_feats = skewed_feats[skewed_feats > 0.75]\n",
    "skewed_feats = skewed_feats.index\n",
    "\n",
    "all[skewed_feats] = np.log1p(all[skewed_feats])"
   ]
  },
  {
   "cell_type": "code",
   "execution_count": 578,
   "metadata": {},
   "outputs": [
    {
     "name": "stderr",
     "output_type": "stream",
     "text": [
      "C:\\Users\\1\\Anaconda3\\lib\\site-packages\\matplotlib\\axes\\_axes.py:6462: UserWarning: The 'normed' kwarg is deprecated, and has been replaced by the 'density' kwarg.\n",
      "  warnings.warn(\"The 'normed' kwarg is deprecated, and has been \"\n",
      "C:\\Users\\1\\Anaconda3\\lib\\site-packages\\matplotlib\\axes\\_axes.py:6462: UserWarning: The 'normed' kwarg is deprecated, and has been replaced by the 'density' kwarg.\n",
      "  warnings.warn(\"The 'normed' kwarg is deprecated, and has been \"\n"
     ]
    },
    {
     "data": {
      "image/png": "[encoded data removed]",
      "text/plain": [
       "<Figure size 864x432 with 1 Axes>"
      ]
     },
     "metadata": {},
     "output_type": "display_data"
    }
   ],
   "source": [
    "sns.distplot(all[\"YearRemodAdd\"].astype(int),color='r', kde=False);\n",
    "sns.distplot(all[\"YearBuilt\"],color='seagreen', kde=False);\n",
    "all['deltaAge'] = all['YrSold'] - all['YearBuilt']"
   ]
  },
  {
   "cell_type": "code",
   "execution_count": 579,
   "metadata": {
    "collapsed": true
   },
   "outputs": [],
   "source": [
    "#all = all.drop(['Id','SalePrice'], axis=1)\n",
    "numerical_features = all.select_dtypes(exclude = [\"object\"]).columns"
   ]
  },
  {
   "cell_type": "code",
   "execution_count": 580,
   "metadata": {},
   "outputs": [
    {
     "data": {
      "text/plain": [
       "dtype('int64')"
      ]
     },
     "execution_count": 580,
     "metadata": {},
     "output_type": "execute_result"
    }
   ],
   "source": [
    "all['deltaAge'].dtypes"
   ]
  },
  {
   "cell_type": "markdown",
   "metadata": {},
   "source": [
    "Рассмотрим качественные переменные"
   ]
  },
  {
   "cell_type": "code",
   "execution_count": 581,
   "metadata": {},
   "outputs": [
    {
     "name": "stdout",
     "output_type": "stream",
     "text": [
      "Index(['Alley', 'BldgType', 'BsmtCond', 'BsmtExposure', 'BsmtFinSF1',\n",
      "       'BsmtFinSF2', 'BsmtFinType1', 'BsmtFinType2', 'BsmtFullBath',\n",
      "       'BsmtHalfBath', 'BsmtQual', 'BsmtUnfSF', 'CentralAir', 'Condition1',\n",
      "       'Condition2', 'Electrical', 'ExterCond', 'ExterQual', 'Exterior1st',\n",
      "       'Exterior2nd', 'Fence', 'FireplaceQu', 'Foundation', 'Functional',\n",
      "       'GarageArea', 'GarageCars', 'GarageCond', 'GarageFinish', 'GarageQual',\n",
      "       'GarageType', 'GarageYrBlt', 'Heating', 'HeatingQC', 'HouseStyle',\n",
      "       'KitchenQual', 'LandContour', 'LandSlope', 'LotConfig', 'LotFrontage',\n",
      "       'LotShape', 'MSZoning', 'MasVnrArea', 'MasVnrType', 'MiscFeature',\n",
      "       'Neighborhood', 'PavedDrive', 'PoolQC', 'RoofMatl', 'RoofStyle',\n",
      "       'SaleCondition', 'SaleType', 'Street', 'TotalBsmtSF', 'Utilities'],\n",
      "      dtype='object')\n"
     ]
    }
   ],
   "source": [
    "categorical_features = all.select_dtypes(include = [\"object\"]).columns\n",
    "print(categorical_features)"
   ]
  },
  {
   "cell_type": "code",
   "execution_count": 582,
   "metadata": {},
   "outputs": [
    {
     "name": "stdout",
     "output_type": "stream",
     "text": [
      "Name           \tNaNs\t#unique\t#type\n",
      "Alley          \t0.93\t2\tobject\n",
      "BsmtCond       \t0.03\t4\tobject\n",
      "BsmtExposure   \t0.03\t4\tobject\n",
      "BsmtFinSF1     \t1.00\t0\tobject\n",
      "BsmtFinSF2     \t1.00\t0\tobject\n",
      "BsmtFinType1   \t0.03\t6\tobject\n",
      "BsmtFinType2   \t0.03\t6\tobject\n",
      "BsmtFullBath   \t1.00\t0\tobject\n",
      "BsmtHalfBath   \t1.00\t0\tobject\n",
      "BsmtQual       \t0.03\t4\tobject\n",
      "BsmtUnfSF      \t1.00\t0\tobject\n",
      "Electrical     \t0.00\t5\tobject\n",
      "Exterior1st    \t0.00\t15\tobject\n",
      "Exterior2nd    \t0.00\t16\tobject\n",
      "Fence          \t0.80\t4\tobject\n",
      "FireplaceQu    \t0.49\t5\tobject\n",
      "Functional     \t0.00\t7\tobject\n",
      "GarageArea     \t1.00\t0\tobject\n",
      "GarageCars     \t1.00\t0\tobject\n",
      "GarageCond     \t0.05\t5\tobject\n",
      "GarageFinish   \t0.05\t3\tobject\n",
      "GarageQual     \t0.05\t5\tobject\n",
      "GarageType     \t0.05\t6\tobject\n",
      "GarageYrBlt    \t1.00\t0\tobject\n",
      "KitchenQual    \t0.00\t4\tobject\n",
      "LotFrontage    \t1.00\t0\tobject\n",
      "MSZoning       \t0.00\t5\tobject\n",
      "MasVnrArea     \t1.00\t0\tobject\n",
      "MasVnrType     \t0.01\t4\tobject\n",
      "MiscFeature    \t0.96\t4\tobject\n",
      "PoolQC         \t1.00\t3\tobject\n",
      "SaleType       \t0.00\t9\tobject\n",
      "TotalBsmtSF    \t1.00\t0\tobject\n",
      "Utilities      \t0.00\t2\tobject\n"
     ]
    }
   ],
   "source": [
    "print(\"{0:15}\\t{1}\\t{2}\\t{3}\".format(\"Name\", \"NaNs\", \"#unique\",\"#type\"))\n",
    "for col in categorical_features:\n",
    "    if all[col].isnull().mean()>0:\n",
    "        print(\"{0:15}\\t{1:.2f}\\t{2}\\t{3}\".format(col, all[col].isnull().mean(), all[col].nunique(), all[col].dtype))"
   ]
  },
  {
   "cell_type": "code",
   "execution_count": 583,
   "metadata": {
    "collapsed": true
   },
   "outputs": [],
   "source": [
    "#all = all.drop([\"Alley\",\"Fence\",\"MiscFeature\",\"PoolQC\",\"FireplaceQu\" ], axis=1)"
   ]
  },
  {
   "cell_type": "code",
   "execution_count": 584,
   "metadata": {
    "collapsed": true
   },
   "outputs": [],
   "source": [
    "all[\"PoolQC\"] = all[\"PoolQC\"].fillna(\"None\")\n",
    "all[\"Alley\"] = all[\"Alley\"].fillna(\"None\")\n",
    "all[\"Fence\"] = all[\"Fence\"].fillna(\"None\")\n",
    "all[\"MiscFeature\"] = all[\"MiscFeature\"].fillna(\"None\")\n",
    "all[\"FireplaceQu\"] = all[\"FireplaceQu\"].fillna(\"None\")\n"
   ]
  },
  {
   "cell_type": "code",
   "execution_count": 585,
   "metadata": {
    "collapsed": true
   },
   "outputs": [],
   "source": [
    "for col in categorical_features:\n",
    "    if all[col].isnull().mean()>0:\n",
    "        all[col]=all[col].fillna(all[col].mode, inplace=True)"
   ]
  },
  {
   "cell_type": "code",
   "execution_count": 586,
   "metadata": {
    "collapsed": true
   },
   "outputs": [],
   "source": [
    "all_dummies=pd.get_dummies(all[categorical_features])"
   ]
  },
  {
   "cell_type": "code",
   "execution_count": 587,
   "metadata": {
    "collapsed": true
   },
   "outputs": [],
   "source": [
    "all = pd.concat([all[numerical_features], all_dummies], axis=1)\n",
    "all = all.drop(['YearRemodAdd','YearBuilt'], axis=1)"
   ]
  },
  {
   "cell_type": "code",
   "execution_count": 589,
   "metadata": {
    "collapsed": true
   },
   "outputs": [],
   "source": [
    "train_rez = all.iloc[:train.shape[0]]\n",
    "#labels = np.log1p(train_rez['SalePrice'])\n",
    "test_rez = all.iloc[train.shape[0]:]\n",
    "#train_rez = train_rez.drop(\"ID\", axis=1, inplace=True)"
   ]
  },
  {
   "cell_type": "code",
   "execution_count": 590,
   "metadata": {},
   "outputs": [
    {
     "data": {
      "text/plain": [
       "(1460,)"
      ]
     },
     "execution_count": 590,
     "metadata": {},
     "output_type": "execute_result"
    }
   ],
   "source": [
    "labels.shape"
   ]
  },
  {
   "cell_type": "code",
   "execution_count": 591,
   "metadata": {},
   "outputs": [
    {
     "data": {
      "text/plain": [
       "(1459, 172)"
      ]
     },
     "execution_count": 591,
     "metadata": {},
     "output_type": "execute_result"
    }
   ],
   "source": [
    "test_rez.shape"
   ]
  },
  {
   "cell_type": "code",
   "execution_count": 592,
   "metadata": {},
   "outputs": [
    {
     "name": "stdout",
     "output_type": "stream",
     "text": [
      "Name           \tNaNs\t#unique\t#type\n"
     ]
    }
   ],
   "source": [
    "print(\"{0:15}\\t{1}\\t{2}\\t{3}\".format(\"Name\", \"NaNs\", \"#unique\",\"#type\"))\n",
    "for col in train_rez.columns:\n",
    "    if train_rez[col].isnull().mean()>0:\n",
    "        print(\"{0:15}\\t{1:.2f}\\t{2}\\t{3}\".format(col, train_rez[col].isnull().mean(), train_rez[col].nunique(), train_rez[col].dtype))"
   ]
  },
  {
   "cell_type": "markdown",
   "metadata": {},
   "source": [
    "Какие фичи кажутся вам самыми значимыми? Оцените значимость признаков, опираясь на описанный выше алгоритм, либо на ваш личный опыт, постройте для трех самых значимых графики. Как распределены данные? По какому закону?"
   ]
  },
  {
   "cell_type": "code",
   "execution_count": 593,
   "metadata": {},
   "outputs": [
    {
     "data": {
      "image/png": "[encoded data removed]",
      "text/plain": [
       "<Figure size 720x720 with 2 Axes>"
      ]
     },
     "metadata": {},
     "output_type": "display_data"
    }
   ],
   "source": [
    "# определим фичи, которые больше всего коррелируют с target\n",
    "train_corr = pd.concat([train_rez, labels], axis=1)\n",
    "corrmat = train_corr.corr()\n",
    "corr_features = corrmat.index[abs(corrmat[\"SalePrice\"])>0.5]\n",
    "corr_features=corr_features.drop('SalePrice')\n",
    "plt.figure(figsize=(10,10))\n",
    "g = sns.heatmap(train_corr[corr_features].corr(),annot=True,cmap=\"RdYlGn\")"
   ]
  },
  {
   "cell_type": "code",
   "execution_count": 594,
   "metadata": {},
   "outputs": [
    {
     "name": "stderr",
     "output_type": "stream",
     "text": [
      "C:\\Users\\1\\Anaconda3\\lib\\site-packages\\matplotlib\\axes\\_axes.py:6462: UserWarning: The 'normed' kwarg is deprecated, and has been replaced by the 'density' kwarg.\n",
      "  warnings.warn(\"The 'normed' kwarg is deprecated, and has been \"\n"
     ]
    },
    {
     "data": {
      "image/png": "[encoded data removed]",
      "text/plain": [
       "<Figure size 864x432 with 1 Axes>"
      ]
     },
     "metadata": {},
     "output_type": "display_data"
    }
   ],
   "source": [
    "top_corr_features\n",
    "sns.distplot(all[\"deltaAge\"].astype(int),color='r', kde=False);\n",
    "\n"
   ]
  },
  {
   "cell_type": "code",
   "execution_count": 595,
   "metadata": {
    "collapsed": true
   },
   "outputs": [],
   "source": [
    "labels_int= labels.astype(np.int64)"
   ]
  },
  {
   "cell_type": "code",
   "execution_count": 596,
   "metadata": {
    "collapsed": true
   },
   "outputs": [],
   "source": [
    "#Recursive Feature Elimination (перебираем переменные)\n",
    "from sklearn.feature_selection import RFE\n",
    "from sklearn.linear_model import LogisticRegression\n",
    "from sklearn import preprocessing\n",
    "from sklearn import utils\n",
    "model = LogisticRegression()\n",
    "# create the RFE model and select 3 attributes\n",
    "rfe = RFE(model, 30)\n",
    "rfe = rfe.fit(train_rez, labels_int)\n",
    "# summarize the selection of the attributes\n",
    "rfe_features = train_rez.columns[rfe.support_]\n"
   ]
  },
  {
   "cell_type": "code",
   "execution_count": 597,
   "metadata": {},
   "outputs": [
    {
     "data": {
      "text/plain": [
       "Index(['FullBath', 'GrLivArea', 'HalfBath', 'KitchenAbvGr', 'OverallQual',\n",
       "       'BldgType_Twnhs', 'BldgType_TwnhsE', 'CentralAir_N', 'CentralAir_Y',\n",
       "       'Condition1_RRAe', 'ExterQual_Ex', 'ExterQual_TA', 'FireplaceQu_None',\n",
       "       'Foundation_CBlock', 'HouseStyle_1.5Unf', 'LandSlope_Gtl',\n",
       "       'Neighborhood_ClearCr', 'Neighborhood_Edwards', 'Neighborhood_IDOTRR',\n",
       "       'Neighborhood_NPkVill', 'Neighborhood_NoRidge', 'Neighborhood_OldTown',\n",
       "       'Neighborhood_SWISU', 'Neighborhood_StoneBr', 'Neighborhood_Timber',\n",
       "       'PavedDrive_N', 'PoolQC_None', 'RoofMatl_ClyTile', 'RoofMatl_WdShngl',\n",
       "       'Street_Pave'],\n",
       "      dtype='object')"
      ]
     },
     "execution_count": 597,
     "metadata": {},
     "output_type": "execute_result"
    }
   ],
   "source": [
    "rfe_features"
   ]
  },
  {
   "cell_type": "code",
   "execution_count": 598,
   "metadata": {
    "collapsed": true
   },
   "outputs": [],
   "source": [
    "# ExtraTreesClassifier \n",
    "from sklearn.ensemble import ExtraTreesClassifier\n",
    "from sklearn.feature_selection import SelectFromModel\n",
    "clf = ExtraTreesClassifier()\n",
    "clf = clf.fit(train_rez, labels_int.values.ravel())\n",
    "model = SelectFromModel(clf, prefit=True)\n",
    "model = SelectFromModel(clf, prefit=True)\n",
    "etc_features = train_rez.columns[model.get_support()]\n"
   ]
  },
  {
   "cell_type": "code",
   "execution_count": 599,
   "metadata": {},
   "outputs": [
    {
     "data": {
      "text/plain": [
       "Index(['1stFlrSF', '2ndFlrSF', 'BedroomAbvGr', 'EnclosedPorch', 'Fireplaces',\n",
       "       'FullBath', 'GrLivArea', 'HalfBath', 'Id', 'LotArea', 'MSSubClass',\n",
       "       'MoSold', 'OpenPorchSF', 'OverallCond', 'OverallQual', 'ScreenPorch',\n",
       "       'TotRmsAbvGrd', 'WoodDeckSF', 'YrSold', 'deltaAge', 'BldgType_1Fam',\n",
       "       'CentralAir_N', 'ExterQual_Gd', 'ExterQual_TA', 'Fence_None',\n",
       "       'FireplaceQu_Gd', 'FireplaceQu_None', 'FireplaceQu_TA',\n",
       "       'Foundation_BrkTil', 'Foundation_CBlock', 'Foundation_PConc',\n",
       "       'HeatingQC_Ex', 'HeatingQC_TA', 'HouseStyle_1Story',\n",
       "       'HouseStyle_2Story', 'LotShape_IR1', 'LotShape_Reg',\n",
       "       'Neighborhood_Edwards', 'Neighborhood_NAmes', 'Neighborhood_NWAmes',\n",
       "       'Neighborhood_OldTown'],\n",
       "      dtype='object')"
      ]
     },
     "execution_count": 599,
     "metadata": {},
     "output_type": "execute_result"
    }
   ],
   "source": [
    "etc_features"
   ]
  },
  {
   "cell_type": "code",
   "execution_count": 600,
   "metadata": {
    "collapsed": true
   },
   "outputs": [],
   "source": [
    "from sklearn.model_selection import KFold, cross_val_score\n",
    "n_folds = 20\n",
    "def rmsle_cv(model, train):\n",
    "    kf = KFold(n_folds, shuffle=True, random_state=88).get_n_splits(train.values)\n",
    "    rmsle= np.sqrt(-cross_val_score(model, train_rez.values, labels.values.ravel(), scoring=\"neg_mean_squared_error\", cv = kf))\n",
    "    return(rmsle)"
   ]
  },
  {
   "cell_type": "code",
   "execution_count": 607,
   "metadata": {},
   "outputs": [
    {
     "name": "stdout",
     "output_type": "stream",
     "text": [
      "-0.09862354240410989\n",
      "-0.08573077132138378\n",
      "-0.09232654093216651\n"
     ]
    },
    {
     "name": "stderr",
     "output_type": "stream",
     "text": [
      "C:\\Users\\1\\Anaconda3\\lib\\site-packages\\sklearn\\metrics\\scorer.py:100: DeprecationWarning: Scoring method mean_squared_error was renamed to neg_mean_squared_error in version 0.18 and will be removed in 0.20.\n",
      "  sample_weight=sample_weight)\n",
      "C:\\Users\\1\\Anaconda3\\lib\\site-packages\\sklearn\\metrics\\scorer.py:100: DeprecationWarning: Scoring method mean_squared_error was renamed to neg_mean_squared_error in version 0.18 and will be removed in 0.20.\n",
      "  sample_weight=sample_weight)\n",
      "C:\\Users\\1\\Anaconda3\\lib\\site-packages\\sklearn\\metrics\\scorer.py:100: DeprecationWarning: Scoring method mean_squared_error was renamed to neg_mean_squared_error in version 0.18 and will be removed in 0.20.\n",
      "  sample_weight=sample_weight)\n",
      "C:\\Users\\1\\Anaconda3\\lib\\site-packages\\sklearn\\metrics\\scorer.py:100: DeprecationWarning: Scoring method mean_squared_error was renamed to neg_mean_squared_error in version 0.18 and will be removed in 0.20.\n",
      "  sample_weight=sample_weight)\n",
      "C:\\Users\\1\\Anaconda3\\lib\\site-packages\\sklearn\\metrics\\scorer.py:100: DeprecationWarning: Scoring method mean_squared_error was renamed to neg_mean_squared_error in version 0.18 and will be removed in 0.20.\n",
      "  sample_weight=sample_weight)\n",
      "C:\\Users\\1\\Anaconda3\\lib\\site-packages\\sklearn\\metrics\\scorer.py:100: DeprecationWarning: Scoring method mean_squared_error was renamed to neg_mean_squared_error in version 0.18 and will be removed in 0.20.\n",
      "  sample_weight=sample_weight)\n",
      "C:\\Users\\1\\Anaconda3\\lib\\site-packages\\sklearn\\metrics\\scorer.py:100: DeprecationWarning: Scoring method mean_squared_error was renamed to neg_mean_squared_error in version 0.18 and will be removed in 0.20.\n",
      "  sample_weight=sample_weight)\n",
      "C:\\Users\\1\\Anaconda3\\lib\\site-packages\\sklearn\\metrics\\scorer.py:100: DeprecationWarning: Scoring method mean_squared_error was renamed to neg_mean_squared_error in version 0.18 and will be removed in 0.20.\n",
      "  sample_weight=sample_weight)\n",
      "C:\\Users\\1\\Anaconda3\\lib\\site-packages\\sklearn\\metrics\\scorer.py:100: DeprecationWarning: Scoring method mean_squared_error was renamed to neg_mean_squared_error in version 0.18 and will be removed in 0.20.\n",
      "  sample_weight=sample_weight)\n",
      "C:\\Users\\1\\Anaconda3\\lib\\site-packages\\sklearn\\metrics\\scorer.py:100: DeprecationWarning: Scoring method mean_squared_error was renamed to neg_mean_squared_error in version 0.18 and will be removed in 0.20.\n",
      "  sample_weight=sample_weight)\n",
      "C:\\Users\\1\\Anaconda3\\lib\\site-packages\\sklearn\\metrics\\scorer.py:100: DeprecationWarning: Scoring method mean_squared_error was renamed to neg_mean_squared_error in version 0.18 and will be removed in 0.20.\n",
      "  sample_weight=sample_weight)\n",
      "C:\\Users\\1\\Anaconda3\\lib\\site-packages\\sklearn\\metrics\\scorer.py:100: DeprecationWarning: Scoring method mean_squared_error was renamed to neg_mean_squared_error in version 0.18 and will be removed in 0.20.\n",
      "  sample_weight=sample_weight)\n",
      "C:\\Users\\1\\Anaconda3\\lib\\site-packages\\sklearn\\metrics\\scorer.py:100: DeprecationWarning: Scoring method mean_squared_error was renamed to neg_mean_squared_error in version 0.18 and will be removed in 0.20.\n",
      "  sample_weight=sample_weight)\n",
      "C:\\Users\\1\\Anaconda3\\lib\\site-packages\\sklearn\\metrics\\scorer.py:100: DeprecationWarning: Scoring method mean_squared_error was renamed to neg_mean_squared_error in version 0.18 and will be removed in 0.20.\n",
      "  sample_weight=sample_weight)\n",
      "C:\\Users\\1\\Anaconda3\\lib\\site-packages\\sklearn\\metrics\\scorer.py:100: DeprecationWarning: Scoring method mean_squared_error was renamed to neg_mean_squared_error in version 0.18 and will be removed in 0.20.\n",
      "  sample_weight=sample_weight)\n"
     ]
    }
   ],
   "source": [
    "from sklearn.metrics import mean_squared_error\n",
    "from math import sqrt\n",
    "\n",
    "from sklearn.linear_model import LinearRegression\n",
    "from sklearn.metrics import mean_squared_error, r2_score\n",
    "from sklearn.model_selection import cross_val_score\n",
    "kf = KFold(n_splits=5, random_state=0)\n",
    "\n",
    "\n",
    "model_lr_corr= LinearRegression().fit(train_rez[corr_features], labels_int)\n",
    "model_lr_etc= LinearRegression().fit(train_rez[etc_features], labels_int)\n",
    "model_lr_rfe= LinearRegression().fit(train_rez[rfe_features], labels_int)\n",
    "\n",
    "print(cross_val_score(model_lr_corr, train_rez[corr_features], labels_int, scoring=\"mean_squared_error\", cv=kf).mean())\n",
    "print(cross_val_score(model_lr_etc, train_rez[etc_features], labels_int, scoring=\"mean_squared_error\", cv=kf).mean())\n",
    "print(cross_val_score(model_lr_rfe, train_rez[rfe_features], labels_int, scoring=\"mean_squared_error\", cv=kf).mean())\n",
    "\n",
    "\n"
   ]
  },
  {
   "cell_type": "code",
   "execution_count": null,
   "metadata": {
    "collapsed": true
   },
   "outputs": [],
   "source": []
  },
  {
   "cell_type": "code",
   "execution_count": 608,
   "metadata": {},
   "outputs": [
    {
     "name": "stderr",
     "output_type": "stream",
     "text": [
      "C:\\Users\\1\\Anaconda3\\lib\\site-packages\\sklearn\\metrics\\scorer.py:100: DeprecationWarning: Scoring method mean_squared_error was renamed to neg_mean_squared_error in version 0.18 and will be removed in 0.20.\n",
      "  sample_weight=sample_weight)\n",
      "C:\\Users\\1\\Anaconda3\\lib\\site-packages\\sklearn\\metrics\\scorer.py:100: DeprecationWarning: Scoring method mean_squared_error was renamed to neg_mean_squared_error in version 0.18 and will be removed in 0.20.\n",
      "  sample_weight=sample_weight)\n",
      "C:\\Users\\1\\Anaconda3\\lib\\site-packages\\sklearn\\metrics\\scorer.py:100: DeprecationWarning: Scoring method mean_squared_error was renamed to neg_mean_squared_error in version 0.18 and will be removed in 0.20.\n",
      "  sample_weight=sample_weight)\n",
      "C:\\Users\\1\\Anaconda3\\lib\\site-packages\\sklearn\\metrics\\scorer.py:100: DeprecationWarning: Scoring method mean_squared_error was renamed to neg_mean_squared_error in version 0.18 and will be removed in 0.20.\n",
      "  sample_weight=sample_weight)\n",
      "C:\\Users\\1\\Anaconda3\\lib\\site-packages\\sklearn\\metrics\\scorer.py:100: DeprecationWarning: Scoring method mean_squared_error was renamed to neg_mean_squared_error in version 0.18 and will be removed in 0.20.\n",
      "  sample_weight=sample_weight)\n"
     ]
    },
    {
     "name": "stdout",
     "output_type": "stream",
     "text": [
      "-0.10496230756375169\n"
     ]
    },
    {
     "name": "stderr",
     "output_type": "stream",
     "text": [
      "C:\\Users\\1\\Anaconda3\\lib\\site-packages\\sklearn\\metrics\\scorer.py:100: DeprecationWarning: Scoring method mean_squared_error was renamed to neg_mean_squared_error in version 0.18 and will be removed in 0.20.\n",
      "  sample_weight=sample_weight)\n",
      "C:\\Users\\1\\Anaconda3\\lib\\site-packages\\sklearn\\metrics\\scorer.py:100: DeprecationWarning: Scoring method mean_squared_error was renamed to neg_mean_squared_error in version 0.18 and will be removed in 0.20.\n",
      "  sample_weight=sample_weight)\n",
      "C:\\Users\\1\\Anaconda3\\lib\\site-packages\\sklearn\\metrics\\scorer.py:100: DeprecationWarning: Scoring method mean_squared_error was renamed to neg_mean_squared_error in version 0.18 and will be removed in 0.20.\n",
      "  sample_weight=sample_weight)\n",
      "C:\\Users\\1\\Anaconda3\\lib\\site-packages\\sklearn\\metrics\\scorer.py:100: DeprecationWarning: Scoring method mean_squared_error was renamed to neg_mean_squared_error in version 0.18 and will be removed in 0.20.\n",
      "  sample_weight=sample_weight)\n",
      "C:\\Users\\1\\Anaconda3\\lib\\site-packages\\sklearn\\metrics\\scorer.py:100: DeprecationWarning: Scoring method mean_squared_error was renamed to neg_mean_squared_error in version 0.18 and will be removed in 0.20.\n",
      "  sample_weight=sample_weight)\n",
      "C:\\Users\\1\\Anaconda3\\lib\\site-packages\\sklearn\\metrics\\scorer.py:100: DeprecationWarning: Scoring method mean_squared_error was renamed to neg_mean_squared_error in version 0.18 and will be removed in 0.20.\n",
      "  sample_weight=sample_weight)\n"
     ]
    },
    {
     "name": "stdout",
     "output_type": "stream",
     "text": [
      "-0.12586472503250984\n"
     ]
    },
    {
     "name": "stderr",
     "output_type": "stream",
     "text": [
      "C:\\Users\\1\\Anaconda3\\lib\\site-packages\\sklearn\\metrics\\scorer.py:100: DeprecationWarning: Scoring method mean_squared_error was renamed to neg_mean_squared_error in version 0.18 and will be removed in 0.20.\n",
      "  sample_weight=sample_weight)\n",
      "C:\\Users\\1\\Anaconda3\\lib\\site-packages\\sklearn\\metrics\\scorer.py:100: DeprecationWarning: Scoring method mean_squared_error was renamed to neg_mean_squared_error in version 0.18 and will be removed in 0.20.\n",
      "  sample_weight=sample_weight)\n"
     ]
    },
    {
     "name": "stdout",
     "output_type": "stream",
     "text": [
      "-0.09475280034965274\n"
     ]
    },
    {
     "name": "stderr",
     "output_type": "stream",
     "text": [
      "C:\\Users\\1\\Anaconda3\\lib\\site-packages\\sklearn\\metrics\\scorer.py:100: DeprecationWarning: Scoring method mean_squared_error was renamed to neg_mean_squared_error in version 0.18 and will be removed in 0.20.\n",
      "  sample_weight=sample_weight)\n",
      "C:\\Users\\1\\Anaconda3\\lib\\site-packages\\sklearn\\metrics\\scorer.py:100: DeprecationWarning: Scoring method mean_squared_error was renamed to neg_mean_squared_error in version 0.18 and will be removed in 0.20.\n",
      "  sample_weight=sample_weight)\n"
     ]
    }
   ],
   "source": [
    "from sklearn.ensemble import GradientBoostingRegressor\n",
    "gbr=GradientBoostingRegressor(n_estimators=1000, learning_rate=1, max_depth=1, random_state=0)\n",
    "model_gb_corr = GradientBoostingRegressor(n_estimators=1000, learning_rate=1, max_depth=1, random_state=0).fit(train_rez[corr_features], labels)\n",
    "model_gb_etc = GradientBoostingRegressor(n_estimators=1000, learning_rate=1, max_depth=1, random_state=0).fit(train_rez[etc_features], labels)\n",
    "model_gb_rfe = GradientBoostingRegressor(n_estimators=1000, learning_rate=1, max_depth=1, random_state=0).fit(train_rez[rfe_features], labels)\n",
    "kf = KFold(n_splits=5, random_state=0)\n",
    "           \n",
    "\n",
    "\n",
    "print(cross_val_score(gbr, train_rez[corr_features], labels_int, scoring=\"mean_squared_error\", cv=kf).mean())\n",
    "print(cross_val_score(gbr, train_rez[etc_features], labels_int, scoring=\"mean_squared_error\", cv=kf).mean())\n",
    "print(cross_val_score(gbr, train_rez[rfe_features], labels_int, scoring=\"mean_squared_error\", cv=kf).mean())\n"
   ]
  },
  {
   "cell_type": "code",
   "execution_count": 619,
   "metadata": {
    "collapsed": true
   },
   "outputs": [],
   "source": [
    "forecast1 = np.expm1(model_lr_rfe.predict(test_rez[rfe_features])).ravel() \n",
    "forecast2 = np.expm1(model_gb_rfe.predict(test_rez[rfe_features])).ravel()\n",
    "\n",
    "\n",
    "#3852\n",
    "#forecast1 = np.expm1(model_lr_etc.predict(test_rez[etc_features])).ravel() \n",
    "#forecast2 = np.expm1(model_gb_etc.predict(test_rez[etc_features])).ravel()\n",
    "preds = (forecast1 + forecast2)/2\n",
    "\n"
   ]
  },
  {
   "cell_type": "code",
   "execution_count": 620,
   "metadata": {
    "collapsed": true
   },
   "outputs": [],
   "source": [
    "test_data = pd.read_csv(\"C:/Users/1/lesson_py/Sberbank_ML-master/Sberbank_ML-master/Hometasks/Hometask_2/test.csv\")\n",
    "test_Id = test_data['Id']\n",
    "\n",
    "test_tmp = pd.DataFrame()\n",
    "test_tmp['Id'] = test_Id.ravel()\n",
    "test_tmp['SalePrice'] = preds\n",
    "test_tmp.to_csv('C:/Users/1/lesson_py/Sberbank_ML-master/Sberbank_ML-master/Hometasks/Hometask_2/submission.csv',index=False)"
   ]
  },
  {
   "cell_type": "markdown",
   "metadata": {},
   "source": [
    "Попробуйте запустить обучение на разных алгоритмах (пример запуска в семинарах):\n",
    "1. Линейная регрессия http://scikit-learn.org/stable/auto_examples/linear_model/plot_ols.html\n",
    "2. Решающее дерево http://scikit-learn.org/stable/modules/generated/sklearn.tree.DecisionTreeRegressor.html\n",
    "3. Случайный лес http://scikit-learn.org/stable/modules/generated/sklearn.ensemble.RandomForestRegressor.html\n",
    "4. Градиентный бустинг http://scikit-learn.org/stable/modules/generated/sklearn.ensemble.GradientBoostingRegressor.html\n",
    "\n",
    "И любые другие модели, которые покажутся вам интересными :)\n",
    "\n",
    "P.S.не забудьте использовать **cross_validation** и **K-Fold!**\n",
    "Также можно распараллелить процесс обучения, если параметру *n_jobs* в регрессор передать значение *-1*.\n",
    "С помощью  *cross_val_score* можно оценивать качество построенной модели.\n",
    "Также у каждого регрессора есть множество *параметров*. Подробно про них можно прочитать в документации http://scikit-learn.org\n",
    "\n",
    "Пример запуска модели можно найти в **Seminars/Seminar2**."
   ]
  },
  {
   "cell_type": "markdown",
   "metadata": {},
   "source": [
    "### Часть 4\n",
    "После того, как вы сформировали файл `submission.csv`, он появится в той же директории, где находится основной Jupyter Notebook. Далее его необходимо отправить в систему. Для этого нужно нажать на `Submit Predictions`.\n",
    "Далее вы нажиматее `Upload Submission File` и отправляете туда `submission.csv` (сам код отправлять в этом соревновании не нужно!). После того, как Вы нажали `Submit`, Kaggle перенаправит вас на *Leader board*, где вы сможете увидеть свой *score* и место среди всех участников.\n",
    "Будьте внимательны, нельзя делать больше 10 посылок в день!"
   ]
  },
  {
   "cell_type": "code",
   "execution_count": 621,
   "metadata": {
    "scrolled": false
   },
   "outputs": [
    {
     "data": {
      "image/png": "[encoded data removed]",
      "text/plain": [
       "<IPython.core.display.Image object>"
      ]
     },
     "execution_count": 621,
     "metadata": {},
     "output_type": "execute_result"
    }
   ],
   "source": [
    "from IPython.display import Image\n",
    "Image(\"C:/Users/1/lesson_py/Sberbank_ML-master/Sberbank_ML-master/Hometasks/Hometask_2/kagle.PNG\")"
   ]
  },
  {
   "cell_type": "markdown",
   "metadata": {},
   "source": [
    "Идеи, как можно улучшить результат:\n",
    "* Найти какие категориальные признаки являются ординальными и закодировать их соответственно\n",
    "* Найти наиболее важные категориальные признаки и попробовать их закодировать разными способами\n",
    "* Потюнить регрессор\n",
    "* Сгенерировать новые признаки"
   ]
  },
  {
   "cell_type": "markdown",
   "metadata": {},
   "source": [
    "### Часть 4\n",
    "Опишите полученные результаты, какого скора Вы смогли добиться, какое место заняли? Какой алгоритм оказался лучше других? Можете ли Вы объяснить, почему так вышло?"
   ]
  },
  {
   "cell_type": "markdown",
   "metadata": {},
   "source": [
    "Ответ:"
   ]
  },
  {
   "cell_type": "code",
   "execution_count": null,
   "metadata": {
    "collapsed": true
   },
   "outputs": [],
   "source": [
    "Место 3852=) наилучший результат показал ансамбль алгоритмов (линейная регрессия и  xgboost) со списоком фичей полученных через Recursive Feature Elimination (перебираем переменные).\n",
    "Ансамбль рабоате лучше, чем алгоритмы по отдельности за счет усреднения результатов. "
   ]
  }
 ],
 "metadata": {
  "anaconda-cloud": {},
  "kernelspec": {
   "display_name": "Python [conda env:anaconda3]",
   "language": "python",
   "name": "conda-env-anaconda3-py"
  },
  "language_info": {
   "codemirror_mode": {
    "name": "ipython",
    "version": 3
   },
   "file_extension": ".py",
   "mimetype": "text/x-python",
   "name": "python",
   "nbconvert_exporter": "python",
   "pygments_lexer": "ipython3",
   "version": "3.5.5"
  }
 },
 "nbformat": 4,
 "nbformat_minor": 2
}
