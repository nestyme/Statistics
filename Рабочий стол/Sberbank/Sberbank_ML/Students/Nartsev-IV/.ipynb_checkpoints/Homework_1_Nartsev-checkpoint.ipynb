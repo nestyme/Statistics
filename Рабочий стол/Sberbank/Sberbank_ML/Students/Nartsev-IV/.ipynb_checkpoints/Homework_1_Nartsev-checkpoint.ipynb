{
 "cells": [
  {
   "cell_type": "markdown",
   "metadata": {},
   "source": [
    "# МАДМО\n",
    "\n",
    "<a href=\"https://mipt.ru/science/labs/laboratoriya-neyronnykh-sistem-i-glubokogo-obucheniya/\"><img align=\"right\" src=\"https://avatars1.githubusercontent.com/u/29918795?v=4&s=200\" alt=\"DeepHackLab\" style=\"position:relative;top:-40px;right:10px;height:100px;\" /></a>\n",
    "\n",
    "\n",
    "\n",
    "### Физтех-Школа Прикладной математики и информатики МФТИ \n",
    "### Лаборатория нейронных сетей и глубокого обучения (DeepHackLab)  \n",
    "Домашнее задание необходимо загрузить в общий репозиторий с именной папкой \n"
   ]
  },
  {
   "cell_type": "markdown",
   "metadata": {},
   "source": [
    "## Домашнее задание 1\n",
    "### Основы Python и пакет NumPy\n",
    "---\n"
   ]
  },
  {
   "cell_type": "code",
   "execution_count": 354,
   "metadata": {
    "collapsed": true
   },
   "outputs": [],
   "source": [
    "import numpy as np\n",
    "import random\n",
    "import scipy.stats as sps\n",
    "\n",
    "import matplotlib.pyplot as plt\n",
    "from mpl_toolkits.mplot3d import Axes3D"
   ]
  },
  {
   "cell_type": "markdown",
   "metadata": {},
   "source": [
    "### Задача 1\n",
    "В первой задаче вам предлагается перемножить две квадратные матрицы двумя способами -- без использования пакета ***numpy*** и с ним."
   ]
  },
  {
   "cell_type": "code",
   "execution_count": 355,
   "metadata": {},
   "outputs": [
    {
     "name": "stdout",
     "output_type": "stream",
     "text": [
      "[[ 0.6203658   0.45075308  0.73197212  0.85631693  0.74491599  0.36952748\n",
      "   0.43849233  0.94005854  0.69431654  0.50634084]\n",
      " [ 0.35565721  0.64027597  0.96834357  0.43834801  0.75166435  0.76197446\n",
      "   0.28746184  0.24222998  0.14511149  0.28919549]\n",
      " [ 0.1013456   0.21491446  0.18329499  0.45545977  0.72619412  0.94540801\n",
      "   0.34030633  0.90869066  0.18373845  0.33157657]\n",
      " [ 0.27187335  0.55835862  0.8363041   0.34710114  0.27504612  0.57948408\n",
      "   0.79123705  0.06914595  0.26908482  0.08982611]\n",
      " [ 0.81607704  0.6315016   0.72780849  0.33555834  0.02554453  0.30986277\n",
      "   0.4786708   0.9888966   0.96342997  0.98687771]\n",
      " [ 0.66379611  0.67216298  0.06651255  0.22102403  0.56937231  0.10563175\n",
      "   0.85224113  0.18472148  0.23522961  0.18827708]\n",
      " [ 0.03378614  0.80711452  0.05672256  0.12986525  0.59791909  0.50065676\n",
      "   0.25042024  0.22617788  0.97413435  0.88187817]\n",
      " [ 0.69355097  0.96396305  0.34657893  0.11327096  0.93405351  0.27277715\n",
      "   0.52557101  0.77565353  0.74648586  0.61184001]\n",
      " [ 0.01467399  0.64779685  0.23185497  0.56991234  0.9956082   0.02408168\n",
      "   0.89889863  0.52775083  0.98087993  0.33656688]\n",
      " [ 0.83744455  0.4877483   0.32588774  0.77044628  0.86420116  0.20808372\n",
      "   0.98041108  0.77931165  0.91965595  0.91893591]]\n",
      "[[ 0.51805953  0.7608262   0.89644167  0.15977313  0.71116647  0.34594869\n",
      "   0.8548427   0.4211778   0.58278022  0.47925759]\n",
      " [ 0.94815342  0.72576117  0.28395021  0.2328151   0.73084454  0.09244296\n",
      "   0.26029936  0.39682148  0.56096864  0.96174752]\n",
      " [ 0.36460736  0.15764583  0.59660577  0.65495741  0.63558088  0.07067264\n",
      "   0.73709708  0.37314055  0.70215117  0.56281942]\n",
      " [ 0.83166977  0.79934295  0.46337186  0.28479651  0.31650173  0.10155935\n",
      "   0.3600891   0.58236137  0.61361086  0.40840188]\n",
      " [ 0.88429453  0.26746708  0.16453801  0.13713366  0.34485492  0.38644628\n",
      "   0.33963876  0.17334065  0.10538604  0.67220339]\n",
      " [ 0.36794343  0.01125203  0.69310019  0.59035256  0.10117833  0.60876404\n",
      "   0.79610871  0.0607302   0.00991072  0.95877201]\n",
      " [ 0.29195648  0.19630371  0.65344508  0.85091038  0.83635119  0.70488518\n",
      "   0.26004093  0.64800112  0.53979115  0.37113852]\n",
      " [ 0.19786956  0.36469989  0.41958878  0.08282744  0.34585181  0.0245556\n",
      "   0.33386102  0.65945736  0.92972615  0.38174711]\n",
      " [ 0.23161312  0.20579095  0.8955116   0.09456425  0.55551026  0.29756289\n",
      "   0.02279087  0.20253418  0.23979939  0.06998689]\n",
      " [ 0.62757346  0.05478907  0.31929207  0.9750742   0.22795704  0.54490827\n",
      "   0.36241321  0.72362987  0.83028812  0.283367  ]]\n"
     ]
    }
   ],
   "source": [
    "n = 10\n",
    "# Для генерации матриц используем фукнцию random -- она используется для генерации случайных объектов \n",
    "# функция sample создает случайную выборку. В качестве аргумента ей передается кортеж (i,j), здесь i -- число строк,\n",
    "# j -- число столбцов.\n",
    "a = np.random.sample((n,n))\n",
    "b = np.random.sample((n,n))\n",
    "# выведите размерность (ранг) каждой матрицы с помощью функции ndim.\n",
    "# Используйте функцию shape, что она вывела?\n",
    "print(a)\n",
    "print(b)"
   ]
  },
  {
   "cell_type": "code",
   "execution_count": 356,
   "metadata": {
    "collapsed": true
   },
   "outputs": [],
   "source": [
    "def mult(a, b):\n",
    "    # здесь напишите перемножение матриц без \n",
    "    # использования NumPy и выведите результат \n",
    "    n = len(a)\n",
    "    c = [[0] * n for i in range(n)]\n",
    "\n",
    "    for i in range(n):\n",
    "        for j in range(n):\n",
    "            k=0\n",
    "            for s in range(n):\n",
    "                k = k + a[i][s]*b[s][j]\n",
    "            c[i][j] = k\n",
    "    print(c)\n",
    "    pass"
   ]
  },
  {
   "cell_type": "code",
   "execution_count": 357,
   "metadata": {
    "collapsed": true
   },
   "outputs": [],
   "source": [
    "def np_mult(a, b):\n",
    "    # здесь напишите перемножение матриц с\n",
    "    # использованием NumPy и выведите результат\n",
    "    s = a @ b\n",
    "    print(s)\n",
    "    pass"
   ]
  },
  {
   "cell_type": "code",
   "execution_count": 358,
   "metadata": {},
   "outputs": [
    {
     "name": "stdout",
     "output_type": "stream",
     "text": [
      "Wall time: 15.6 ms\n",
      "[[3.3151236965920159, 2.4019542580307687, 3.3606995088614346, 2.2580088277565995, 2.9941216220080902, 1.7224887123260382, 2.6699207506631533, 2.7746311222902897, 3.4335585022145838, 3.0612222592691545], [2.8009710316225296, 1.638424166065382, 2.445036285432876, 2.0782431829744041, 2.2821124885931323, 1.4588629193879845, 2.467949284707684, 1.7817206925763054, 2.2574001668337131, 3.0373541882792936], [2.2217256578222537, 1.2850992444571954, 2.1210841045774855, 1.6792226545758937, 1.6124233911495827, 1.4678461456383083, 1.9572054205112916, 1.7418115928001379, 2.0215910046468393, 2.5190255487539206], [2.0836762292895306, 1.3422992316785323, 2.3246336343780096, 1.9918790553356416, 2.2519219801066637, 1.3875311894307572, 1.9414486439747884, 1.6109628670948768, 1.9370876313701286, 2.3845633641983457], [2.8804806623504349, 2.1794438258936424, 3.6251324351850269, 2.5786897452095099, 3.153352148571809, 1.810848518103465, 2.6088966964692788, 2.9561199787419032, 3.7807510255182444, 2.7616201205794293], [2.189636867365365, 1.6268892659672543, 2.0000762314093721, 1.455805583684503, 2.2328339432441995, 1.3811178495863101, 1.5053787376167105, 1.6629037849601498, 1.8517897368259266, 2.0329232486520894], [2.5213391912382326, 1.2702145635193798, 2.2113331443127544, 1.8288352759933031, 1.9777433584331519, 1.5918239058204582, 1.411637187217373, 1.7122291545070736, 1.9712124649997234, 2.2566884946249508], [3.2839923431477049, 2.1985501071272595, 3.0301819881646992, 2.0622539543537082, 3.0655557145465919, 1.8370974605752339, 2.3088293738776327, 2.4944076957280292, 3.0507898371474305, 3.1069877290027637], [2.8748694763728797, 1.8292041229436113, 2.5746818964665685, 1.8476019361522202, 2.7133223659485375, 1.6604866795010584, 1.4688799264365608, 2.2284193919719084, 2.4801521035125749, 2.3847393678251594], [3.7267992825568821, 2.6081286223219755, 3.811669599485723, 2.8033607612980367, 3.5319343784318433, 2.3813252738833155, 2.6887806801401344, 3.2794418057039607, 3.7936494305601434, 3.1350620748791123]]\n"
     ]
    }
   ],
   "source": [
    "t1= %%time\n",
    "# засечем время работы функции без NumPy\n",
    "f1 = mult(a,b)"
   ]
  },
  {
   "cell_type": "code",
   "execution_count": 359,
   "metadata": {},
   "outputs": [
    {
     "name": "stdout",
     "output_type": "stream",
     "text": [
      "[[ 3.3151237   2.40195426  3.36069951  2.25800883  2.99412162  1.72248871\n",
      "   2.66992075  2.77463112  3.4335585   3.06122226]\n",
      " [ 2.80097103  1.63842417  2.44503629  2.07824318  2.28211249  1.45886292\n",
      "   2.46794928  1.78172069  2.25740017  3.03735419]\n",
      " [ 2.22172566  1.28509924  2.1210841   1.67922265  1.61242339  1.46784615\n",
      "   1.95720542  1.74181159  2.021591    2.51902555]\n",
      " [ 2.08367623  1.34229923  2.32463363  1.99187906  2.25192198  1.38753119\n",
      "   1.94144864  1.61096287  1.93708763  2.38456336]\n",
      " [ 2.88048066  2.17944383  3.62513244  2.57868975  3.15335215  1.81084852\n",
      "   2.6088967   2.95611998  3.78075103  2.76162012]\n",
      " [ 2.18963687  1.62688927  2.00007623  1.45580558  2.23283394  1.38111785\n",
      "   1.50537874  1.66290378  1.85178974  2.03292325]\n",
      " [ 2.52133919  1.27021456  2.21133314  1.82883528  1.97774336  1.59182391\n",
      "   1.41163719  1.71222915  1.97121246  2.25668849]\n",
      " [ 3.28399234  2.19855011  3.03018199  2.06225395  3.06555571  1.83709746\n",
      "   2.30882937  2.4944077   3.05078984  3.10698773]\n",
      " [ 2.87486948  1.82920412  2.5746819   1.84760194  2.71332237  1.66048668\n",
      "   1.46887993  2.22841939  2.4801521   2.38473937]\n",
      " [ 3.72679928  2.60812862  3.8116696   2.80336076  3.53193438  2.38132527\n",
      "   2.68878068  3.27944181  3.79364943  3.13506207]]\n",
      "Wall time: 386 ms\n"
     ]
    }
   ],
   "source": [
    "%%time\n",
    "# засечем время работы функции с NumPy\n",
    "f2 = np_mult(a,b)"
   ]
  },
  {
   "cell_type": "markdown",
   "metadata": {},
   "source": [
    "### Задача 2\n",
    "Напишите функцию, которая по данной последовательности $\\{A_i\\}_{i=1}^n$ строит последовательность $S_n$, где $S_k = \\frac{A_1 + ... + A_k}{k}$.  \n",
    "Аналогично -- с помощью библиотеки **NumPy** и без нее. Сравните скорость, объясните результат."
   ]
  },
  {
   "cell_type": "code",
   "execution_count": 371,
   "metadata": {},
   "outputs": [
    {
     "data": {
      "text/plain": [
       "array([ 0.29902663,  0.95951922,  0.8467243 ,  0.58029149,  0.42997154,\n",
       "        0.3539408 ,  0.82378005,  0.3760516 ,  0.89154235,  0.32359019])"
      ]
     },
     "execution_count": 371,
     "metadata": {},
     "output_type": "execute_result"
    }
   ],
   "source": [
    "A = sps.uniform.rvs(size=10 ** 1) \n",
    "A"
   ]
  },
  {
   "cell_type": "code",
   "execution_count": 372,
   "metadata": {
    "collapsed": true
   },
   "outputs": [],
   "source": [
    "# функция c NumPy\n",
    "def sec_av(A):\n",
    "    #A = np.array([1,4,5,6])\n",
    "\n",
    "    M = np.tril(np.tile(A, (len(A),1)))\n",
    "\n",
    "    S = M.sum(axis=1) / np.arange(1,len(A)+1,1)\n",
    "\n",
    "    return S"
   ]
  },
  {
   "cell_type": "code",
   "execution_count": 373,
   "metadata": {},
   "outputs": [
    {
     "data": {
      "text/plain": [
       "array([ 0.29902663,  0.62927292,  0.70175671,  0.67139041,  0.62310663,\n",
       "        0.57824566,  0.613322  ,  0.5836632 ,  0.617872  ,  0.58844382])"
      ]
     },
     "execution_count": 373,
     "metadata": {},
     "output_type": "execute_result"
    }
   ],
   "source": [
    "sec_av(A)"
   ]
  },
  {
   "cell_type": "code",
   "execution_count": 374,
   "metadata": {
    "collapsed": true
   },
   "outputs": [],
   "source": [
    "# функция суммы первых N членов\n",
    "def summa_N(A, N):\n",
    "    SUMMA = 0\n",
    "    for i in range(N):\n",
    "        SUMMA = SUMMA + A[i]  \n",
    "    return SUMMA"
   ]
  },
  {
   "cell_type": "code",
   "execution_count": 375,
   "metadata": {
    "collapsed": true
   },
   "outputs": [],
   "source": [
    "# функция без NumPy\n",
    "def stupid_sec_av(A):\n",
    "    \n",
    "    S = [0 for i in range(len(A))]\n",
    "\n",
    "    for i in range(len(A)):\n",
    "  \n",
    "        S[i] = summa_N(A, i+1)/(i+1)\n",
    "    \n",
    "    return S"
   ]
  },
  {
   "cell_type": "code",
   "execution_count": 376,
   "metadata": {},
   "outputs": [
    {
     "data": {
      "text/plain": [
       "[0.29902662571919714,\n",
       " 0.62927292117708866,\n",
       " 0.70175671285461139,\n",
       " 0.67139040763928337,\n",
       " 0.62310663360173879,\n",
       " 0.57824566153447743,\n",
       " 0.61332200325374309,\n",
       " 0.58366320343806122,\n",
       " 0.61787199724453834,\n",
       " 0.58844381656726086]"
      ]
     },
     "execution_count": 376,
     "metadata": {},
     "output_type": "execute_result"
    }
   ],
   "source": [
    "stupid_sec_av(A)"
   ]
  },
  {
   "cell_type": "code",
   "execution_count": 377,
   "metadata": {},
   "outputs": [
    {
     "data": {
      "text/plain": [
       "[0.29902662571919714,\n",
       " 0.62927292117708866,\n",
       " 0.70175671285461139,\n",
       " 0.67139040763928337,\n",
       " 0.62310663360173879,\n",
       " 0.57824566153447743,\n",
       " 0.61332200325374309,\n",
       " 0.58366320343806122,\n",
       " 0.61787199724453834,\n",
       " 0.58844381656726086]"
      ]
     },
     "execution_count": 377,
     "metadata": {},
     "output_type": "execute_result"
    }
   ],
   "source": [
    "f = stupid_sec_av(A)\n",
    "f"
   ]
  },
  {
   "cell_type": "code",
   "execution_count": 378,
   "metadata": {},
   "outputs": [
    {
     "name": "stdout",
     "output_type": "stream",
     "text": [
      "Wall time: 0 ns\n",
      "Wall time: 0 ns\n"
     ]
    },
    {
     "data": {
      "text/plain": [
       "3.3306690738754696e-16"
      ]
     },
     "execution_count": 378,
     "metadata": {},
     "output_type": "execute_result"
    }
   ],
   "source": [
    "# зададим некоторую последовательность и проверим ее на ваших функциях. \n",
    "# Первая функция должна работать ~ в 50 раз быстрее\n",
    "\n",
    "%time S1 = sec_av(A)\n",
    "%time S2 = stupid_sec_av(A)\n",
    "#проверим корректность:\n",
    "np.abs(S1 - S2).sum()"
   ]
  },
  {
   "cell_type": "markdown",
   "metadata": {},
   "source": [
    "### Задача 3\n",
    "\n",
    "Пусть задан некоторый массив $X$. Надо построить новый массив, где все элементы с нечетными индексами требуется заменить на число $a$ (если оно не указано, то на 1). Все элементы с четными индексами исходного массива нужно возвести в куб и записать в обратном порядке относительно позиций этих элементов. Массив $X$ при этом должен остаться без изменений. В конце требуется слить массив X с преобразованным X и вывести в обратном порядке. "
   ]
  },
  {
   "cell_type": "code",
   "execution_count": 379,
   "metadata": {},
   "outputs": [
    {
     "name": "stdout",
     "output_type": "stream",
     "text": [
      "[ 0  1  2  3  4  5  6  7  8  9 10 11 12 13 14 15 16 17 18]\n"
     ]
    }
   ],
   "source": [
    "X = np.arange(0, 19, 1)\n",
    "print(X)"
   ]
  },
  {
   "cell_type": "code",
   "execution_count": 380,
   "metadata": {
    "collapsed": true
   },
   "outputs": [],
   "source": [
    "# функция, решающая задачу с помощью NumPy\n",
    "def transformation(X, a=1):\n",
    "\n",
    "    Y = X.copy()\n",
    "    \n",
    "    b = Y[0:len(Y):2] # четные\n",
    "    b[:] = 1\n",
    "    \n",
    "    c = Y[1:len(Y):2] # нечетные\n",
    "    c[:] = c**3\n",
    "    c[:] = c[len(c)::-1]\n",
    "    \n",
    "    Z = X + Y\n",
    "    \n",
    "    d = Z[len(Z)::-1]\n",
    "    \n",
    "    return d"
   ]
  },
  {
   "cell_type": "code",
   "execution_count": 381,
   "metadata": {
    "collapsed": true
   },
   "outputs": [],
   "source": [
    "# функция, решающая задачу  без NumPy\n",
    "def stupid_transformation(X):\n",
    "    \n",
    "    S = X.copy()\n",
    "    \n",
    "    a1 = S[1::2]\n",
    "    a1[:] = a1**3\n",
    "    a1[:] = a1[len(a1)::-1]\n",
    "    \n",
    "    n = len(S)\n",
    "    c1 = [0 for i in range(n)]\n",
    "\n",
    "    for i in range(n):\n",
    "        if i % 2 == 0: \n",
    "            c1[i] = 1         \n",
    "        else:\n",
    "            m = int(i/2)  \n",
    "            c1[i] = a1[m]   \n",
    "    \n",
    "    c2 = X + c1\n",
    "    \n",
    "    c3 = c2[len(c2)::-1]\n",
    "    \n",
    "    return c3"
   ]
  },
  {
   "cell_type": "code",
   "execution_count": 382,
   "metadata": {},
   "outputs": [
    {
     "data": {
      "text/plain": [
       "array([  19,   18,   17,   42,   15,  138,   13,  354,   11,  738,    9,\n",
       "       1338,    7, 2202,    5, 3378,    3, 4914,    1])"
      ]
     },
     "execution_count": 382,
     "metadata": {},
     "output_type": "execute_result"
    }
   ],
   "source": [
    "H = stupid_transformation(X)\n",
    "H"
   ]
  },
  {
   "cell_type": "code",
   "execution_count": 383,
   "metadata": {},
   "outputs": [
    {
     "data": {
      "text/plain": [
       "array([  19,   18,   17,   42,   15,  138,   13,  354,   11,  738,    9,\n",
       "       1338,    7, 2202,    5, 3378,    3, 4914,    1])"
      ]
     },
     "execution_count": 383,
     "metadata": {},
     "output_type": "execute_result"
    }
   ],
   "source": [
    "G = transformation(X)\n",
    "G"
   ]
  },
  {
   "cell_type": "code",
   "execution_count": 384,
   "metadata": {},
   "outputs": [
    {
     "name": "stdout",
     "output_type": "stream",
     "text": [
      "Wall time: 31.2 ms\n",
      "Wall time: 0 ns\n"
     ]
    },
    {
     "data": {
      "text/plain": [
       "0.0"
      ]
     },
     "execution_count": 384,
     "metadata": {},
     "output_type": "execute_result"
    }
   ],
   "source": [
    "X = sps.uniform.rvs(size=10 ** 2) \n",
    "# здесь код эффективнее примерно в 20 раз. \n",
    "# если Вы вдруг соберетесь печатать массив без np -- лучше сначала посмотрите на его размер\n",
    "%time S1 = transformation(X)\n",
    "%time S2 = stupid_transformation(X)\n",
    "# проверим корректность:\n",
    "np.abs(S1 - S2).sum()"
   ]
  },
  {
   "cell_type": "markdown",
   "metadata": {},
   "source": [
    "Почему методы ***numpy*** оказываются эффективнее?"
   ]
  },
  {
   "cell_type": "code",
   "execution_count": 385,
   "metadata": {
    "collapsed": true
   },
   "outputs": [],
   "source": [
    "# Ваш ответ\n",
    "Вроде как должны быть эффективнее из-за того, что работа над массивами происходит быстрее:\n",
    "    1) все элементы в массивах имеют одинаковый тип данных\n",
    "    2) функции/методы применяются сразу ко всем элементам\n",
    "    \n",
    "    но что-то в решении у меня все наоборот))"
   ]
  },
  {
   "cell_type": "markdown",
   "metadata": {},
   "source": [
    "## Дополнительные задачи"
   ]
  },
  {
   "cell_type": "markdown",
   "metadata": {},
   "source": [
    "Дополнительные задачи подразумевают, что Вы самостоятельно разберётесь в некоторых функциях ***numpy***, чтобы их сделать.  \n",
    "\n",
    "Эти задачи не являются обязательными, но могут повлиять на Ваш рейтинг в лучшую сторону (точные правила учёта доп. задач будут оглашены позже)."
   ]
  },
  {
   "cell_type": "markdown",
   "metadata": {},
   "source": [
    "### Задача 4*"
   ]
  },
  {
   "cell_type": "markdown",
   "metadata": {},
   "source": [
    "Дана функция двух переменных: $f(x, y) = sin(x)cos(y)$ (это просто такой красивый 3D-график), а также дана функция для отрисовки $f(x, y)$ (`draw_f()`), которая принимает на вход двумерную сетку, на которой будет вычисляться функция.  \n",
    "\n",
    "Вам нужно разобраться в том, как строить такие сетки (подсказка - это одна конкретная функция ***numpy***), и подать такую сетку на вход функции отрисовки."
   ]
  },
  {
   "cell_type": "code",
   "execution_count": 28,
   "metadata": {
    "collapsed": true
   },
   "outputs": [],
   "source": [
    "from matplotlib import pyplot as plt\n",
    "from mpl_toolkits.mplot3d import Axes3D\n",
    "%matplotlib inline\n",
    "\n",
    "def f(x, y):\n",
    "    '''Функция двух переменных'''\n",
    "    return np.sin(x) * np.cos(y)\n",
    "\n",
    "def draw_f(grid_x, grid_y):\n",
    "    '''Функция отрисовки функции f(x, y)'''\n",
    "    fig = plt.figure(figsize=(10, 8))\n",
    "    ax = Axes3D(fig)\n",
    "    ax.plot_surface(grid_x, grid_y, f(grid_x, grid_y), cmap='inferno')\n",
    "    plt.show()"
   ]
  },
  {
   "cell_type": "code",
   "execution_count": 32,
   "metadata": {},
   "outputs": [
    {
     "data": {
      "text/plain": [
       "(array([[1, 2, 3, 4],\n",
       "        [1, 2, 3, 4],\n",
       "        [1, 2, 3, 4],\n",
       "        [1, 2, 3, 4]]), array([[4, 4, 4, 4],\n",
       "        [5, 5, 5, 5],\n",
       "        [6, 6, 6, 6],\n",
       "        [7, 7, 7, 7]]))"
      ]
     },
     "execution_count": 32,
     "metadata": {},
     "output_type": "execute_result"
    }
   ],
   "source": [
    "grid_x, grid_y = np.meshgrid([1,2,3,4],[4,5,6,7])\n",
    "grid_x, grid_y\n"
   ]
  },
  {
   "cell_type": "code",
   "execution_count": 33,
   "metadata": {},
   "outputs": [
    {
     "data": {
      "image/png": "[encoded data removed]",
      "text/plain": [
       "<matplotlib.figure.Figure at 0xaf32438>"
      ]
     },
     "metadata": {},
     "output_type": "display_data"
    }
   ],
   "source": [
    "grid_x, grid_y = np.meshgrid([1,2,3],[4,5,6,7]) # Ваш код здесь\n",
    "\n",
    "draw_f(grid_x, grid_y)"
   ]
  },
  {
   "cell_type": "markdown",
   "metadata": {},
   "source": [
    "### Задача 5*"
   ]
  },
  {
   "cell_type": "markdown",
   "metadata": {},
   "source": [
    "Вам дана картинка. При загрузке её размерность равна 3: **(w, h, num_channels)**, где **w** - ширина картинки в пикселях, **h** - высота картинки в пикселях, **num_channels** - количество каналов *(R, G, B, alpha)*.\n",
    "\n",
    "Вам нужно \"развернуть\" картинку в одномерный массив размера w \\* h \\* num_channels, написав **одну строку кода**."
   ]
  },
  {
   "cell_type": "code",
   "execution_count": 110,
   "metadata": {
    "collapsed": true
   },
   "outputs": [],
   "source": [
    "from matplotlib import pyplot as plt\n",
    "%matplotlib inline"
   ]
  },
  {
   "cell_type": "code",
   "execution_count": 111,
   "metadata": {},
   "outputs": [
    {
     "data": {
      "image/png": "[encoded data removed]",
      "text/plain": [
       "<matplotlib.figure.Figure at 0xadcbe80>"
      ]
     },
     "metadata": {},
     "output_type": "display_data"
    }
   ],
   "source": [
    "path_to_image = './403 error.png'\n",
    "image_array = plt.imread(path_to_image)\n",
    "plt.imshow(image_array);"
   ]
  },
  {
   "cell_type": "code",
   "execution_count": 114,
   "metadata": {
    "collapsed": true
   },
   "outputs": [],
   "source": [
    "flat_image_array = image_array.ravel() # Ваш код здесь"
   ]
  },
  {
   "cell_type": "code",
   "execution_count": 115,
   "metadata": {},
   "outputs": [
    {
     "data": {
      "text/plain": [
       "242820"
      ]
     },
     "execution_count": 115,
     "metadata": {},
     "output_type": "execute_result"
    }
   ],
   "source": [
    "flat_image_array.size # здесь выведите размер нового массива"
   ]
  },
  {
   "cell_type": "code",
   "execution_count": null,
   "metadata": {
    "collapsed": true
   },
   "outputs": [],
   "source": []
  }
 ],
 "metadata": {
  "anaconda-cloud": {},
  "kernelspec": {
   "display_name": "Python [default]",
   "language": "python",
   "name": "python3"
  },
  "language_info": {
   "codemirror_mode": {
    "name": "ipython",
    "version": 3
   },
   "file_extension": ".py",
   "mimetype": "text/x-python",
   "name": "python",
   "nbconvert_exporter": "python",
   "pygments_lexer": "ipython3",
   "version": "3.5.5"
  }
 },
 "nbformat": 4,
 "nbformat_minor": 2
}
