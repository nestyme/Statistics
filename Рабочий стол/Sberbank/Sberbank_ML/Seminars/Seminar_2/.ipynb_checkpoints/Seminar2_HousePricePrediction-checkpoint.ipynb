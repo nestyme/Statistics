{
 "cells": [
  {
   "cell_type": "code",
   "execution_count": 1,
   "metadata": {},
<<<<<<< HEAD
   "outputs": [
    {
     "name": "stderr",
     "output_type": "stream",
     "text": [
      "/anaconda3/lib/python3.6/importlib/_bootstrap.py:219: RuntimeWarning: numpy.dtype size changed, may indicate binary incompatibility. Expected 96, got 88\n",
      "  return f(*args, **kwds)\n"
     ]
    }
   ],
=======
   "outputs": [],
>>>>>>> 187a606afa61a769d1e6c1390234c9344f9cdfc9
   "source": [
    "import pandas as pd\n",
    "import numpy as np\n",
    "import matplotlib.pyplot as plt\n",
    "%matplotlib inline\n",
    "import seaborn as sns"
   ]
  },
  {
   "cell_type": "code",
   "execution_count": 2,
   "metadata": {},
   "outputs": [],
   "source": [
    "train = pd.read_csv(\"train.csv\")\n",
    "test = pd.read_csv(\"test.csv\")\n",
    "\n",
    "labels = train.SalePrice\n",
    "\n",
    "train.drop([\"Id\", \"SalePrice\"], axis=1, inplace=True)\n",
    "test.drop([\"Id\"], axis=1, inplace=True)"
   ]
  },
  {
   "cell_type": "code",
   "execution_count": 3,
   "metadata": {
    "scrolled": true
   },
   "outputs": [
    {
     "name": "stdout",
     "output_type": "stream",
     "text": [
      "(1460, 79)\n"
     ]
    },
    {
     "data": {
      "text/html": [
       "<div>\n",
       "<style scoped>\n",
       "    .dataframe tbody tr th:only-of-type {\n",
       "        vertical-align: middle;\n",
       "    }\n",
       "\n",
       "    .dataframe tbody tr th {\n",
       "        vertical-align: top;\n",
       "    }\n",
       "\n",
       "    .dataframe thead th {\n",
       "        text-align: right;\n",
       "    }\n",
       "</style>\n",
       "<table border=\"1\" class=\"dataframe\">\n",
       "  <thead>\n",
       "    <tr style=\"text-align: right;\">\n",
       "      <th></th>\n",
       "      <th>MSSubClass</th>\n",
       "      <th>MSZoning</th>\n",
       "      <th>LotFrontage</th>\n",
       "      <th>LotArea</th>\n",
       "      <th>Street</th>\n",
       "      <th>Alley</th>\n",
       "      <th>LotShape</th>\n",
       "      <th>LandContour</th>\n",
       "      <th>Utilities</th>\n",
       "      <th>LotConfig</th>\n",
       "      <th>...</th>\n",
       "      <th>ScreenPorch</th>\n",
       "      <th>PoolArea</th>\n",
       "      <th>PoolQC</th>\n",
       "      <th>Fence</th>\n",
       "      <th>MiscFeature</th>\n",
       "      <th>MiscVal</th>\n",
       "      <th>MoSold</th>\n",
       "      <th>YrSold</th>\n",
       "      <th>SaleType</th>\n",
       "      <th>SaleCondition</th>\n",
       "    </tr>\n",
       "  </thead>\n",
       "  <tbody>\n",
       "    <tr>\n",
       "      <th>0</th>\n",
       "      <td>60</td>\n",
       "      <td>RL</td>\n",
       "      <td>65.0</td>\n",
       "      <td>8450</td>\n",
       "      <td>Pave</td>\n",
       "      <td>NaN</td>\n",
       "      <td>Reg</td>\n",
       "      <td>Lvl</td>\n",
       "      <td>AllPub</td>\n",
       "      <td>Inside</td>\n",
       "      <td>...</td>\n",
       "      <td>0</td>\n",
       "      <td>0</td>\n",
       "      <td>NaN</td>\n",
       "      <td>NaN</td>\n",
       "      <td>NaN</td>\n",
       "      <td>0</td>\n",
       "      <td>2</td>\n",
       "      <td>2008</td>\n",
       "      <td>WD</td>\n",
       "      <td>Normal</td>\n",
       "    </tr>\n",
       "    <tr>\n",
       "      <th>1</th>\n",
       "      <td>20</td>\n",
       "      <td>RL</td>\n",
       "      <td>80.0</td>\n",
       "      <td>9600</td>\n",
       "      <td>Pave</td>\n",
       "      <td>NaN</td>\n",
       "      <td>Reg</td>\n",
       "      <td>Lvl</td>\n",
       "      <td>AllPub</td>\n",
       "      <td>FR2</td>\n",
       "      <td>...</td>\n",
       "      <td>0</td>\n",
       "      <td>0</td>\n",
       "      <td>NaN</td>\n",
       "      <td>NaN</td>\n",
       "      <td>NaN</td>\n",
       "      <td>0</td>\n",
       "      <td>5</td>\n",
       "      <td>2007</td>\n",
       "      <td>WD</td>\n",
       "      <td>Normal</td>\n",
       "    </tr>\n",
       "    <tr>\n",
       "      <th>2</th>\n",
       "      <td>60</td>\n",
       "      <td>RL</td>\n",
       "      <td>68.0</td>\n",
       "      <td>11250</td>\n",
       "      <td>Pave</td>\n",
       "      <td>NaN</td>\n",
       "      <td>IR1</td>\n",
       "      <td>Lvl</td>\n",
       "      <td>AllPub</td>\n",
       "      <td>Inside</td>\n",
       "      <td>...</td>\n",
       "      <td>0</td>\n",
       "      <td>0</td>\n",
       "      <td>NaN</td>\n",
       "      <td>NaN</td>\n",
       "      <td>NaN</td>\n",
       "      <td>0</td>\n",
       "      <td>9</td>\n",
       "      <td>2008</td>\n",
       "      <td>WD</td>\n",
       "      <td>Normal</td>\n",
       "    </tr>\n",
       "    <tr>\n",
       "      <th>3</th>\n",
       "      <td>70</td>\n",
       "      <td>RL</td>\n",
       "      <td>60.0</td>\n",
       "      <td>9550</td>\n",
       "      <td>Pave</td>\n",
       "      <td>NaN</td>\n",
       "      <td>IR1</td>\n",
       "      <td>Lvl</td>\n",
       "      <td>AllPub</td>\n",
       "      <td>Corner</td>\n",
       "      <td>...</td>\n",
       "      <td>0</td>\n",
       "      <td>0</td>\n",
       "      <td>NaN</td>\n",
       "      <td>NaN</td>\n",
       "      <td>NaN</td>\n",
       "      <td>0</td>\n",
       "      <td>2</td>\n",
       "      <td>2006</td>\n",
       "      <td>WD</td>\n",
       "      <td>Abnorml</td>\n",
       "    </tr>\n",
       "    <tr>\n",
       "      <th>4</th>\n",
       "      <td>60</td>\n",
       "      <td>RL</td>\n",
       "      <td>84.0</td>\n",
       "      <td>14260</td>\n",
       "      <td>Pave</td>\n",
       "      <td>NaN</td>\n",
       "      <td>IR1</td>\n",
       "      <td>Lvl</td>\n",
       "      <td>AllPub</td>\n",
       "      <td>FR2</td>\n",
       "      <td>...</td>\n",
       "      <td>0</td>\n",
       "      <td>0</td>\n",
       "      <td>NaN</td>\n",
       "      <td>NaN</td>\n",
       "      <td>NaN</td>\n",
       "      <td>0</td>\n",
       "      <td>12</td>\n",
       "      <td>2008</td>\n",
       "      <td>WD</td>\n",
       "      <td>Normal</td>\n",
       "    </tr>\n",
       "  </tbody>\n",
       "</table>\n",
       "<p>5 rows × 79 columns</p>\n",
       "</div>"
      ],
      "text/plain": [
       "   MSSubClass MSZoning  LotFrontage  LotArea Street Alley LotShape  \\\n",
       "0          60       RL         65.0     8450   Pave   NaN      Reg   \n",
       "1          20       RL         80.0     9600   Pave   NaN      Reg   \n",
       "2          60       RL         68.0    11250   Pave   NaN      IR1   \n",
       "3          70       RL         60.0     9550   Pave   NaN      IR1   \n",
       "4          60       RL         84.0    14260   Pave   NaN      IR1   \n",
       "\n",
       "  LandContour Utilities LotConfig      ...       ScreenPorch PoolArea PoolQC  \\\n",
       "0         Lvl    AllPub    Inside      ...                 0        0    NaN   \n",
       "1         Lvl    AllPub       FR2      ...                 0        0    NaN   \n",
       "2         Lvl    AllPub    Inside      ...                 0        0    NaN   \n",
       "3         Lvl    AllPub    Corner      ...                 0        0    NaN   \n",
       "4         Lvl    AllPub       FR2      ...                 0        0    NaN   \n",
       "\n",
       "  Fence MiscFeature MiscVal  MoSold  YrSold  SaleType  SaleCondition  \n",
       "0   NaN         NaN       0       2    2008        WD         Normal  \n",
       "1   NaN         NaN       0       5    2007        WD         Normal  \n",
       "2   NaN         NaN       0       9    2008        WD         Normal  \n",
       "3   NaN         NaN       0       2    2006        WD        Abnorml  \n",
       "4   NaN         NaN       0      12    2008        WD         Normal  \n",
       "\n",
       "[5 rows x 79 columns]"
      ]
     },
     "execution_count": 3,
     "metadata": {},
     "output_type": "execute_result"
    }
   ],
   "source": [
    "print(train.shape)\n",
    "train.head()"
   ]
  },
  {
   "cell_type": "code",
   "execution_count": 4,
   "metadata": {},
   "outputs": [],
   "source": [
    "all = pd.concat([train, test], axis=0)"
   ]
  },
  {
   "cell_type": "code",
<<<<<<< HEAD
   "execution_count": 5,
=======
   "execution_count": 13,
>>>>>>> 187a606afa61a769d1e6c1390234c9344f9cdfc9
   "metadata": {},
   "outputs": [
    {
     "name": "stdout",
     "output_type": "stream",
     "text": [
      "Name           \tNaNs\t#unique\n",
      "MSSubClass     \t0.00\t15\n",
      "MSZoning       \t0.00\t5\n",
      "LotFrontage    \t0.18\t110\n",
      "LotArea        \t0.00\t1073\n",
      "Street         \t0.00\t2\n",
      "Alley          \t0.94\t2\n",
      "LotShape       \t0.00\t4\n",
      "LandContour    \t0.00\t4\n",
      "Utilities      \t0.00\t2\n",
      "LotConfig      \t0.00\t5\n",
      "LandSlope      \t0.00\t3\n",
      "Neighborhood   \t0.00\t25\n",
      "Condition1     \t0.00\t9\n",
      "Condition2     \t0.00\t8\n",
      "BldgType       \t0.00\t5\n",
      "HouseStyle     \t0.00\t8\n",
      "OverallQual    \t0.00\t10\n",
      "OverallCond    \t0.00\t9\n",
      "YearBuilt      \t0.00\t112\n",
      "YearRemodAdd   \t0.00\t61\n",
      "RoofStyle      \t0.00\t6\n",
      "RoofMatl       \t0.00\t8\n",
      "Exterior1st    \t0.00\t15\n",
      "Exterior2nd    \t0.00\t16\n",
      "MasVnrType     \t0.01\t4\n",
      "MasVnrArea     \t0.01\t327\n",
      "ExterQual      \t0.00\t4\n",
      "ExterCond      \t0.00\t5\n",
      "Foundation     \t0.00\t6\n",
      "BsmtQual       \t0.03\t4\n",
      "BsmtCond       \t0.03\t4\n",
      "BsmtExposure   \t0.03\t4\n",
      "BsmtFinType1   \t0.03\t6\n",
      "BsmtFinSF1     \t0.00\t637\n",
      "BsmtFinType2   \t0.03\t6\n",
      "BsmtFinSF2     \t0.00\t144\n",
      "BsmtUnfSF      \t0.00\t780\n",
      "TotalBsmtSF    \t0.00\t721\n",
      "Heating        \t0.00\t6\n",
      "HeatingQC      \t0.00\t5\n",
      "CentralAir     \t0.00\t2\n",
      "Electrical     \t0.00\t5\n",
      "1stFlrSF       \t0.00\t753\n",
      "2ndFlrSF       \t0.00\t417\n",
      "LowQualFinSF   \t0.00\t24\n",
      "GrLivArea      \t0.00\t861\n",
      "BsmtFullBath   \t0.00\t4\n",
      "BsmtHalfBath   \t0.00\t3\n",
      "FullBath       \t0.00\t4\n",
      "HalfBath       \t0.00\t3\n",
      "BedroomAbvGr   \t0.00\t8\n",
      "KitchenAbvGr   \t0.00\t4\n",
      "KitchenQual    \t0.00\t4\n",
      "TotRmsAbvGrd   \t0.00\t12\n",
      "Functional     \t0.00\t7\n",
      "Fireplaces     \t0.00\t4\n",
      "FireplaceQu    \t0.47\t5\n",
      "GarageType     \t0.06\t6\n",
      "GarageYrBlt    \t0.06\t97\n",
      "GarageFinish   \t0.06\t3\n",
      "GarageCars     \t0.00\t5\n",
      "GarageArea     \t0.00\t441\n",
      "GarageQual     \t0.06\t5\n",
      "GarageCond     \t0.06\t5\n",
      "PavedDrive     \t0.00\t3\n",
      "WoodDeckSF     \t0.00\t274\n",
      "OpenPorchSF    \t0.00\t202\n",
      "EnclosedPorch  \t0.00\t120\n",
      "3SsnPorch      \t0.00\t20\n",
      "ScreenPorch    \t0.00\t76\n",
      "PoolArea       \t0.00\t8\n",
      "PoolQC         \t1.00\t3\n",
      "Fence          \t0.81\t4\n",
      "MiscFeature    \t0.96\t4\n",
      "MiscVal        \t0.00\t21\n",
      "MoSold         \t0.00\t12\n",
      "YrSold         \t0.00\t5\n",
      "SaleType       \t0.00\t9\n",
      "SaleCondition  \t0.00\t6\n"
     ]
    }
   ],
   "source": [
    "print(\"{0:15}\\t{1}\\t{2}\".format(\"Name\", \"NaNs\", \"#unique\"))\n",
    "for col in train.columns:\n",
    "    print(\"{0:15}\\t{1:.2f}\\t{2}\".format(col, train[col].isnull().mean(), train[col].nunique()))"
   ]
  },
  {
   "cell_type": "code",
   "execution_count": 14,
   "metadata": {},
   "outputs": [
    {
     "data": {
      "text/plain": [
       "Shed    49\n",
       "Othr     2\n",
       "Gar2     2\n",
       "TenC     1\n",
       "Name: MiscFeature, dtype: int64"
      ]
     },
     "execution_count": 14,
     "metadata": {},
     "output_type": "execute_result"
    }
   ],
   "source": [
    "# some useless features\n",
    "train[\"MiscFeature\"].value_counts()"
   ]
  },
  {
   "cell_type": "code",
   "execution_count": 15,
   "metadata": {},
   "outputs": [
    {
     "data": {
      "text/plain": [
       "MnPrv    157\n",
       "GdPrv     59\n",
       "GdWo      54\n",
       "MnWw      11\n",
       "Name: Fence, dtype: int64"
      ]
     },
     "execution_count": 15,
     "metadata": {},
     "output_type": "execute_result"
    }
   ],
   "source": [
    "train[\"Fence\"].value_counts()"
   ]
  },
  {
   "cell_type": "code",
   "execution_count": 16,
   "metadata": {},
   "outputs": [],
   "source": [
    "to_drop = [\"MiscFeature\", \"PoolQC\"]\n",
    "to_replace_to_none = [\"Fence\", \"FireplaceQu\", \"Alley\"]\n",
    "\n",
    "for col in to_replace_to_none:\n",
    "    all[col].fillna(\"No\" + col, inplace=True)\n",
    "    \n",
    "all.drop(to_drop, axis=1, inplace=True, errors=\"ignore\")\n",
    "all.fillna(-1, inplace=True)"
   ]
  },
  {
   "cell_type": "code",
   "execution_count": 17,
   "metadata": {},
   "outputs": [
    {
     "data": {
      "text/html": [
       "<div>\n",
       "<style scoped>\n",
       "    .dataframe tbody tr th:only-of-type {\n",
       "        vertical-align: middle;\n",
       "    }\n",
       "\n",
       "    .dataframe tbody tr th {\n",
       "        vertical-align: top;\n",
       "    }\n",
       "\n",
       "    .dataframe thead th {\n",
       "        text-align: right;\n",
       "    }\n",
       "</style>\n",
       "<table border=\"1\" class=\"dataframe\">\n",
       "  <thead>\n",
       "    <tr style=\"text-align: right;\">\n",
       "      <th></th>\n",
       "      <th>MSSubClass</th>\n",
       "      <th>MSZoning</th>\n",
       "      <th>LotFrontage</th>\n",
       "      <th>LotArea</th>\n",
       "      <th>Street</th>\n",
       "      <th>Alley</th>\n",
       "      <th>LotShape</th>\n",
       "      <th>LandContour</th>\n",
       "      <th>Utilities</th>\n",
       "      <th>LotConfig</th>\n",
       "      <th>...</th>\n",
       "      <th>EnclosedPorch</th>\n",
       "      <th>3SsnPorch</th>\n",
       "      <th>ScreenPorch</th>\n",
       "      <th>PoolArea</th>\n",
       "      <th>Fence</th>\n",
       "      <th>MiscVal</th>\n",
       "      <th>MoSold</th>\n",
       "      <th>YrSold</th>\n",
       "      <th>SaleType</th>\n",
       "      <th>SaleCondition</th>\n",
       "    </tr>\n",
       "  </thead>\n",
       "  <tbody>\n",
       "    <tr>\n",
       "      <th>0</th>\n",
       "      <td>60</td>\n",
       "      <td>RL</td>\n",
       "      <td>65.0</td>\n",
       "      <td>8450</td>\n",
       "      <td>Pave</td>\n",
       "      <td>NoAlley</td>\n",
       "      <td>Reg</td>\n",
       "      <td>Lvl</td>\n",
       "      <td>AllPub</td>\n",
       "      <td>Inside</td>\n",
       "      <td>...</td>\n",
       "      <td>0</td>\n",
       "      <td>0</td>\n",
       "      <td>0</td>\n",
       "      <td>0</td>\n",
       "      <td>NoFence</td>\n",
       "      <td>0</td>\n",
       "      <td>2</td>\n",
       "      <td>2008</td>\n",
       "      <td>WD</td>\n",
       "      <td>Normal</td>\n",
       "    </tr>\n",
       "    <tr>\n",
       "      <th>1</th>\n",
       "      <td>20</td>\n",
       "      <td>RL</td>\n",
       "      <td>80.0</td>\n",
       "      <td>9600</td>\n",
       "      <td>Pave</td>\n",
       "      <td>NoAlley</td>\n",
       "      <td>Reg</td>\n",
       "      <td>Lvl</td>\n",
       "      <td>AllPub</td>\n",
       "      <td>FR2</td>\n",
       "      <td>...</td>\n",
       "      <td>0</td>\n",
       "      <td>0</td>\n",
       "      <td>0</td>\n",
       "      <td>0</td>\n",
       "      <td>NoFence</td>\n",
       "      <td>0</td>\n",
       "      <td>5</td>\n",
       "      <td>2007</td>\n",
       "      <td>WD</td>\n",
       "      <td>Normal</td>\n",
       "    </tr>\n",
       "    <tr>\n",
       "      <th>2</th>\n",
       "      <td>60</td>\n",
       "      <td>RL</td>\n",
       "      <td>68.0</td>\n",
       "      <td>11250</td>\n",
       "      <td>Pave</td>\n",
       "      <td>NoAlley</td>\n",
       "      <td>IR1</td>\n",
       "      <td>Lvl</td>\n",
       "      <td>AllPub</td>\n",
       "      <td>Inside</td>\n",
       "      <td>...</td>\n",
       "      <td>0</td>\n",
       "      <td>0</td>\n",
       "      <td>0</td>\n",
       "      <td>0</td>\n",
       "      <td>NoFence</td>\n",
       "      <td>0</td>\n",
       "      <td>9</td>\n",
       "      <td>2008</td>\n",
       "      <td>WD</td>\n",
       "      <td>Normal</td>\n",
       "    </tr>\n",
       "    <tr>\n",
       "      <th>3</th>\n",
       "      <td>70</td>\n",
       "      <td>RL</td>\n",
       "      <td>60.0</td>\n",
       "      <td>9550</td>\n",
       "      <td>Pave</td>\n",
       "      <td>NoAlley</td>\n",
       "      <td>IR1</td>\n",
       "      <td>Lvl</td>\n",
       "      <td>AllPub</td>\n",
       "      <td>Corner</td>\n",
       "      <td>...</td>\n",
       "      <td>272</td>\n",
       "      <td>0</td>\n",
       "      <td>0</td>\n",
       "      <td>0</td>\n",
       "      <td>NoFence</td>\n",
       "      <td>0</td>\n",
       "      <td>2</td>\n",
       "      <td>2006</td>\n",
       "      <td>WD</td>\n",
       "      <td>Abnorml</td>\n",
       "    </tr>\n",
       "    <tr>\n",
       "      <th>4</th>\n",
       "      <td>60</td>\n",
       "      <td>RL</td>\n",
       "      <td>84.0</td>\n",
       "      <td>14260</td>\n",
       "      <td>Pave</td>\n",
       "      <td>NoAlley</td>\n",
       "      <td>IR1</td>\n",
       "      <td>Lvl</td>\n",
       "      <td>AllPub</td>\n",
       "      <td>FR2</td>\n",
       "      <td>...</td>\n",
       "      <td>0</td>\n",
       "      <td>0</td>\n",
       "      <td>0</td>\n",
       "      <td>0</td>\n",
       "      <td>NoFence</td>\n",
       "      <td>0</td>\n",
       "      <td>12</td>\n",
       "      <td>2008</td>\n",
       "      <td>WD</td>\n",
       "      <td>Normal</td>\n",
       "    </tr>\n",
       "  </tbody>\n",
       "</table>\n",
       "<p>5 rows × 77 columns</p>\n",
       "</div>"
      ],
      "text/plain": [
       "   MSSubClass MSZoning  LotFrontage  LotArea Street    Alley LotShape  \\\n",
       "0          60       RL         65.0     8450   Pave  NoAlley      Reg   \n",
       "1          20       RL         80.0     9600   Pave  NoAlley      Reg   \n",
       "2          60       RL         68.0    11250   Pave  NoAlley      IR1   \n",
       "3          70       RL         60.0     9550   Pave  NoAlley      IR1   \n",
       "4          60       RL         84.0    14260   Pave  NoAlley      IR1   \n",
       "\n",
       "  LandContour Utilities LotConfig      ...       EnclosedPorch 3SsnPorch  \\\n",
       "0         Lvl    AllPub    Inside      ...                   0         0   \n",
       "1         Lvl    AllPub       FR2      ...                   0         0   \n",
       "2         Lvl    AllPub    Inside      ...                   0         0   \n",
       "3         Lvl    AllPub    Corner      ...                 272         0   \n",
       "4         Lvl    AllPub       FR2      ...                   0         0   \n",
       "\n",
       "  ScreenPorch PoolArea    Fence MiscVal  MoSold  YrSold  SaleType  \\\n",
       "0           0        0  NoFence       0       2    2008        WD   \n",
       "1           0        0  NoFence       0       5    2007        WD   \n",
       "2           0        0  NoFence       0       9    2008        WD   \n",
       "3           0        0  NoFence       0       2    2006        WD   \n",
       "4           0        0  NoFence       0      12    2008        WD   \n",
       "\n",
       "   SaleCondition  \n",
       "0         Normal  \n",
       "1         Normal  \n",
       "2         Normal  \n",
       "3        Abnorml  \n",
       "4         Normal  \n",
       "\n",
       "[5 rows x 77 columns]"
      ]
     },
     "execution_count": 17,
     "metadata": {},
     "output_type": "execute_result"
    }
   ],
   "source": [
    "all.head()"
   ]
  },
  {
   "cell_type": "code",
   "execution_count": 18,
   "metadata": {},
   "outputs": [
    {
     "data": {
      "text/plain": [
       "NAmes      443\n",
       "CollgCr    267\n",
       "OldTown    239\n",
       "Edwards    194\n",
       "Somerst    182\n",
       "NridgHt    166\n",
       "Gilbert    165\n",
       "Sawyer     151\n",
       "NWAmes     131\n",
       "SawyerW    125\n",
       "Mitchel    114\n",
       "BrkSide    108\n",
       "Crawfor    103\n",
       "IDOTRR      93\n",
       "Timber      72\n",
       "NoRidge     71\n",
       "StoneBr     51\n",
       "SWISU       48\n",
       "ClearCr     44\n",
       "MeadowV     37\n",
       "BrDale      30\n",
       "Blmngtn     28\n",
       "Veenker     24\n",
       "NPkVill     23\n",
       "Blueste     10\n",
       "Name: Neighborhood, dtype: int64"
      ]
     },
     "execution_count": 18,
     "metadata": {},
     "output_type": "execute_result"
    }
   ],
   "source": [
    "all[\"Neighborhood\"].value_counts()"
   ]
  },
  {
   "cell_type": "code",
   "execution_count": 19,
   "metadata": {},
   "outputs": [
    {
     "name": "stderr",
     "output_type": "stream",
     "text": [
      "/home/nestyme/anaconda3/lib/python3.5/site-packages/matplotlib/axes/_axes.py:6462: UserWarning: The 'normed' kwarg is deprecated, and has been replaced by the 'density' kwarg.\n",
      "  warnings.warn(\"The 'normed' kwarg is deprecated, and has been \"\n"
     ]
    },
    {
     "data": {
      "text/plain": [
       "<matplotlib.axes._subplots.AxesSubplot at 0x7f248d8cdf98>"
      ]
     },
     "execution_count": 19,
     "metadata": {},
     "output_type": "execute_result"
    },
    {
     "data": {
      "image/png": "iVBORw0KGgoAAAANSUhEUgAAA40AAAEKCAYAAAC2frBwAAAABHNCSVQICAgIfAhkiAAAAAlwSFlz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\nAElFTkSuQmCC\n",
      "text/plain": [
       "<Figure size 1080x288 with 2 Axes>"
      ]
     },
     "metadata": {},
     "output_type": "display_data"
    }
   ],
   "source": [
    "f, (ax1, ax2) = plt.subplots(ncols=2, figsize=(15, 4))\n",
    "\n",
    "sns.distplot(labels, ax=ax1)\n",
    "sns.distplot(np.log1p(labels), ax=ax2)"
   ]
  },
  {
   "cell_type": "code",
   "execution_count": 20,
   "metadata": {},
   "outputs": [
    {
     "data": {
      "text/plain": [
       "<matplotlib.axes._subplots.AxesSubplot at 0x7f248d891780>"
      ]
     },
     "execution_count": 20,
     "metadata": {},
     "output_type": "execute_result"
    },
    {
     "data": {
      "image/png": "iVBORw0KGgoAAAANSUhEUgAAAZsAAAEKCAYAAADEovgeAAAABHNCSVQICAgIfAhkiAAAAAlwSFlz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\nw4ic/wc9Y0VFvCZ1jwAAAABJRU5ErkJggg==\n",
      "text/plain": [
       "<Figure size 432x288 with 1 Axes>"
      ]
     },
     "metadata": {},
     "output_type": "display_data"
    }
   ],
   "source": [
    "sns.regplot(train[\"YearBuilt\"], labels)"
   ]
  },
  {
   "cell_type": "code",
   "execution_count": 21,
   "metadata": {},
   "outputs": [
    {
     "name": "stdout",
     "output_type": "stream",
     "text": [
      "(-0.21750331522000158, 4.2974640062573336e-17)\n"
     ]
    },
    {
     "data": {
      "image/png": "iVBORw0KGgoAAAANSUhEUgAAAZsAAAEKCAYAAADEovgeAAAABHNCSVQICAgIfAhkiAAAAAlwSFlz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\n",
      "text/plain": [
       "<Figure size 432x288 with 1 Axes>"
      ]
     },
     "metadata": {},
     "output_type": "display_data"
    }
   ],
   "source": [
    "from scipy.stats import pearsonr\n",
    "\n",
    "sns.regplot(train[\"YearRemodAdd\"] - train[\"YearBuilt\"], labels)\n",
    "print(pearsonr(train[\"YearRemodAdd\"] - train[\"YearBuilt\"], labels))"
   ]
  },
  {
   "cell_type": "code",
   "execution_count": 22,
   "metadata": {},
   "outputs": [
    {
     "data": {
      "text/plain": [
       "'\\nA\\tAgriculture\\nC\\tCommercial\\nFV\\tFloating Village Residential\\nI\\tIndustrial\\nRH\\tResidential High Density\\nRL\\tResidential Low Density\\nRP\\tResidential Low Density Park \\nRM\\tResidential Medium Density\\n'"
      ]
     },
     "execution_count": 22,
     "metadata": {},
     "output_type": "execute_result"
    },
    {
     "data": {
      "image/png": "iVBORw0KGgoAAAANSUhEUgAAAZsAAAEKCAYAAADEovgeAAAABHNCSVQICAgIfAhkiAAAAAlwSFlz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\nERHJOBUbERHJOBUbERHJOBUbERHJuP8P1QSc5HnKe4cAAAAASUVORK5CYII=\n",
      "text/plain": [
       "<Figure size 432x288 with 1 Axes>"
      ]
     },
     "metadata": {},
     "output_type": "display_data"
    }
   ],
   "source": [
    "sns.stripplot(train[\"MSZoning\"], labels)\n",
    "\"\"\"\n",
    "A\tAgriculture\n",
    "C\tCommercial\n",
    "FV\tFloating Village Residential\n",
    "I\tIndustrial\n",
    "RH\tResidential High Density\n",
    "RL\tResidential Low Density\n",
    "RP\tResidential Low Density Park \n",
    "RM\tResidential Medium Density\n",
    "\"\"\""
   ]
  },
  {
   "cell_type": "code",
   "execution_count": 23,
   "metadata": {},
   "outputs": [
    {
     "data": {
      "text/plain": [
       "<matplotlib.axes._subplots.AxesSubplot at 0x7f248c47b0f0>"
      ]
     },
     "execution_count": 23,
     "metadata": {},
     "output_type": "execute_result"
    },
    {
     "data": {
      "image/png": "iVBORw0KGgoAAAANSUhEUgAAAZsAAAEKCAYAAADEovgeAAAABHNCSVQICAgIfAhkiAAAAAlwSFlz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\n",
      "text/plain": [
       "<Figure size 432x288 with 1 Axes>"
      ]
     },
     "metadata": {},
     "output_type": "display_data"
    }
   ],
   "source": [
    "group_col = \"SaleCondition\"\n",
    "\n",
    "train_with_labels = train.copy()\n",
    "train_with_labels[\"label\"] = labels\n",
    "groupped = train_with_labels.groupby(group_col).median().reset_index()[[group_col, \"label\"]]\n",
    "sns.barplot(groupped[group_col], groupped.label)"
   ]
  },
  {
   "cell_type": "code",
   "execution_count": 39,
   "metadata": {},
   "outputs": [],
   "source": [
    "categorial = [\"MSZoning\", \"Street\", \"LotShape\", \"BldgType\", \"HouseStyle\", \"RoofStyle\", \"RoofMatl\",\"ExterQual\", \"ExterCond\", \"Foundation\", \"BsmtQual\", \"BsmtCond\", \"BsmtExposure\", \"Heating\", \"HeatingQC\", \"CentralAir\", \"Electrical\", \"KitchenQual\", \"Functional\",  \"SaleType\", \"SaleCondition\"]\n",
    "for col in categorial:\n",
    "    all[col] = all[col].factorize()[0]\n",
    "    \n",
    "train = all.iloc[:train.shape[0]]\n",
    "test = all.iloc[train.shape[0]:]"
   ]
  },
  {
   "cell_type": "code",
   "execution_count": 40,
   "metadata": {},
   "outputs": [],
   "source": [
    "from sklearn.model_selection import KFold\n",
    "\n",
    "cv = KFold(n_splits=5, random_state=0)"
   ]
  },
  {
   "cell_type": "code",
   "execution_count": 75,
   "metadata": {},
   "outputs": [
    {
     "name": "stdout",
     "output_type": "stream",
     "text": [
      "-0.023661519587271595\n"
     ]
    },
    {
     "name": "stderr",
     "output_type": "stream",
     "text": [
      "/home/nestyme/anaconda3/lib/python3.5/site-packages/sklearn/metrics/scorer.py:100: DeprecationWarning: Scoring method mean_squared_error was renamed to neg_mean_squared_error in version 0.18 and will be removed in 0.20.\n",
      "  sample_weight=sample_weight)\n",
      "/home/nestyme/anaconda3/lib/python3.5/site-packages/sklearn/metrics/scorer.py:100: DeprecationWarning: Scoring method mean_squared_error was renamed to neg_mean_squared_error in version 0.18 and will be removed in 0.20.\n",
      "  sample_weight=sample_weight)\n",
      "/home/nestyme/anaconda3/lib/python3.5/site-packages/sklearn/metrics/scorer.py:100: DeprecationWarning: Scoring method mean_squared_error was renamed to neg_mean_squared_error in version 0.18 and will be removed in 0.20.\n",
      "  sample_weight=sample_weight)\n",
      "/home/nestyme/anaconda3/lib/python3.5/site-packages/sklearn/metrics/scorer.py:100: DeprecationWarning: Scoring method mean_squared_error was renamed to neg_mean_squared_error in version 0.18 and will be removed in 0.20.\n",
      "  sample_weight=sample_weight)\n",
      "/home/nestyme/anaconda3/lib/python3.5/site-packages/sklearn/metrics/scorer.py:100: DeprecationWarning: Scoring method mean_squared_error was renamed to neg_mean_squared_error in version 0.18 and will be removed in 0.20.\n",
      "  sample_weight=sample_weight)\n"
     ]
    }
   ],
   "source": [
    "from sklearn.model_selection import cross_val_score\n",
    "from sklearn.ensemble import RandomForestRegressor\n",
    "from sklearn.ensemble import ExtraTreesRegressor\n",
    "from sklearn.linear_model import LinearRegression\n",
    "from sklearn.model_selection import cross_val_score\n",
    "regr = LinearRegression(n_jobs=-1)\n",
    "print(cross_val_score(regr, train, np.log1p(labels), scoring=\"mean_squared_error\", cv=cv).mean())"
   ]
  },
  {
   "cell_type": "code",
   "execution_count": 83,
   "metadata": {},
   "outputs": [],
   "source": [
    "def submit(preds):\n",
    "    submission = pd.read_csv(\"sample_submission.csv\")\n",
    "    submission[\"SalePrice\"] = preds\n",
    "    submission.to_csv(\"submission.csv\", index=False)\n",
    "\n",
    "regr = LinearRegression(normalize=True,n_jobs=-1)\n",
    "regr.fit(train, np.log1p(labels))\n",
    "preds = regr.predict(test)\n",
    "submit(np.expm1(preds))"
   ]
  },
  {
   "cell_type": "code",
   "execution_count": 80,
   "metadata": {},
   "outputs": [],
   "source": [
    "def code_freq(data, col):\n",
    "    return data[col].map(data.groupby(col).count().iloc[:, 0] / data.shape[0])"
   ]
  },
  {
   "cell_type": "code",
   "execution_count": 81,
   "metadata": {},
   "outputs": [],
   "source": [
    "from sklearn.base import BaseEstimator\n",
    "from sklearn.model_selection import cross_val_predict\n",
    "\n",
    "class MeanEncoder(BaseEstimator):\n",
    "    def __init__(self, col):\n",
    "        self.col = col\n",
    "        \n",
    "    def fit(self, X, y):\n",
    "        X_copy = X.copy()\n",
    "        X_copy['target'] = y\n",
    "        self.encoding = X_copy.groupby(col)['target'].mean()\n",
    "        return self\n",
    "        \n",
    "    def predict(self, X):\n",
    "        return X[col].map(self.encoding).fillna(-1)\n",
    "\n",
    "\n",
    "\n",
    "def code_mean(train, test, labels, col, cv):\n",
    "    mean_encoder = MeanEncoder(col)\n",
    "    train_col = cross_val_predict(mean_encoder, train, labels, cv=cv)\n",
    "    test_col = mean_encoder.fit(train, labels).predict(test)\n",
    "    \n",
    "    return train_col, test_col"
   ]
  },
  {
   "cell_type": "markdown",
   "metadata": {},
   "source": [
    "* Найти какие категориальные признаки являются ординальными и закодировать их соответственно\n",
    "* Найти наиболее важные категориальные признаки и попробовать их закодировать разными способами\n",
    "* Потюнить RandomForest\n",
    "* Сгенерировать новые признаки"
   ]
  },
  {
   "cell_type": "code",
   "execution_count": null,
   "metadata": {
    "collapsed": true
   },
   "outputs": [],
   "source": []
  }
 ],
 "metadata": {
  "anaconda-cloud": {},
  "kernelspec": {
   "display_name": "Python 3",
   "language": "python",
   "name": "python3"
  },
  "language_info": {
   "codemirror_mode": {
    "name": "ipython",
    "version": 3
   },
   "file_extension": ".py",
   "mimetype": "text/x-python",
   "name": "python",
   "nbconvert_exporter": "python",
   "pygments_lexer": "ipython3",
<<<<<<< HEAD
   "version": "3.6.5"
=======
   "version": "3.6.4"
>>>>>>> 187a606afa61a769d1e6c1390234c9344f9cdfc9
  }
 },
 "nbformat": 4,
 "nbformat_minor": 1
}
