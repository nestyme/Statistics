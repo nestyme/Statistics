{
 "cells": [
  {
   "cell_type": "code",
   "execution_count": 1,
   "metadata": {},
   "outputs": [
    {
     "name": "stderr",
     "output_type": "stream",
     "text": [
      "/anaconda3/lib/python3.6/importlib/_bootstrap.py:219: RuntimeWarning: numpy.dtype size changed, may indicate binary incompatibility. Expected 96, got 88\n",
      "  return f(*args, **kwds)\n"
     ]
    }
   ],
   "source": [
    "import pandas as pd\n",
    "import numpy as np\n",
    "import matplotlib.pyplot as plt\n",
    "%matplotlib inline\n",
    "import seaborn as sns"
   ]
  },
  {
   "cell_type": "code",
   "execution_count": 2,
   "metadata": {},
   "outputs": [],
   "source": [
    "train = pd.read_csv(\"train.csv\")\n",
    "test = pd.read_csv(\"test.csv\")\n",
    "\n",
    "labels = train.SalePrice\n",
    "\n",
    "train.drop([\"Id\", \"SalePrice\"], axis=1, inplace=True)\n",
    "test.drop([\"Id\"], axis=1, inplace=True)"
   ]
  },
  {
   "cell_type": "code",
   "execution_count": 3,
   "metadata": {
    "scrolled": true
   },
   "outputs": [
    {
     "name": "stdout",
     "output_type": "stream",
     "text": [
      "(1460, 79)\n"
     ]
    },
    {
     "data": {
      "text/html": [
       "<div>\n",
       "<style scoped>\n",
       "    .dataframe tbody tr th:only-of-type {\n",
       "        vertical-align: middle;\n",
       "    }\n",
       "\n",
       "    .dataframe tbody tr th {\n",
       "        vertical-align: top;\n",
       "    }\n",
       "\n",
       "    .dataframe thead th {\n",
       "        text-align: right;\n",
       "    }\n",
       "</style>\n",
       "<table border=\"1\" class=\"dataframe\">\n",
       "  <thead>\n",
       "    <tr style=\"text-align: right;\">\n",
       "      <th></th>\n",
       "      <th>MSSubClass</th>\n",
       "      <th>MSZoning</th>\n",
       "      <th>LotFrontage</th>\n",
       "      <th>LotArea</th>\n",
       "      <th>Street</th>\n",
       "      <th>Alley</th>\n",
       "      <th>LotShape</th>\n",
       "      <th>LandContour</th>\n",
       "      <th>Utilities</th>\n",
       "      <th>LotConfig</th>\n",
       "      <th>...</th>\n",
       "      <th>ScreenPorch</th>\n",
       "      <th>PoolArea</th>\n",
       "      <th>PoolQC</th>\n",
       "      <th>Fence</th>\n",
       "      <th>MiscFeature</th>\n",
       "      <th>MiscVal</th>\n",
       "      <th>MoSold</th>\n",
       "      <th>YrSold</th>\n",
       "      <th>SaleType</th>\n",
       "      <th>SaleCondition</th>\n",
       "    </tr>\n",
       "  </thead>\n",
       "  <tbody>\n",
       "    <tr>\n",
       "      <th>0</th>\n",
       "      <td>60</td>\n",
       "      <td>RL</td>\n",
       "      <td>65.0</td>\n",
       "      <td>8450</td>\n",
       "      <td>Pave</td>\n",
       "      <td>NaN</td>\n",
       "      <td>Reg</td>\n",
       "      <td>Lvl</td>\n",
       "      <td>AllPub</td>\n",
       "      <td>Inside</td>\n",
       "      <td>...</td>\n",
       "      <td>0</td>\n",
       "      <td>0</td>\n",
       "      <td>NaN</td>\n",
       "      <td>NaN</td>\n",
       "      <td>NaN</td>\n",
       "      <td>0</td>\n",
       "      <td>2</td>\n",
       "      <td>2008</td>\n",
       "      <td>WD</td>\n",
       "      <td>Normal</td>\n",
       "    </tr>\n",
       "    <tr>\n",
       "      <th>1</th>\n",
       "      <td>20</td>\n",
       "      <td>RL</td>\n",
       "      <td>80.0</td>\n",
       "      <td>9600</td>\n",
       "      <td>Pave</td>\n",
       "      <td>NaN</td>\n",
       "      <td>Reg</td>\n",
       "      <td>Lvl</td>\n",
       "      <td>AllPub</td>\n",
       "      <td>FR2</td>\n",
       "      <td>...</td>\n",
       "      <td>0</td>\n",
       "      <td>0</td>\n",
       "      <td>NaN</td>\n",
       "      <td>NaN</td>\n",
       "      <td>NaN</td>\n",
       "      <td>0</td>\n",
       "      <td>5</td>\n",
       "      <td>2007</td>\n",
       "      <td>WD</td>\n",
       "      <td>Normal</td>\n",
       "    </tr>\n",
       "    <tr>\n",
       "      <th>2</th>\n",
       "      <td>60</td>\n",
       "      <td>RL</td>\n",
       "      <td>68.0</td>\n",
       "      <td>11250</td>\n",
       "      <td>Pave</td>\n",
       "      <td>NaN</td>\n",
       "      <td>IR1</td>\n",
       "      <td>Lvl</td>\n",
       "      <td>AllPub</td>\n",
       "      <td>Inside</td>\n",
       "      <td>...</td>\n",
       "      <td>0</td>\n",
       "      <td>0</td>\n",
       "      <td>NaN</td>\n",
       "      <td>NaN</td>\n",
       "      <td>NaN</td>\n",
       "      <td>0</td>\n",
       "      <td>9</td>\n",
       "      <td>2008</td>\n",
       "      <td>WD</td>\n",
       "      <td>Normal</td>\n",
       "    </tr>\n",
       "    <tr>\n",
       "      <th>3</th>\n",
       "      <td>70</td>\n",
       "      <td>RL</td>\n",
       "      <td>60.0</td>\n",
       "      <td>9550</td>\n",
       "      <td>Pave</td>\n",
       "      <td>NaN</td>\n",
       "      <td>IR1</td>\n",
       "      <td>Lvl</td>\n",
       "      <td>AllPub</td>\n",
       "      <td>Corner</td>\n",
       "      <td>...</td>\n",
       "      <td>0</td>\n",
       "      <td>0</td>\n",
       "      <td>NaN</td>\n",
       "      <td>NaN</td>\n",
       "      <td>NaN</td>\n",
       "      <td>0</td>\n",
       "      <td>2</td>\n",
       "      <td>2006</td>\n",
       "      <td>WD</td>\n",
       "      <td>Abnorml</td>\n",
       "    </tr>\n",
       "    <tr>\n",
       "      <th>4</th>\n",
       "      <td>60</td>\n",
       "      <td>RL</td>\n",
       "      <td>84.0</td>\n",
       "      <td>14260</td>\n",
       "      <td>Pave</td>\n",
       "      <td>NaN</td>\n",
       "      <td>IR1</td>\n",
       "      <td>Lvl</td>\n",
       "      <td>AllPub</td>\n",
       "      <td>FR2</td>\n",
       "      <td>...</td>\n",
       "      <td>0</td>\n",
       "      <td>0</td>\n",
       "      <td>NaN</td>\n",
       "      <td>NaN</td>\n",
       "      <td>NaN</td>\n",
       "      <td>0</td>\n",
       "      <td>12</td>\n",
       "      <td>2008</td>\n",
       "      <td>WD</td>\n",
       "      <td>Normal</td>\n",
       "    </tr>\n",
       "  </tbody>\n",
       "</table>\n",
       "<p>5 rows × 79 columns</p>\n",
       "</div>"
      ],
      "text/plain": [
       "   MSSubClass MSZoning  LotFrontage  LotArea Street Alley LotShape  \\\n",
       "0          60       RL         65.0     8450   Pave   NaN      Reg   \n",
       "1          20       RL         80.0     9600   Pave   NaN      Reg   \n",
       "2          60       RL         68.0    11250   Pave   NaN      IR1   \n",
       "3          70       RL         60.0     9550   Pave   NaN      IR1   \n",
       "4          60       RL         84.0    14260   Pave   NaN      IR1   \n",
       "\n",
       "  LandContour Utilities LotConfig      ...       ScreenPorch PoolArea PoolQC  \\\n",
       "0         Lvl    AllPub    Inside      ...                 0        0    NaN   \n",
       "1         Lvl    AllPub       FR2      ...                 0        0    NaN   \n",
       "2         Lvl    AllPub    Inside      ...                 0        0    NaN   \n",
       "3         Lvl    AllPub    Corner      ...                 0        0    NaN   \n",
       "4         Lvl    AllPub       FR2      ...                 0        0    NaN   \n",
       "\n",
       "  Fence MiscFeature MiscVal  MoSold  YrSold  SaleType  SaleCondition  \n",
       "0   NaN         NaN       0       2    2008        WD         Normal  \n",
       "1   NaN         NaN       0       5    2007        WD         Normal  \n",
       "2   NaN         NaN       0       9    2008        WD         Normal  \n",
       "3   NaN         NaN       0       2    2006        WD        Abnorml  \n",
       "4   NaN         NaN       0      12    2008        WD         Normal  \n",
       "\n",
       "[5 rows x 79 columns]"
      ]
     },
     "execution_count": 3,
     "metadata": {},
     "output_type": "execute_result"
    }
   ],
   "source": [
    "print(train.shape)\n",
    "train.head()"
   ]
  },
  {
   "cell_type": "code",
   "execution_count": 3,
   "metadata": {},
   "outputs": [
    {
     "data": {
      "text/plain": [
       "0       208500\n",
       "1       181500\n",
       "2       223500\n",
       "3       140000\n",
       "4       250000\n",
       "5       143000\n",
       "6       307000\n",
       "7       200000\n",
       "8       129900\n",
       "9       118000\n",
       "10      129500\n",
       "11      345000\n",
       "12      144000\n",
       "13      279500\n",
       "14      157000\n",
       "15      132000\n",
       "16      149000\n",
       "17       90000\n",
       "18      159000\n",
       "19      139000\n",
       "20      325300\n",
       "21      139400\n",
       "22      230000\n",
       "23      129900\n",
       "24      154000\n",
       "25      256300\n",
       "26      134800\n",
       "27      306000\n",
       "28      207500\n",
       "29       68500\n",
       "         ...  \n",
       "1430    192140\n",
       "1431    143750\n",
       "1432     64500\n",
       "1433    186500\n",
       "1434    160000\n",
       "1435    174000\n",
       "1436    120500\n",
       "1437    394617\n",
       "1438    149700\n",
       "1439    197000\n",
       "1440    191000\n",
       "1441    149300\n",
       "1442    310000\n",
       "1443    121000\n",
       "1444    179600\n",
       "1445    129000\n",
       "1446    157900\n",
       "1447    240000\n",
       "1448    112000\n",
       "1449     92000\n",
       "1450    136000\n",
       "1451    287090\n",
       "1452    145000\n",
       "1453     84500\n",
       "1454    185000\n",
       "1455    175000\n",
       "1456    210000\n",
       "1457    266500\n",
       "1458    142125\n",
       "1459    147500\n",
       "Name: SalePrice, Length: 1460, dtype: int64"
      ]
     },
     "execution_count": 3,
     "metadata": {},
     "output_type": "execute_result"
    }
   ],
   "source": [
    "labels"
   ]
  },
  {
   "cell_type": "code",
   "execution_count": 4,
   "metadata": {},
   "outputs": [],
   "source": [
    "all = pd.concat([train, test], axis=0)"
   ]
  },
  {
   "cell_type": "code",
   "execution_count": 5,
   "metadata": {},
   "outputs": [
    {
     "name": "stdout",
     "output_type": "stream",
     "text": [
      "Name           \tNaNs\t#unique\n",
      "MSSubClass     \t0.00\t15\n",
      "MSZoning       \t0.00\t5\n",
      "LotFrontage    \t0.18\t110\n",
      "LotArea        \t0.00\t1073\n",
      "Street         \t0.00\t2\n",
      "Alley          \t0.94\t2\n",
      "LotShape       \t0.00\t4\n",
      "LandContour    \t0.00\t4\n",
      "Utilities      \t0.00\t2\n",
      "LotConfig      \t0.00\t5\n",
      "LandSlope      \t0.00\t3\n",
      "Neighborhood   \t0.00\t25\n",
      "Condition1     \t0.00\t9\n",
      "Condition2     \t0.00\t8\n",
      "BldgType       \t0.00\t5\n",
      "HouseStyle     \t0.00\t8\n",
      "OverallQual    \t0.00\t10\n",
      "OverallCond    \t0.00\t9\n",
      "YearBuilt      \t0.00\t112\n",
      "YearRemodAdd   \t0.00\t61\n",
      "RoofStyle      \t0.00\t6\n",
      "RoofMatl       \t0.00\t8\n",
      "Exterior1st    \t0.00\t15\n",
      "Exterior2nd    \t0.00\t16\n",
      "MasVnrType     \t0.01\t4\n",
      "MasVnrArea     \t0.01\t327\n",
      "ExterQual      \t0.00\t4\n",
      "ExterCond      \t0.00\t5\n",
      "Foundation     \t0.00\t6\n",
      "BsmtQual       \t0.03\t4\n",
      "BsmtCond       \t0.03\t4\n",
      "BsmtExposure   \t0.03\t4\n",
      "BsmtFinType1   \t0.03\t6\n",
      "BsmtFinSF1     \t0.00\t637\n",
      "BsmtFinType2   \t0.03\t6\n",
      "BsmtFinSF2     \t0.00\t144\n",
      "BsmtUnfSF      \t0.00\t780\n",
      "TotalBsmtSF    \t0.00\t721\n",
      "Heating        \t0.00\t6\n",
      "HeatingQC      \t0.00\t5\n",
      "CentralAir     \t0.00\t2\n",
      "Electrical     \t0.00\t5\n",
      "1stFlrSF       \t0.00\t753\n",
      "2ndFlrSF       \t0.00\t417\n",
      "LowQualFinSF   \t0.00\t24\n",
      "GrLivArea      \t0.00\t861\n",
      "BsmtFullBath   \t0.00\t4\n",
      "BsmtHalfBath   \t0.00\t3\n",
      "FullBath       \t0.00\t4\n",
      "HalfBath       \t0.00\t3\n",
      "BedroomAbvGr   \t0.00\t8\n",
      "KitchenAbvGr   \t0.00\t4\n",
      "KitchenQual    \t0.00\t4\n",
      "TotRmsAbvGrd   \t0.00\t12\n",
      "Functional     \t0.00\t7\n",
      "Fireplaces     \t0.00\t4\n",
      "FireplaceQu    \t0.47\t5\n",
      "GarageType     \t0.06\t6\n",
      "GarageYrBlt    \t0.06\t97\n",
      "GarageFinish   \t0.06\t3\n",
      "GarageCars     \t0.00\t5\n",
      "GarageArea     \t0.00\t441\n",
      "GarageQual     \t0.06\t5\n",
      "GarageCond     \t0.06\t5\n",
      "PavedDrive     \t0.00\t3\n",
      "WoodDeckSF     \t0.00\t274\n",
      "OpenPorchSF    \t0.00\t202\n",
      "EnclosedPorch  \t0.00\t120\n",
      "3SsnPorch      \t0.00\t20\n",
      "ScreenPorch    \t0.00\t76\n",
      "PoolArea       \t0.00\t8\n",
      "PoolQC         \t1.00\t3\n",
      "Fence          \t0.81\t4\n",
      "MiscFeature    \t0.96\t4\n",
      "MiscVal        \t0.00\t21\n",
      "MoSold         \t0.00\t12\n",
      "YrSold         \t0.00\t5\n",
      "SaleType       \t0.00\t9\n",
      "SaleCondition  \t0.00\t6\n"
     ]
    }
   ],
   "source": [
    "print(\"{0:15}\\t{1}\\t{2}\".format(\"Name\", \"NaNs\", \"#unique\"))\n",
    "for col in train.columns:\n",
    "    print(\"{0:15}\\t{1:.2f}\\t{2}\".format(col, train[col].isnull().mean(), train[col].nunique()))"
   ]
  },
  {
   "cell_type": "code",
   "execution_count": 6,
   "metadata": {},
   "outputs": [
    {
     "data": {
      "text/plain": [
       "Shed    49\n",
       "Gar2     2\n",
       "Othr     2\n",
       "TenC     1\n",
       "Name: MiscFeature, dtype: int64"
      ]
     },
     "execution_count": 6,
     "metadata": {},
     "output_type": "execute_result"
    }
   ],
   "source": [
    "# some useless features\n",
    "train[\"MiscFeature\"].value_counts()"
   ]
  },
  {
   "cell_type": "code",
   "execution_count": 7,
   "metadata": {},
   "outputs": [
    {
     "data": {
      "text/plain": [
       "MnPrv    157\n",
       "GdPrv     59\n",
       "GdWo      54\n",
       "MnWw      11\n",
       "Name: Fence, dtype: int64"
      ]
     },
     "execution_count": 7,
     "metadata": {},
     "output_type": "execute_result"
    }
   ],
   "source": [
    "train[\"Fence\"].value_counts()"
   ]
  },
  {
   "cell_type": "code",
   "execution_count": 8,
   "metadata": {},
   "outputs": [],
   "source": [
    "to_drop = [\"MiscFeature\", \"PoolQC\"]\n",
    "to_replace_to_none = [\"Fence\", \"FireplaceQu\", \"Alley\"]\n",
    "\n",
    "for col in to_replace_to_none:\n",
    "    all[col].fillna(\"No\" + col, inplace=True)\n",
    "    \n",
    "all.drop(to_drop, axis=1, inplace=True, errors=\"ignore\")\n",
    "all.fillna(-1, inplace=True)"
   ]
  },
  {
   "cell_type": "code",
   "execution_count": 9,
   "metadata": {},
   "outputs": [
    {
     "data": {
      "text/html": [
       "<div>\n",
       "<style scoped>\n",
       "    .dataframe tbody tr th:only-of-type {\n",
       "        vertical-align: middle;\n",
       "    }\n",
       "\n",
       "    .dataframe tbody tr th {\n",
       "        vertical-align: top;\n",
       "    }\n",
       "\n",
       "    .dataframe thead th {\n",
       "        text-align: right;\n",
       "    }\n",
       "</style>\n",
       "<table border=\"1\" class=\"dataframe\">\n",
       "  <thead>\n",
       "    <tr style=\"text-align: right;\">\n",
       "      <th></th>\n",
       "      <th>MSSubClass</th>\n",
       "      <th>MSZoning</th>\n",
       "      <th>LotFrontage</th>\n",
       "      <th>LotArea</th>\n",
       "      <th>Street</th>\n",
       "      <th>Alley</th>\n",
       "      <th>LotShape</th>\n",
       "      <th>LandContour</th>\n",
       "      <th>Utilities</th>\n",
       "      <th>LotConfig</th>\n",
       "      <th>...</th>\n",
       "      <th>EnclosedPorch</th>\n",
       "      <th>3SsnPorch</th>\n",
       "      <th>ScreenPorch</th>\n",
       "      <th>PoolArea</th>\n",
       "      <th>Fence</th>\n",
       "      <th>MiscVal</th>\n",
       "      <th>MoSold</th>\n",
       "      <th>YrSold</th>\n",
       "      <th>SaleType</th>\n",
       "      <th>SaleCondition</th>\n",
       "    </tr>\n",
       "  </thead>\n",
       "  <tbody>\n",
       "    <tr>\n",
       "      <th>0</th>\n",
       "      <td>60</td>\n",
       "      <td>RL</td>\n",
       "      <td>65.0</td>\n",
       "      <td>8450</td>\n",
       "      <td>Pave</td>\n",
       "      <td>NoAlley</td>\n",
       "      <td>Reg</td>\n",
       "      <td>Lvl</td>\n",
       "      <td>AllPub</td>\n",
       "      <td>Inside</td>\n",
       "      <td>...</td>\n",
       "      <td>0</td>\n",
       "      <td>0</td>\n",
       "      <td>0</td>\n",
       "      <td>0</td>\n",
       "      <td>NoFence</td>\n",
       "      <td>0</td>\n",
       "      <td>2</td>\n",
       "      <td>2008</td>\n",
       "      <td>WD</td>\n",
       "      <td>Normal</td>\n",
       "    </tr>\n",
       "    <tr>\n",
       "      <th>1</th>\n",
       "      <td>20</td>\n",
       "      <td>RL</td>\n",
       "      <td>80.0</td>\n",
       "      <td>9600</td>\n",
       "      <td>Pave</td>\n",
       "      <td>NoAlley</td>\n",
       "      <td>Reg</td>\n",
       "      <td>Lvl</td>\n",
       "      <td>AllPub</td>\n",
       "      <td>FR2</td>\n",
       "      <td>...</td>\n",
       "      <td>0</td>\n",
       "      <td>0</td>\n",
       "      <td>0</td>\n",
       "      <td>0</td>\n",
       "      <td>NoFence</td>\n",
       "      <td>0</td>\n",
       "      <td>5</td>\n",
       "      <td>2007</td>\n",
       "      <td>WD</td>\n",
       "      <td>Normal</td>\n",
       "    </tr>\n",
       "    <tr>\n",
       "      <th>2</th>\n",
       "      <td>60</td>\n",
       "      <td>RL</td>\n",
       "      <td>68.0</td>\n",
       "      <td>11250</td>\n",
       "      <td>Pave</td>\n",
       "      <td>NoAlley</td>\n",
       "      <td>IR1</td>\n",
       "      <td>Lvl</td>\n",
       "      <td>AllPub</td>\n",
       "      <td>Inside</td>\n",
       "      <td>...</td>\n",
       "      <td>0</td>\n",
       "      <td>0</td>\n",
       "      <td>0</td>\n",
       "      <td>0</td>\n",
       "      <td>NoFence</td>\n",
       "      <td>0</td>\n",
       "      <td>9</td>\n",
       "      <td>2008</td>\n",
       "      <td>WD</td>\n",
       "      <td>Normal</td>\n",
       "    </tr>\n",
       "    <tr>\n",
       "      <th>3</th>\n",
       "      <td>70</td>\n",
       "      <td>RL</td>\n",
       "      <td>60.0</td>\n",
       "      <td>9550</td>\n",
       "      <td>Pave</td>\n",
       "      <td>NoAlley</td>\n",
       "      <td>IR1</td>\n",
       "      <td>Lvl</td>\n",
       "      <td>AllPub</td>\n",
       "      <td>Corner</td>\n",
       "      <td>...</td>\n",
       "      <td>272</td>\n",
       "      <td>0</td>\n",
       "      <td>0</td>\n",
       "      <td>0</td>\n",
       "      <td>NoFence</td>\n",
       "      <td>0</td>\n",
       "      <td>2</td>\n",
       "      <td>2006</td>\n",
       "      <td>WD</td>\n",
       "      <td>Abnorml</td>\n",
       "    </tr>\n",
       "    <tr>\n",
       "      <th>4</th>\n",
       "      <td>60</td>\n",
       "      <td>RL</td>\n",
       "      <td>84.0</td>\n",
       "      <td>14260</td>\n",
       "      <td>Pave</td>\n",
       "      <td>NoAlley</td>\n",
       "      <td>IR1</td>\n",
       "      <td>Lvl</td>\n",
       "      <td>AllPub</td>\n",
       "      <td>FR2</td>\n",
       "      <td>...</td>\n",
       "      <td>0</td>\n",
       "      <td>0</td>\n",
       "      <td>0</td>\n",
       "      <td>0</td>\n",
       "      <td>NoFence</td>\n",
       "      <td>0</td>\n",
       "      <td>12</td>\n",
       "      <td>2008</td>\n",
       "      <td>WD</td>\n",
       "      <td>Normal</td>\n",
       "    </tr>\n",
       "  </tbody>\n",
       "</table>\n",
       "<p>5 rows × 77 columns</p>\n",
       "</div>"
      ],
      "text/plain": [
       "   MSSubClass MSZoning  LotFrontage  LotArea Street    Alley LotShape  \\\n",
       "0          60       RL         65.0     8450   Pave  NoAlley      Reg   \n",
       "1          20       RL         80.0     9600   Pave  NoAlley      Reg   \n",
       "2          60       RL         68.0    11250   Pave  NoAlley      IR1   \n",
       "3          70       RL         60.0     9550   Pave  NoAlley      IR1   \n",
       "4          60       RL         84.0    14260   Pave  NoAlley      IR1   \n",
       "\n",
       "  LandContour Utilities LotConfig      ...       EnclosedPorch 3SsnPorch  \\\n",
       "0         Lvl    AllPub    Inside      ...                   0         0   \n",
       "1         Lvl    AllPub       FR2      ...                   0         0   \n",
       "2         Lvl    AllPub    Inside      ...                   0         0   \n",
       "3         Lvl    AllPub    Corner      ...                 272         0   \n",
       "4         Lvl    AllPub       FR2      ...                   0         0   \n",
       "\n",
       "  ScreenPorch PoolArea    Fence MiscVal  MoSold  YrSold  SaleType  \\\n",
       "0           0        0  NoFence       0       2    2008        WD   \n",
       "1           0        0  NoFence       0       5    2007        WD   \n",
       "2           0        0  NoFence       0       9    2008        WD   \n",
       "3           0        0  NoFence       0       2    2006        WD   \n",
       "4           0        0  NoFence       0      12    2008        WD   \n",
       "\n",
       "   SaleCondition  \n",
       "0         Normal  \n",
       "1         Normal  \n",
       "2         Normal  \n",
       "3        Abnorml  \n",
       "4         Normal  \n",
       "\n",
       "[5 rows x 77 columns]"
      ]
     },
     "execution_count": 9,
     "metadata": {},
     "output_type": "execute_result"
    }
   ],
   "source": [
    "all.head()"
   ]
  },
  {
   "cell_type": "code",
   "execution_count": 10,
   "metadata": {},
   "outputs": [
    {
     "data": {
      "text/plain": [
       "NAmes      443\n",
       "CollgCr    267\n",
       "OldTown    239\n",
       "Edwards    194\n",
       "Somerst    182\n",
       "NridgHt    166\n",
       "Gilbert    165\n",
       "Sawyer     151\n",
       "NWAmes     131\n",
       "SawyerW    125\n",
       "Mitchel    114\n",
       "BrkSide    108\n",
       "Crawfor    103\n",
       "IDOTRR      93\n",
       "Timber      72\n",
       "NoRidge     71\n",
       "StoneBr     51\n",
       "SWISU       48\n",
       "ClearCr     44\n",
       "MeadowV     37\n",
       "BrDale      30\n",
       "Blmngtn     28\n",
       "Veenker     24\n",
       "NPkVill     23\n",
       "Blueste     10\n",
       "Name: Neighborhood, dtype: int64"
      ]
     },
     "execution_count": 10,
     "metadata": {},
     "output_type": "execute_result"
    }
   ],
   "source": [
    "all[\"Neighborhood\"].value_counts()"
   ]
  },
  {
   "cell_type": "code",
<<<<<<< HEAD
   "execution_count": 11,
   "metadata": {},
   "outputs": [
    {
     "name": "stderr",
     "output_type": "stream",
     "text": [
      "/anaconda3/lib/python3.6/site-packages/scipy/stats/stats.py:1713: FutureWarning: Using a non-tuple sequence for multidimensional indexing is deprecated; use `arr[tuple(seq)]` instead of `arr[seq]`. In the future this will be interpreted as an array index, `arr[np.array(seq)]`, which will result either in an error or a different result.\n",
      "  return np.add.reduce(sorted[indexer] * weights, axis=axis) / sumval\n",
      "/anaconda3/lib/python3.6/site-packages/matplotlib/axes/_axes.py:6462: UserWarning: The 'normed' kwarg is deprecated, and has been replaced by the 'density' kwarg.\n",
      "  warnings.warn(\"The 'normed' kwarg is deprecated, and has been \"\n",
      "/anaconda3/lib/python3.6/site-packages/matplotlib/axes/_axes.py:6462: UserWarning: The 'normed' kwarg is deprecated, and has been replaced by the 'density' kwarg.\n",
      "  warnings.warn(\"The 'normed' kwarg is deprecated, and has been \"\n"
     ]
    },
    {
     "data": {
      "text/plain": [
       "<matplotlib.axes._subplots.AxesSubplot at 0x10cd8b048>"
      ]
     },
     "execution_count": 11,
=======
   "execution_count": 3,
   "metadata": {},
   "outputs": [
    {
     "data": {
      "text/plain": [
       "<matplotlib.axes._subplots.AxesSubplot at 0x29b925cacc0>"
      ]
     },
     "execution_count": 3,
>>>>>>> 187a606afa61a769d1e6c1390234c9344f9cdfc9
     "metadata": {},
     "output_type": "execute_result"
    },
    {
     "data": {
<<<<<<< HEAD
      "image/png": "iVBORw0KGgoAAAANSUhEUgAAA40AAAEKCAYAAAC2frBwAAAABHNCSVQICAgIfAhkiAAAAAlwSFlzAAALEgAACxIB0t1+/AAAADl0RVh0U29mdHdhcmUAbWF0cGxvdGxpYiB2ZXJzaW9uIDIuMi4yLCBodHRwOi8vbWF0cGxvdGxpYi5vcmcvhp/UCwAAIABJREFUeJzs3Xl83NWZ5/vPU6VdtnZZsiXLkndkYzZjs4YtgMmCyQQSSCchuaTp9ISeuU13vwIz03QnE/peumea2+kmSXNDEpJ0YghJGndiIAuGsBgvgMEbtmXJ1uZFu2ztUp35o35yFKGSyrakn6rq+3699ErpV+d3zqMKluqpc85zzDmHiIiIiIiIyFgCfgcgIiIiIiIiM5eSRhEREREREYlISaOIiIiIiIhEpKRRREREREREIlLSKCIiIiIiIhEpaRQREREREZGIlDSKiIiIiIhIREoaRUREREREJCIljSIiIiIiIhJRkt8B+KGgoMCVl5f7HYaIiEyDN998s9k5V+h3HLFCfyNFRBLDmfx9TMiksby8nB07dvgdhoiITAMzO+J3DLFEfyNFRBLDmfx91PJUERERERERiUhJo4iISAwys++Y2Qkz2x3h+T8ys3e9r9fN7ILpjlFEROKDkkYREZHY9D1g3TjP1wDXOOdWAf8TeHw6ghIRkfiTkHsaRUREYp1z7ndmVj7O86+P+PYNoHSqYxIRkfikmUYREZH4dw/wnN9BiIhIbNJMo4iISBwzs+sIJ41XjdPmXuBegLKysmmKTEREYoVmGkVEROKUma0Cvg2sd861RGrnnHvcObfaObe6sFBHWoqIyB9S0igiIhKHzKwM+BnwGefcAb/jERGR2KXlqSIiIjHIzH4MXAsUmFk98DdAMoBz7lvAQ0A+8A0zAxh0zq32J1oREYllShplXD/aWjvm9U+t1Z4XERE/OefumuD5LwBfmKZwROJKpPc/I+m9kCQSLU8VERERERGRiKJKGs1snZntN7MqM3tgjOdTzewp7/mtI8+NMrMHvev7zezmifo0swqvj4NenynjjWFmyWb2pJntMrN9Zvbg2b4YIiIiIiIi8ocmTBrNLAg8BtwCVAJ3mVnlqGb3AG3OucXAo8Aj3r2VwJ3ACmAd4X0VwQn6fAR41Dm3BGjz+o44BnAHkOqcOx+4BPiT8Q47FhERERERkehFM9O4BqhyzlU75/qBDcD6UW3WA096j58BbrDwrvv1wAbnXJ9zrgao8vobs0/vnuu9PvD6vG2CMRyQaWZJQDrQD3RG/QqIiIiIiIhIRNEUwikB6kZ8Xw+sjdTGOTdoZh2EK7aVAG+MurfEezxWn/lAu3NucIz2kcZ4hnBCeRTIAP7cOdcaxc8lIiIiIjFGRWpEpl80M402xjUXZZvJuj7eGGuAIWAeUAH8hZktHN3QzO41sx1mtqOpqWmMrkRERERERGS0aGYa64H5I74vBRojtKn3lolmA60T3DvW9WYgx8ySvNnGke0jjfEp4Hnn3ABwwsxeA1YD1SMDdM49DjwOsHr16tFJr5whHcUhIiIiIpIYoplp3A4s8aqaphAubLNxVJuNwN3e49uBF51zzrt+p1f5tAJYAmyL1Kd3z2avD7w+n51gjFrgegvLBC4D3ov+JRAREREREZFIJpxp9PYP3ge8AASB7zjn9pjZV4EdzrmNwBPAD8ysivDs353evXvM7GlgLzAIfMk5NwQwVp/ekF8GNpjZ14C3vb6JNAbhKqzfBXYTXsL6Xefcu2f9ioiIiIiIiMhp0SxPxTm3Cdg06tpDIx73Ej76Yqx7HwYejqZP73o14X2Ko6+POYZz7lSksUVEREREROTcRJU0ioiIiIjEiokqrKoGg8iZiWZPo4iIiIiIiCQoJY0iIiIiIiISkZJGERERERERiUh7GkVEREQkLpzsHWBrTSvpyUEunJ9DZqre6opMBv1LEhEREZGY1t03yEsHmtha08LgkMMBz+8+xnnzsvjQymJyMlL8DlEkpilpFBEREZGYFXKO779xhLrWbi4qy+G6ZXMYCDnePNzKjiNtfLOli7svL2deTrrfoYrELO1pFBEREZGY9daRNmpbu/lPF5dw+yXzyZ+VSnFWGh9eNY8/uWYRATMef6Wag8dP+h2qSMxS0igiIiIiMam7b5Dn9xxjQV4GF5Xlvu/54qw0vnjNIvIyUnhyy2F2N3RMf5AicUDLU+WMtHf3805dO2ZGMGAsLMxkbraWe4iIiMj0e2HvMXoHhrj1wnkEzMZsk52ezL0fWMj3Xj/Mhu21fJKyaY5SJPYpaZQz8qu9x9lZ1376+5z0ZP7ipmUEA2P/ohYRERGZCg1tPew43MaViwsm/AA7LTnI568o58kth9mwrZY1Fbl87KLS6QlUJA5oeapErad/iN0NHaypyONvP7qCT60po71ngLdr2/wOTURERBLM9sOtJAWN65fPiap9anKQz11RQUVBJn/+1Dv846/2Ewq5KY5SJD4oaZSo7axrYzDkWFOeR0pSgBXzsijJSeelA00M6ZeuiIiITJPBUIhdDR1Uzs0iLTkY9X0pSQE+d2U5n1hdytdfrOJP/+1NTvUNTmGkIvFBSaNExTnHjiNtzMtJO12y2sy4blkhrV39vFvfPkEPIiIiIpPj4PFT9AwMccH8nDO+NykQ4JGPr+KvP1LJr/ce56Z/fJnndx/DOX0ALhKJkkaJSmN7L0c7elm9IO8Pri+fm0VxVhov7W8ipF+2IiIiMg121rWTkRJkyZzZZ3W/mXHPVRX85ItXkJWezBd/+Cb3PLmDutbuSY5UJD4oaZSobD/SSnLQuKD0Dz/RC5hx7bJCmk71sbex06foREREJFH0DQzx3rFOzi/JPudCfJcsyOUXf3YV/+PD5/FGdQs3Pvoyj22uYjAUmqRoReJDVEmjma0zs/1mVmVmD4zxfKqZPeU9v9XMykc896B3fb+Z3TxRn2ZW4fVx0OszZbwxzOyPzGzniK+QmV14ti+IvF//YIh36tpZOS+b9JT37xtYWZJNVlrSH1RVFRGRqWVm3zGzE2a2O8LzZmZf9/5uvmtmF093jCJTYe/RTgaG3Ps+yD5bScEAX7h6Ib+5/xquXTqHf3hhP9/YfIi27v5J6V8kHkyYNJpZEHgMuAWoBO4ys8pRze4B2pxzi4FHgUe8eyuBO4EVwDrgG2YWnKDPR4BHnXNLgDav74hjOOf+zTl3oXPuQuAzwGHn3M4zfykkksMtXfQNhriwbOxfzgEzKudlc+D4Sbq0mVxEZLp8j/Df1khuAZZ4X/cC35yGmESm3Dv17eRkJFOWnzGp/c7LSedbn7mEb392Ne09/Xzr5UM0tvdM6hgisSqamcY1QJVzrto51w9sANaParMeeNJ7/Axwg5mZd32Dc67POVcDVHn9jdmnd8/1Xh94fd42wRgj3QX8OIqfSc5AfVv4F+b83Mi/nFfOy2Iw5Hhpf9N0hSUiktCcc78DWsdpsh74vgt7A8gxs7nTE53I1Gjv7qfqxClWleQQeN/bwMnxwcoi7v3AIgJmPP5KNVUnTk3JOCKxJJqksQSoG/F9vXdtzDbOuUGgA8gf595I1/OBdq+P0WNFGmOkT6KkcdI1tvdQMCtl3JLW5QWZZKYEeW730WmMTERExhHN32+RmLLlUAshB+fNPbsCONEqzkrjT69ZRE56Mhu219LZOzCl44nMdNEkjWN9jDO6TGakNpN1fcI4zGwt0O2ci7S3414z22FmO5qaNBt2Jhrae04fsxHJ8BLVze+doHdgaJoiExGRcUTz9zvcUH8jJUa8fqiFlGCA0nFWP02WrPRkPrW2jP7BED9/q0FHckhCiyZprAfmj/i+FGiM1MbMkoBswktmIt0b6Xoz4eUzSWOMFWmMYXcyziyjc+5x59xq59zqwsLCcX5cGelU3yAdPQOUTJA0QniJalf/EK8cbJ6GyEREZALR/P0G9DdSYsdrh5opL8g456qp0ZozO411K4vZf/wk2w6PtxpcJL5FkzRuB5Z4VU1TCCdnG0e12Qjc7T2+HXjRhT+O2Qjc6VU+rSC8GX9bpD69ezZ7feD1+ewEY2BmAeAOwnsjZRINbwCPJmlcWDiL7PRkLVEVEZkZNgKf9aqoXgZ0OOf0C1pi1rGOXqqbulhUOGtax71sYT6LC2exaddRWk71TevYIjPFhEmjt3/wPuAFYB/wtHNuj5l91cxu9Zo9AeSbWRVwP/CAd+8e4GlgL/A88CXn3FCkPr2+vgzc7/WV7/UdcQzPB4B651z12bwIElmDlzROtDwVIBgwPnheEb/ee5z+QZ1vJCIylczsx8AWYJmZ1ZvZPWb2RTP7otdkE1BNuAjd/w/8Z59CFZkUrx8Kr2Sa7qQxYMbHLykFYLMK/kmCSpq4CTjnNhH+4zPy2kMjHvcSnukb696HgYej6dO7Xk24uuro6+ON8RJw2Xg/g5ydhrYe8jPHL4Iz0ofOL+anb9Xz+qFmrl02Z4qjExFJXM65uyZ43gFfmqZwRKbc64dayMlIpjg7bdrHzk5PZvWCPLbVtHJjZRHZ6cnTHoOIn6JZnioJrKG9h5LciWcZh121pIBZqUk8v/vYFEYlIiIiicQ5x+tVzVy+MH/KjtqYyFWLC3A4XqtS7QZJPFHNNEpiajnVF3URnGGpSUGuXz6HX+09ztduC5EU/P3nEj/aWjvmPZ9aW3bOsYqIiEj8OtLSTWNHL3967ejT1qZPbmYK55dks+1wK9dpNZUkGM00SkS7GjqA6IrgjHTLymJau/pVZUxEREQmxWvefsYrFhf4GscHlhbSPxhia02Lr3GITDfNNEpEu72kMZoiOCNds6yQtOQAz+06xhWL/P3lLiIiIrFlrJVJG7bVkZWWxBuHWjCflqcCzM1OZ2nRLF471ELvwFDUNR9EYp1mGiWiXQ0dZ1QEZ1hGShLXLZvDC3uOEQrpIFwRERE5e845Djd3UVGQ6WvCOOyKRQV09Q2y+b0TfociMm2UNEpEuxs6z6gIzkjrVhZz4mQfb9W2TXJUIiIikkg6egY42TdIWV6G36EA4SM/ZqUm8e87G/wORWTaKGmUMXX1DdLQ3kNx1tmVtb5++RxSggGeUxVVEREROQe1rd0AlOVl+hxJWDBgXFCazeb3mujoHvA7HJFpoaRRxlTT3AVAwazUs7p/dloyVy8p4LldR7VEVURERM5aXWs3SQHz5XzGSC6Yn0P/UIhNu4/6HYrItFDSKGM616QR4NYL59HY0ct2VVEVERGRs1Tb2k1JbjrBgP/7GYeV5KSzsDCTn7+tJaqSGJQ0ypiGk8b8WSln3ceNlUVkpAT5952NkxWWiIiIJJDBoRCNHb2U5c6M/YzDzIzbLixhW00rDe09focjMuWUNMqYqptOUZKTTnLw7P8TyUhJ4uYVxfzy3Ub6BocmMToRERFJBEc7ehkKOebPkCI4I62/cB4AG/XhuCQAJY0ypprmLhYWnvuG89suKqGzd5DN7zVNQlQiIiKSSIaL4MzEpHFBfiYXleXwrKqoSgJQ0ijv45yj2jsP6VxduSifglmp/LvW/IuIiMgZqmvrJjs9mez0ZL9DGdOHz5/Le8dOUtvS7XcoIlMqye8AZOZp6ernZO/gpCSNScEAH71gLv/2Ri2XlueRnhKchAhFREQkEdS1dk/JLOOPttZOSj83VRbztV/u41d7j/GFqxdOSp8iM5FmGuV9hovgTEbSCPCxi0roHwqxu7FjUvoTERGR+Heyd4C27gHKctP9DiWisvwMlhfP5ld7jvsdisiUUtIo71PddAqAhQWzJqW/80uyWViYyc669knpT0REROJf3QzezzjSTSuK2X6kleZTfX6HIjJllDTK+1Q3d5ESDFAySZ/smRkfu7CEmuYu2rv7J6VPERERiW91bT0EDOblzNyZRoCbKotwDn67T7ONEr+iShrNbJ2Z7TezKjN7YIznU83sKe/5rWZWPuK5B73r+83s5on6NLMKr4+DXp8pUYyxysy2mNkeM9tlZmln82JIWE1TFwvyMyb1EN31F5YA8I5mG0VERCQKDW09FGenndPxX9NhxbwsSnLStURV4tqE/wrNLAg8BtwCVAJ3mVnlqGb3AG3OucXAo8Aj3r2VwJ3ACmAd8A0zC07Q5yPAo865JUCb1/d4YyQBPwS+6JxbAVwLDJzh6yAj1ExS5dSRyvIzKMvL4O26dpxzk9q3iIiIxBfnHPXt3ZTM8FlGCK+oumlFEa9UNdPVN+h3OCJTIpqPbtYAVc65audcP7ABWD+qzXrgSe/xM8ANZmbe9Q3OuT7nXA1Q5fU3Zp/ePdd7feD1edsEY9wEvOucewfAOdfinNNJ8mdpKOQ40tJNxSSc0TjahfNzOHGyj6MdvZPet4iIiMSP1q5+egdClOTM7P2Mw26qLKZ/MMTLB3QutcSnaI7cKAHqRnxfD6yN1MY5N2hmHUC+d/2NUfeWeI/H6jMfaHfODY7RPtIYSwFnZi8AhYST1L8f/UOY2b3AvQBlZWVR/NiJqaGth/6hEIvOsgjOeCWsV5Vk84t3G3mnrn3G708QERER/zS09wBMWn2FqXZpeS65Gcn8as8xPnT+XL/DEZl00SSNY21sG72+MFKbSNfHmuEcr/14YyQBVwGXAt3Ab83sTefcb/+goXOPA48DrF69WusjI6huDldOnYqZxozUJJYWzead+nZuXllMwCZvz6SIiIjEj4b2HoIBoygr1e9QIhr9QXlFwSye33OMH2w5QjBgfGqtJikkfkSzPLUemD/i+1KgMVIbb49hNtA6zr2RrjcDOV4fo8cab4yXnXPNzrluYBNwcRQ/l4xhss9oHO3C+Tl09g5S3dQ1Jf2LiIhI7Gto66E4K42kwMwugjNS5dwsegdCp99LicSTaP4lbgeWeFVNUwgXttk4qs1G4G7v8e3Aiy5c7WQjcKdX+bQCWAJsi9Snd89mrw+8Pp+dYIwXgFVmluElk9cAe6N/CWSkmuYuZqclkZ+ZMiX9Ly/OIjlo7D3aMSX9i4iISGwLOUdjR0/MLE0dtnjOLJKDxp5GvceR+DNh0ujtL7yPcHK2D3jaObfHzL5qZrd6zZ4A8s2sCrgfeMC7dw/wNOEk7nngS865oUh9en19Gbjf6yvf63u8MdqAfySciO4E3nLO/fJsX5BEN1w51aZo6WhKUoDFc2az7+hJVVEVERGR9xkuglMaY/UPUpICLJkzm31HOwnpPY7EmWj2NOKc20R42efIaw+NeNwL3BHh3oeBh6Pp07teTbi66ujr443xQ8LHbshZGl6Xv6exk5Kc9HEL2pyryrnhX6iNHb0xUUpbREREpk9DW7gITiwWzaucl8Xeo500eoV8ROJF7CwUlyk3FHK0d/dP2dLUYcuKszBg39HOKR1HRCTemdk6M9tvZlVm9sAYz5eZ2WYze9vM3jWzD/kRp8iZaGjvISlgFGWl+R3KGVteNJuAwd5GvceR+KKkUU7r6Bkg5CBvipPGWalJlOVnKGkUETkHZhYEHgNuASqBu8ysclSz/0F4C8hFhOsHfGN6oxQ5cw3tPczNTiMYiL0q6xmpSZTnZ7JH73EkzihplNNauvqAqU8aIVxh7GhHL61d/VM+lohInFoDVDnnqp1z/cAGYP2oNg7I8h5n8/7q5yIzSijkaGiPvSI4I1XOy6LpZB+Hmk75HYrIpFHSKKcNJ3DTlTSClqiKiJyDEqBuxPf13rWR/hb4tJnVE64j8GfTE5rI2alu7qJ/MBTTNQ+G3+P8eu9xnyMRmTxKGuW01q5+kgJGVnrylI+VPyuVObNTlTSKiJy9sdbujS7ZeBfwPedcKfAh4Adm9r6//WZ2r5ntMLMdTU1NUxCqSHR2N4SPqyjJyfA5krOXk5HCvJw0XthzzO9QRCaNkkY5rbWrn9yMFAJTdNzGaOfNzeJwSxcdPQPTMp6ISJypB+aP+L6U9y8/vYfw0Vc457YAaUDB6I6cc48751Y751YXFhZOUbgiE3u3voPkoFE4O9XvUM5J5dxs3q5t50Rnr9+hiEwKJY1yWmtX/7QsTR22ZM4sQg6217RO25giInFkO7DEzCrMLIVwoZuNo9rUAjcAmNl5hJNGTSXKjLWroZ252ekxWQRnpMp53hLVfVqiKvFBSaMA4JyjpaufvFnTlzTOz8sgKWC8Ud0ybWOKiMQL59wgcB/wArCPcJXUPWb2VTO71Wv2F8Afm9k7wI+BzzmnU8dlZhoKudPnRce6otmpLMjP4Fd7lDRKfEjyOwCZGbr6h+gfDJGXMX1JY3IwwPy8DN6oUdIoInI2nHObCBe4GXntoRGP9wJXTndcImejuukU3f1DMV05dZiZcVNlEd97/TCdvQNkpU19vQiRqaSZRgF+Xzk1fxqXpwIsLMhkT2MnHd3a1ygiIpLI3q0fLoIT+0kjwM0rihkYcry0XyvCJfYpaRQAWqfxjMaRFhbOwjnYdlj7GkVERBLZroYOMlKCMV8EZ9hFZbkUzErhV6qiKnFASaMA0NLVjwG505w0luamk5oU0L5GERGRBLeroYMV87KmrYr7VAsGjA+eV8RL+5voHRjyOxyRc6KkUQBoPdVPVnoyycHp/U8iORjg4rJcthxS0igiIpKoBodC7Gns4PySHL9DmVQfvWAep/oG+fVeFcSR2KakUYDfn9Hoh8sX5bPvWCft3f2+jC8iIiL+qmo6Re9AiPNLs/wOZVJdvjCfedlp/PSter9DETknShoFgNbu/mkvgjPssoX54X2NOq9RREQkIe3yiuDE20xjIGDcdlEJvzvQxImTvX6HI3LWlDQKPf1DnOwdnNYzGke6YH42qUkBtmhfo4iISELa1dBBZkqQhQWZfocy6f7TxaWEHDz7dqPfoYictaiSRjNbZ2b7zazKzB4Y4/lUM3vKe36rmZWPeO5B7/p+M7t5oj7NrMLr46DXZ8p4Y5hZuZn1mNlO7+tbZ/tiJKra1m5g+iunDktNCnLJgly2VmumUUREJBG9W9/BypJsAoH4KIIz0uI5s7hgfo6WqEpMmzBpNLMg8BhwC1AJ3GVmlaOa3QO0OecWA48Cj3j3VgJ3AiuAdcA3zCw4QZ+PAI8655YAbV7fEcfwHHLOXeh9ffGMXgHhSEsXMP1nNI50yYJc3jvWSVffoG8xiIiIyPQbGAqx92gn55dk+x3KlLn94hLeO3aSvY2dfociclaimWlcA1Q556qdc/3ABmD9qDbrgSe9x88AN5iZedc3OOf6nHM1QJXX35h9evdc7/WB1+dtE4wh5+j0TKNPhXAALi7LJeTgnfp232IQERGR6Xfw+Cn6B0OcXxq/SeNHVs0jOWiabZSYFU3SWALUjfi+3rs2Zhvn3CDQAeSPc2+k6/lAu9fH6LEijQFQYWZvm9nLZnb1WD+Emd1rZjvMbEdTU1MUP3biqG3tJi05QHpK0LcYLioLb3x/u1ZJo4iISCLZ1RD+27+qNL6K4IyUm5nCjZVF/PStep3ZKDEpKYo2Y83muSjbRLo+VrI6XvvxxjgKlDnnWszsEuDfzWyFc+4P5v+dc48DjwOsXr16dPwJ7UhLN3mZKfg5cZuTkcLCwkzerm3zLQYRERGZfu/WdzA7NYkFeRl+hzKlPnt5OZt2HePZnQ188tIyfrS1dsJ7PrW2bBoiE5lYNDON9cD8Ed+XAqPLP51uY2ZJQDbQOs69ka43AzleH6PHGnMMb+lrC4Bz7k3gELA0ip9LPLWt3eRlpvodBheX5fJWbTvOKacXERFJFLsb4rcIzkhrK/JYXjyb771+RO91JOZEkzRuB5Z4VU1TCBe22TiqzUbgbu/x7cCLLvyvYSNwp1f5tAJYAmyL1Kd3z2avD7w+nx1vDDMr9ArrYGYLvTGqo38JEttQyFHf1u1rEZxhF5fl0trVz5GWbr9DERERkWnQPxhi39GTrIrj/YzDzIy7ryhn39FOth/WyiqJLRMmjd7+wfuAF4B9wNPOuT1m9lUzu9Vr9gSQb2ZVwP3AA969e4Cngb3A88CXnHNDkfr0+voycL/XV77Xd8QxgA8A75rZO4QL5HzROaezG6LU2N7DwJDz7biNkS5eEN7L8JaWqIqIiCSEA8dP0j8U30VwRrrtwhKy05N58vXDfocickai2dOIc24TsGnUtYdGPO4F7ohw78PAw9H06V2vJlxddfT1Mcdwzv0U+OmEP4SMye8zGoHTa/pDzpGaFOCp7XX0DoS0jl9ERCTO7WroAIjr4zZGSk8J8slL5/PEqzWsLMkmOz3Z75BEohJV0ijxayYkjcMCZpTmplPXquWpIiIi8Wh08Zefv91AWnKAVw8281pVi09RTa/PXLaAb79SzZZDzaxbOdfvcESiEs2eRoljR1q6SQ7ajPmkqywvg2OdvfQPhvwORURERKZYQ3s3pTkZvlZwn27z8zL4yKp5vFHTSnff4MQ3iMwAShoTXG1rF/NzMwjMkF/WZXkZhBzUt2m2UUREJJ4NDoU43tHHvJx0v0OZdl+6bjH9gyFer06M2VWJfUoaE9yRlm7K8mfOuUjzvTOaarVEVUREJK4d6+xlyDlKchMvaVxWPJsV87J4/VAzvQNDfocjMiEljQnMOUdtSzdlM+gw3YyUJApmpSppFBERiXMN7T0AlCbgTCPAtcvm0DsQYotmGyUGKGlMYO3dA5zsG5xRSSOEl6jWtXbr4FsREZE41tDWQ0ZKkJyMmVFXYbqV5KSzrGg2r1U10zeo2UaZ2VQ9NYEd8WbzFuRn0nSyz+dofm9+Xjpv1bZR29rNgvxMv8MRERGRKVDf1kNJTnrcFsEZXSl2LNctn8O3Xj7EtppWrl5SOA1RiZwdzTQmsCMtXQAsmEF7GoHTM59v1bb5HImIiIhMhf7BEMc7eynNnVnvQaZbWV4Giwtn8crBZgaGVDleZi4ljQmstiU80zh/hv3CLspKIzUpwFtH2v0ORURERKZAQ3sPjvDqokR37fJCTvUNsv1wq9+hiESkpDGBHWntZs7sVNJTgn6H8gcCZpTmpmumUUREJE4NH62V6DONAAsLZlGen8HvDjQxqNlGmaGUNCaw2pbuGbc0dVhZXgbvHTtJd78OvRUREYk3dW095GYkMytV5TUArls2h87eQd6q1SormZmUNCYqK76QAAAgAElEQVSw2tZuyvJmZqGZsrwMhkKOd+s7/A5FRGTGMrN1ZrbfzKrM7IEIbT5hZnvNbI+Z/Wi6YxQZS31rt2YZR1g8Zxaluem8fOAEQyFVj5eZR0ljguodGOJYZ++MnWkc3mepJaoiImMzsyDwGHALUAncZWaVo9osAR4ErnTOrQD+72kPVGSUk70DtPcMMD9X+xmHmRnXLZtDW/cA79RrtlFmHiWNCepIy/BxGzMzacxITWJhQaaK4YiIRLYGqHLOVTvn+oENwPpRbf4YeMw51wbgnDsxzTGKvE99Ww+g/YyjLS+eTXFWGi/vbyKks6plhlHSmKBqmk8B4c3XM9VFZbm8XduG0y9OEZGxlAB1I76v966NtBRYamavmdkbZrZurI7M7F4z22FmO5qamqYoXJGwurZuAgbzcjTTOJKZce2yQppO9bGnsdPvcET+gJLGBHWoKXxGY0XhzNzTCHDxghxauvqpbe32OxQRkZlorBPRR3/KlgQsAa4F7gK+bWY577vJucedc6udc6sLC3XAuEyt+rYeirLSSEnS29DRVpZkUzArhZf3n9CH5jKjRPWvdaKN9maWamZPec9vNbPyEc896F3fb2Y3T9SnmVV4fRz0+kyZaAzv+TIzO2Vmf3mmL0IiqmnuYs7s1BldtWz1gjwAttbo3CIRkTHUA/NHfF8KNI7R5lnn3IBzrgbYTziJFPFFyDnq21QEJ5KAGdcsLaSxo5cDx0/5HY7IaRMmjdFstAfuAdqcc4uBR4FHvHsrgTuBFcA64BtmFpygz0eAR51zS4A2r++IY4zwKPBctD94oqtuOsXCGTzLCLC0aBb5mSm8cajF71BERGai7cAS78PWFMJ/bzeOavPvwHUAZlZAeLlq9bRGKTJCy6l+egdCKoIzjgvn55KTnsxLmm2UGSSamcZoNtqvB570Hj8D3GBm5l3f4Jzr8z7hrPL6G7NP757rvT7w+rxtgjEws9sI/xHcE/2Pntiqm7tYWDhz9zNCeG3/ZQvz2VLdol+aIiKjOOcGgfuAF4B9wNPOuT1m9lUzu9Vr9gLQYmZ7gc3AXznn9Emc+Ka+LbzlpDRPM42RBAPG1UsLOdLardVWMmNEkzRGs9H+dBvvj1gHkD/OvZGu5wPtXh+jxxpzDDPLBL4MfGW8H0Kb/H+vrauf9u4BFhbM7JlGgMsX5XO0o/d0tVcREfk959wm59xS59wi59zD3rWHnHMbvcfOOXe/c67SOXe+c26DvxFLoqtt7SY1KcCc2al+hzKjrV6Qy6zUJB7bXOV3KCJAdEljNBvtI7WZrOvjjfEVwstZx134rU3+v1c9XDl1hi9PhXDSCPC6lqiKiIjEvNrWbubnZRCwsd7WybDkYICrFhfwysFm3qnT8WPiv2iSxmg32s8HMLMkIBtoHefeSNebgRyvj9FjRRpjLfD3ZnaY8KHF/83M7ovi50pY1V7l1Jl83MawhQWZzJmdypZqJY0iIiKx7GTvAMc6einT0tSorK3IIzs9mX/RbKPMANEkjdFstN8I3O09vh140YU3oW0E7vQqn1YQrti2LVKf3j2bvT7w+nx2vDGcc1c758qdc+XA/wf8nXPuX87gNUg41c1dJAeN0hjYhG5mXL4ony2HtK9RREQklr1T14EDFihpjEpqcpDPX1nOr/ceZ/+xk36HIwluwqQxyo32TxDeX1gF3A884N27B3ga2As8D3zJOTcUqU+vry8D93t95Xt9RxxDzlx10ynK8jJICsbG+UiXL8yn+VQfh5pUelpERCRWvXmkDQPmK2mM2ueuKCc9Oci3X1HRY/FXVIf0Oec2AZtGXXtoxONe4I4I9z4MPBxNn971asLVVUdfjzjGiDZ/O97zElbT3EVFDCxNHTa8r3HLoRYWz5ntczQiIiJyNt6qbWNOVippyUG/Q4kZORkp3LG6lA3b6virdcuYMzvN75AkQcXGVJNMmqGQ43BLN4tioAjOsLK8DEpy0lUMR0REJEaFQo63atsoy4ud9x8zxeevrGAgFOKHW474HYokMCWNCaaxvYf+wVBMVE4dNnxe4xvVLQyFtK9RREQk1lQ1neJk76D2M56FioJMPnheET944wi9A0N+hyMJSkljghneFxhLy1MBrl8+h7buAbYf1iG3IiIisebNI20AlOUraTwbX7iqgrbuAX72VoPfoUiCUtKYYE4ftxFDM40A1y4rJDUpwPO7j/kdioiIiJyhN4+0kZeZQn5mit+hxKQ1FXmcX5LNE69WE9KqK/GBksYEU9Pcxey0pJj7pZ2ZmsQ1Swt5bvdR/bIUERGJMW8daePislzMzO9QYpKZ8YWrKzjU1MXLB5r8DkcSkJLGBFPdfIqFhbNi8pf2LecXc7yzj7fr2v0ORURERKLU2tVPdXMXlyzI9TuUmPah8+dSnJXGt1/V8Rsy/ZQ0JphDJ7pYVBBbS1OHXb+8iOSg8fzuo36HIiIiIlHaVhOuR7C6XEnjuUgOBrj7inJeq2ph39FOv8ORBKOkMYF0dA9wrLOXpcWxedZhdnoyVy4u4Lndx3BOS1RFRERiwdaaFtKSA1xQmuN3KDHvU2vKSE8O8sSrNX6HIglGSWMCOXDiJADLimIzaQS4ZWUx9W097GnUJ2wiIiKxYGt1KxeX5ZKSpLed5yo7I5lPrC7l2Z0NnOjs9TscSSD615tA9h8LJ42xOtMIcGNlMcGA8ZyWqIqIiMx4Hd0D7DvWydqKfL9DiRufv7KCwZDj+1uO+B2KJBAljQnk4PGTzEpNYl52mt+hnLW8zBSuXFzAT99sYGAo5Hc4IiIiMo5th1txDi5bmOd3KHGjvCCTD55XxL9tPULvwJDf4UiCUNKYQPYfP8nSotisnDrS3Zcv4Fhnr85sFBERmeG2VreQkhTggvnazziZ7rmqgrbuAX7+doPfoUiCUNKYIJxz7D92kqUxvJ9x2HXL5rAgP4PvvX7Y71BERERkHFtrWrlofg5pyUG/Q4krayvyWDEvi++8WqPigDItkvwOQKZH86l+2roHYipp/NHW2jGvf2ptGXdfXs5Xf7GXd+vbWaVqbCIiIjNOZ+8Aexo7+LPrl/gdSsyK9F4I4Ly5WTzzZj2vHGzmA0sLpzEqSUSaaUwQB457lVNjuAjOSLevLiUzJajZRhERkRlqx+FWQg7Waj/jlFhVkk3h7FQdvyHTQjONCeJ05dQYmmkcT1ZaMrdfUsqPt9Xx4C3nUTg7FRh/dlJERESmz9bqVlKCAS4uy/U7lLiUFAzwmcsW8I+/PkDViZMsnhMf7/FkZopqptHM1pnZfjOrMrMHxng+1cye8p7famblI5570Lu+38xunqhPM6vw+jjo9Zky3hhmtsbMdnpf75jZx872xYgXP9pa+76v53YfJS8zhYJZKX6HN2nuvqKcgVBIn7CJiIjMQG/UtHLB/GztZ5xCf7S2jJSkAN957bDfoUicm3Cm0cyCwGPAjUA9sN3MNjrn9o5odg/Q5pxbbGZ3Ao8AnzSzSuBOYAUwD/iNmS317onU5yPAo865DWb2La/vb0YaA9gNrHbODZrZXOAdM/sP59zgOb0yceZ4Zx9L5sR+5dSRFhbOYv0F8/je6zV8/spyirJi9ygRERGReNLW1c+u+nbu037GKfXCnuOsKsnmJzvqWJifSUbq+9/aa7WVTIZoZhrXAFXOuWrnXD+wAVg/qs164Env8TPADRbOTtYDG5xzfc65GqDK62/MPr17rvf6wOvztvHGcM51j0gQ0wCVkBrFOcfxzl7Mxp6FHG+T9Ux3/43LGAo5/um3B/0ORURERDyvVjUTcnDtMhVomWpXLC5gYMix7XCr36FIHItmT2MJUDfi+3pgbaQ23oxfB5DvXX9j1L0l3uOx+swH2kckgSPbRxqj2czWAt8BFgCfGWuW0czuBe4FKCtLrE9cOnoG6BsMxc1M3Ogk95IFeWzYVkvx7DQKvL2NIiIi4p+XDzSRnZ7MBapwPuWKs9JYPGcWb1S3cNWSApICqnMpky+a/6rGWs84ejYvUpvJuj5uHM65rc65FcClwINm9r7syDn3uHNutXNudWFhYn3qdbyzF4Ci2fGRNI523bJCkgIBfr3vuN+hiIiIJDznHC8faOLqJQUEA/GzLWYmu3JRPp29g+xu6PQ7FIlT0SSN9cD8Ed+XAo2R2phZEpANtI5zb6TrzUCO18fosSKNcZpzbh/QBayM4udKGMc7+wDiZqZxtNlpyVy5uIBdDR3Ut3X7HY6IyLSZqFDdiHa3m5kzs9XTGZ8kpn1HT9J0so9rdHbgtFlSNJuCWam8VtWMc9qpJZMvmqRxO7DEq2qaQriwzcZRbTYCd3uPbwdedOH/YjcCd3qVTyuAJcC2SH1692z2+sDr89nxxvD6SAIwswXAMuBw1K9AAjjW2UtWWhLpKfFbvezqJQVkpgTZtOuYflmKSEIYUajuFqASuMsrQDe63WzgvwBbpzdCSVQvH2gCUNI4jQJmXLEon4b2Hg636AN0mXwTJo3e/sD7gBeAfcDTzrk9ZvZVM7vVa/YEkG9mVcD9wAPevXuAp4G9wPPAl5xzQ5H69Pr6MnC/11e+13fEMYCrCFdM3Qn8HPjPzrnms3s54lNjew/zctL9DmNKpSUHueG8Ig63dLHv6Em/wxERmQ7RFKoD+J/A3wO90xmcJK6XD5zgvLlZzInTFU4z1cVluWSkBHnlYJPfoUgciqYQDs65TcCmUdceGvG4F7gjwr0PAw9H06d3vZrwH8LR18ccwzn3A+AHE/4QCap/METTyT5WlmT7HcqUu7Q8jy2HWnh+zzGWFc/WPgoRiXcTFqozs4uA+c65X5jZX0bqKJGLxcnkOtU3yI7DbXzh6oV+h5JwUpICXL4on9/uO8Hxzt643ZYk/lB5pTh3rLMXB8zLjv9fHMGAsW5lMc2n+tiustMiEv/GLVRnZgHgUeAvJuookYvFyeTacqiFwZDjA0sL/A4lIV1ekU9y0DTbKJNOSWOca2zvAYj75anDlhfPpqIgk9/uO07vwJDf4YiITKWJCtXNJlwY7iUzOwxcBmxUMRyZSi++d4LMlCCrF+T5HUpCykhNYnV5Hjvr2unoGfA7HIkjShrjXGN7D+nJQbLTk/0OZVqYGbesLKarf4jfHdCnbCIS18YtVOec63DOFTjnyp1z5YTPTb7VObfDn3Al3g0OhXhhzzGuP6+IlCS9xfTLVYvCs7yvVanEh0we/YuOc0c7einJSccscfb3leZmcOH8HF6taqa9u9/vcEREpkSUhepEps2W6hZau/r58Plz/Q4loeVmprCqNIdtNa109Q36HY7ECSWNcWwo5DjW2cvcnPjfzzjajZVFAPx673GfIxERmTrOuU3OuaXOuUVe4Tmccw8550YfjYVz7lrNMspU+uW7R8lMCXLtMu2L9ds1SwsZGApptlEmjZLGOHbiZC9DIce87MTYzzhSbkYKVyzKZ2dd++l9nSIiIjI1BoZCPL/nGB+sLCItOX7PhY4VRVlprCzJ5vXqFtq6tOpKzp2SxjjW2B4+kitRiuCMds3SOaSnBHl+9zG/QxEREYlrrx9qob17gI+smud3KOK5bvkcBgZDPPFqjd+hSBxQ0hjHGtt7SAkGyJ+V4ncovkhPCXLdsjlUNZ1S6WkREZEp9It3GpmdmsTVS3TUxkxRnJXGipJsvvf6YdV4kHOW5HcAMnUaO3qYm51GIIGK4Iy2tiKP1w4188jz73HlogICgcR9LURERKZC/2C4auqNlUX87K0Gv8OREa5fNoevNxzk26/U8Jc3L/M7HIlhmmmMUyHnONrRy9wEXZo6LCkY4Mbzitjd0Mkvdh31OxwREZG48/KBJjp7B/nwKlVNnWmKs9P48Kq5fOe1Gk6c7PU7HIlhShrjVOupfvoHQ8zLTrzKqaNdMD+H5cWz+d+/2k//YMjvcEREROLK97ccpjgrjQ8sVdXUmeivblpG/2CIf/rNQb9DkRimpDFONXgVQxO1CM5IATO+fMtyjrR0s2F7rd/hiIiIxI2qEyd55WAzn76sjOSg3lbOROUFmXxqbRkbttdxqOmU3+FIjNK/7jhV19ZNctAoytJMI8C1SwtZW5HH1397UAfdioiITJInXz9CSlKAu9aU+R2KjOO/3LCEtKQA//D8fr9DkRilpDFO1bV2U5KTTlCFXwAwMx64ZTnNp/r59isqPS0iInKuOnsH+Olb9Xx01TzyZ6X6HY6Mo2BWKvd+YBHP7znGm0da/Q5HYpCSxjg0GApxtKOX0twMv0OZUS4qy+WWlcU8/rtDNJ/q8zscERGRmPaTHfV09w/xuSvK/Q5FovCFqysoykrlbzfuZSjk/A5HYoySxjh0rKOXwZBjfp6SxtH+8uZl9A6G+JcXq/wORUREJGYNDoX4/pbDXLIgl/NLs/0OR6KQmZrEf/vQeexq6ODpHXV+hyMxJqqk0czWmdl+M6syswfGeD7VzJ7ynt9qZuUjnnvQu77fzG6eqE8zq/D6OOj1mTLeGGZ2o5m9aWa7vP+9/mxfjHhR1xYugjM/V0VwRltUOItPrJ7PD984QtWJk36HIyIiEpOe2lHHkZZu/vjqhX6HImfg1gvmsaY8j79//j3au/sB+NHW2nG/RCCKpNHMgsBjwC1AJXCXmVWOanYP0OacWww8Cjzi3VsJ3AmsANYB3zCz4AR9PgI86pxbArR5fUccA2gGPuqcOx+4G/jBmb0E8ae+tZvZqUlkpyf7HcqM9Bc3LSUzNYn//vPdOKflGSIiImeis3eAf/zVAdZU5HHziiK/w5EzYGZ8Zf0KOnoG+N+/OuB3OBJDoplpXANUOeeqnXP9wAZg/ag264EnvcfPADeYmXnXNzjn+pxzNUCV19+YfXr3XO/1gdfnbeON4Zx72znX6F3fA6SZWULvxq5r66Y0L4PwyymjFcxK5YFblrO1ppWfvtXgdzgiIiIx5bEXq2jt7uevP1yp9xox6Ly5WXz28nL+besR3qlr9zsciRHRJI0lwMiFz/XetTHbOOcGgQ4gf5x7I13PB9q9PkaPFWmMkT4OvO2cS9gqJx3dAzSf6tfS1Al8cvV8Li7L4e827aOtq9/vcERERGJCbUs3333tMB+/uFR7GWPY/TctpXB2Kl/+6bsMhkJ+hyMxICmKNmN9hDR6TV+kNpGuj5Wsjtd+wjjMbAXhJas3jdEOM7sXuBegrCx+zxJ6pz78iZEqp44vEDAe/tj5fOSfX+XvNu3jH+64wO+QREREfDXR/jXnHJv3nyApaPzVzcumKSqZCllpyXzttvP54+/v4HcHmrl++Ry/Q5IZLpqZxnpg/ojvS4HGSG3MLAnIBlrHuTfS9WYgx+tj9FiRxsDMSoGfA591zh0a64dwzj3unFvtnFtdWFgYxY8dm3bWtWNAqWYaJ3Te3Cz++OqF/OTNen6z97jf4YiIiMxob9S08pt9J7j/xqUUZaX5HY6coxsri/jIqrls3n+CE529focjM1w0SeN2YIlX1TSFcGGbjaPabCRchAbgduBFF64wshG406t8WgEsAbZF6tO7Z7PXB16fz443hpnlAL8EHnTOvXYmP3w82lnXTuHsVNKSg36HEhP+/MYlLC+ezQM/e5cWnd0oIiIypsb2HjbtOsr1y+dwz1UVfocjk+Rvb11BSjDAz95uIKTigDKOCZenOucGzew+4AUgCHzHObfHzL4K7HDObQSeAH5gZlWEZ//u9O7dY2ZPA3uBQeBLzrkhgLH69Ib8MrDBzL4GvO31TaQxgPuAxcBfm9lfe9ducs6dOLuXJHY553inrp3y/Ey/Q4kZP32zgZsqi3nspSo+88Q2/mhtGWbGp9bG7xJmERGRM9E3MMSPt9WSmRLk8oX5/HibzviLFwWzUvnIqrn85M16tla3cPmiAr9Dkhkqmj2NOOc2AZtGXXtoxONe4I4I9z4MPBxNn971asLVVUdfH3MM59zXgK9N+EMkgJrmLlq6+vnAkvhdfjsVirPTuKmyiOd2H+Ot2nYuWZDrd0giIiIzQsg5fvJmPa1d/Xzh6oVkpkb11lFiyIXzc9hZ184Le46zfG4WuRkpfockM5D+5ceRbTWtAJQXaKZxtIk291+5uIB9R0/yi3cbWajXT0REBIDndx9j79FOPrJqLhX6+xiXzIzbLirhn35zkGd3NnD35eU6SkXeJ5o9jRIjttW0UjArhYJZ+oToTAXMuOOSUgB+8mY9QyGt6xcRkcS2taaFV6uauXxhPldo2WJcy81I4aYVRRw4foqdOrtRxqCkMY5srWllTUWePh06S7mZKXxk1TwOt3TxxKvVfocjIiLimwPHT/If7zSyvHg2H1411+9wZBpctjCfBXkZ/Me7jXT0DPgdjswwShrjREN7Dw3tPawpz/M7lJh2cVkOlXOz+F8vHGDf0U6/wxEREZl2Rzt6+PG2Woqy0vjkpfMJ6MPohBAw4/ZLShkKOX7+dj1O1VRlBCWNcWK7t5/x0goljedieF1/VnoSf/7UTvoGh/wOSUREZNp09gzw/S1HSE0K8NnLy0lN0hFeiSR/VirrVs7lwPFTbD/c5nc4MoMoaYwTW2tamZ2WxPLiLL9DiXmzUpN45OOreO/YSR799UG/wxEREZkWA0MhfvDGEXr6h/js5eVkpyf7HZL4YG1FHosKM9m06yitXf1+hyMzhKqnxoltNS1cWp5HMKAlJJPheGcfl5bn8q8vH2Io5P6gYpzOcBSRmcLM1gH/RPjM42875/7fUc/fD3yB8FnJTcD/5Zw7Mu2BSkx4bvdRGtp7+PTaBczLSfc7HJkkE1WQHy1gxscvLuXrLx7kqe21/Mk1C0kOap4p0em/gDjQfKqPQ01drNHS1En1ofPnkpuZwjNv1tE7oGWqIjKzmFkQeAy4BagE7jKzylHN3gZWO+dWAc8Afz+9UUqs2LTrKG9Ut3LV4gIq52nVUqLLyUjhtgtLqGvr4Z9/q1VXoqQxLgzvZ1TSOLlSk4LccUkp7d0D/HLXUb/DEREZbQ1Q5Zyrds71AxuA9SMbOOc2O+e6vW/fAEqnOUaJAbUt3Xz5mXcpzU3nphVFfocjM8Sq0hwuLsvlXzZXnT4LXBKXksY4sLWmlfTkICvnZfsdStxZkJ/JB5YW8uaRNvY2qpqqiMwoJUDdiO/rvWuR3AM8N6URScwJhRz3P70TDO68tIykgN4ayu99dNVc5udl8OdP7aRN+xsTmn4zxIHXDzVzyYJcUpL0f+dUuOG8OczNTuPnb9dzqm/Q73BERIaNtYl9zBr5ZvZpYDXwDxGev9fMdpjZjqampkkMUWa6H249wo4jbfzNR1eQl5nidzgyw6QmB/nnuy6i6WQf//WpnQyFdAxHolKWEeMa2ns4cPwU1y4r9DuUuJUUCPCJ1fPpGwzx87d0bpGIzBj1wPwR35cCjaMbmdkHgf8O3Oqc6xurI+fc48651c651YWF+nsSr360tfYPvr6xuYqv/XIfS+bMok979yWCVaU5fGX9Cn53oIl/+s0Bv8MRnyhpjHEv7T8BwLXL5vgcSXwrykrjphXF7Dt2kp/sqPc7HBERgO3AEjOrMLMU4E5g48gGZnYR8K+EE8YTPsQoM5Rzjmd3NuKc47YLSzBT9XWJ7M5L5/OJ1aV8/cUqfrP3uN/hiA905EaM2/xeE6W56SwqzJy4sZyTKxbl897RTr7yH3u4bGE+ZfkZUd0XqdS1ju4QkXPhnBs0s/uAFwgfufEd59weM/sqsMM5t5HwctRZwE+8pKDWOXerb0HLjLGroYP9x0/yYa9SuMh4zIyvrl/JvqMn+a8b3uapP7mclSWqpZFINNMYw/oGh3itqpnrls3RJ4TTIGDG7ZeUEjDjL36idf0i4j/n3Cbn3FLn3CLn3MPetYe8hBHn3Aedc0XOuQu9LyWMQv9giE27jjIvO43LF+X7HY7EiLTkIN++ezU5GSl8/nvbqW/rnvgmiRtKGmPYtppWegaGuG659p9Ml5yMFL6yfgXbD7fx/2zap/2NIiISc14+cILO3kE+esE8AvrQWc5AUVYa3/38pfQNDPG5726nvVsVVRNFVEmjma0zs/1mVmVmD4zxfKqZPeU9v9XMykc896B3fb+Z3TxRn97ejK1mdtDrM2W8Mcws38w2m9kpM/uXs30hYtFL+5tISQpw+cICv0NJKB+7qIS7L1/At1+t4VsvV/sdjoiISNRau/p55WAzF5RmsyBfW1vkzC0tms3jn11NbUs3n/3ONjp6BvwOSabBhHsazSwIPAbcSLhS23Yz2+ic2zui2T1Am3NusZndCTwCfNLMKglvzF8BzAN+Y2ZLvXsi9fkI8KhzboOZfcvr+5uRxgB6gb8GVnpfCWPz/hNctjCf9JSg36EkFDPjbz66grbuAR55/j1yM5K5c432J4qIyMy3addRAmasWznX71Akhl22MJ9vfvpivvjDN/nsE1u59YKScd+Pqo5D7ItmpnENUOWcq3bO9QMbgPWj2qwHnvQePwPcYOFNduuBDc65PudcDVDl9Tdmn94913t94PV523hjOOe6nHOvEk4eE8aRli6qm7q4Tkdt+CIQMP7XHRfwgaWFPPCzXfzNs7vp0hmOIiIygx08cZK9Rzu5dlkh2enJfocjMe6G84r45h9dwt6jnXz39Rq6+/U+KJ5FkzSWAHUjvq/3ro3Zxjk3CHQA+ePcG+l6PtDu9TF6rEhjJKTf7tNRG35LSQrwr5++hM9dUc6TW/5Pe3ceJkdVL3z8++t19kwyk2WyT8gCAWKWSUiMAiIgsrqABlGDcF9we3zl3veqyCt6Fd/3ol5FRCAIKCAYuEgkLhhAiAQI2fdA9n1CZklmn+np5dw/6sykM+mefaarJ7/P89TT1aerTv26urpOnapTpw5wxS/fYNm292mOxFIdmlJKKXWKcDTGXzYfZUh2gPkT9bYW1TsunTqcB2+axdHqJh55Y6/e4ziAdabSmLsZ89gAAB7TSURBVOgO6ba9fySbprfSOxtHUiJym4isFZG15eXlnZ3NtZZsOMLUojyKC/V+hFTKDHj5wbXn8tzt8/CKcPtT65h1zyv863MbWbqplLKaM+oCuFJKKZd6cuUBymtDXHV+EX6v9oOoes9lU4fzpQ+Op7oxzMP/3MMxPfYZkDqz1zgMjIl7PxooTTaNiPiAQcDxduZNll4B5Ns82i4r2TI6xRjziDGmxBhTMnRoejfp3Hmsli1Hqvn0rNGpDkVZc4qH8PIdF/H4zSV87NwRvLr9GN/4wwbm/L9/8ItXdrJ8Rxl12nxVKaVUClTUhbjv1Z1MGpbD2SNyUx2OGoAmDM3htgsnYIBFb+xhX0V9qkNSvawzlcY1wCTbq2kAp2ObpW2mWQostOPXA68Z51kES4EFtufTYmASsDpZnnae120e2Dxf7GAZZ5w/rjuMzyNcN31kqkNRcQI+D5ecPZyf3fAB1n/vMpZ+fT7fvfJscjJ8vLz9GPe+9B7Przus9z4qpZTqVz/9+w4am6NcNa1In+us+kzRoEy+fNFZ5AT9/PatfWwvrU51SKoXddh7qjEmIiJfB5YBXuBxY8w2EfkhsNY+QPgx4CkR2Y1z9W+BnXebiDwHbAciwNeMMVGARHnaRX4bWCwi9wAbbN4kW4bNaz+QBwRE5BPA5W16dx0wItEYSzYc4eIpQynMCaY6HJWEz+th2uh8po3OJyfop6ymiVX7jrN633F2HqvlUzPa3haslFJK9b7V+47z7NpD3HbhBIblZqQ6HDXADc4KcPuFE3hy5X6eXnWQaz4wkrkTztguSAYUORMv1pWUlJi1a9emOoxuWb6jjJt/u4aHPz8zaXfZz6w62M9RKUjenXT873G0upH/XnuY92uaWDhvHHdfcy5ej571Vaovicg6Y0xJquNIF+lcRqpThSJRrvzlCkKRGC/fcSF/2tD27iKl+kZzJMbiNQd57/1aPjyxkCdumYNHj3dcpyvlY4dXGpW7/HH9EfKz/HzkbO011W06U1kvGpTJVy8+i2Xb3ueJlQc4Wt3E/TfOIMOvz9pUSinVux5avoc95fX87kuzyQroIZ/qPwGfh5suGMdft5SyYncFX3tmPb/47HQ93klj2n1WGqluDPPytve59gMjCfr0T5eufF4PV00byQ+umcor7x7j84+uorohnOqwlFJKDSC7y+p48PU9XDd9pD6eS6WE1yNcM20kV55fxN+3vc+Nv3mHirpQqsNS3aSVxjTy+Jv7CEViLJiduBmkSi83zy/mgRtnsvlwNZ99ZKXuSJVSSvWKpnCUbz67gaygl+9dPTXV4agzmIjwoYmFPHTTTLaX1vDJB99id1ldqsNS3aCVxjRxor6Zx9/cxxXnjmDqyLxUh6N6yVXTinjs5hL2V9bzmUUreb9an22klFKqZ+7563a2Hqnhv274gHaap1zhivOKWHzbXBpCUT790Nu8s7cy1SGpLtJKY5p4ZMVe6poj3HHZ5FSHonrZhycN5clbLqCsJsQNi95mT7megVNKKdU9L248wu/fOcjtF03go+cMT3U4SrWaMXYwS746n8KcAF94bBVLNhxOdUiqC/Su6DRQURfid2/t5+ppI5kS91Be7SU1vbX9/b44bxxPvL2fq+5fwWMLZzN/YmGKIlNKKZWOtpVWc+cLW5g9fjD/5/IpqQ5HqdOMLcjiha/M5/bfr+WOZzdxoLKBb1wySXtWTQNaaUwDDy/fQygS5ZuXTkp1KKoPjR6cxVcvnsgTK/ez8PHVfO/qqXxh7jjdkSqllOrQ9tIabnp0FfmZfn5140z8Xm1Mptyj7YnyK88vIhSOcd+ru3h52zGunzWaWz5UnKLoVGdopdHlfvL39/jtW/uZPmYwq/YeZ9Xe46kOSfWhwdkBvnzRWazYVc73l25j6aZSfnTdeR3ex5rsqnOyZ0cqpZQaOLaX1vC5R98h0+/lD7fNZcSgjFSHpFS7fB4P188azcj8TF7aepSHlu/hwslDmTgsJ9WhqST0NJSL1TaFWbzmEDkZPq48f0Sqw1H9JMPv5bGFs/np9dPYV1HPNQ+8ydeeWc+fN5VSF4oknc8YQyQWwxjTj9EqpZRKpT9vKmXBIyvJ9HtZfNtcxhVkpzokpTpFRJg/sZAvzS+mvjnCNb96k8WrD+pxjEvplUaXMsbwvT9t5UR9M//y4Qn6UN4zjMcj3FAyhsumDuf+f+xm6aYj/HXzUXweYUh2gEGZfjIDXhqaozSEIpxoCBOKRIkZ57lIuUEfeZl+9pTXMXdCAXOKhzAo05/qr6WUUqqXVDeE+d6LW1m6qZTpY/L51Y0zGDMkK9VhKdVlZw3N4RuXTGLF7nK+88IW3thVzo+uO48C7fnXVbQm4lKL1xziTxtL+eg5wygu1LOGZ6r8rAB3XzOVu646h3UHTvDg8t3UNUVoDEdpCkfJ8HnIy8hkXEE2AZ8Hv9dDcyRKbVOEEw3NPPXOAR57cx9+r3DJ2cP45IzRfOTsoQR93lR/NaWUUt1w6HgDv3t7P8+uOURTOMq/XTaZr1x8Fj69h1GlsbxMP0/dcgG/WbGXn728g7f3VPLdj5/DDSWjEdG+HdxAK40u9Oyag3x3yRY+PKmQj0wZlupwlAt4PcKc4iHsLutaM+VPzRzFpkNVvLL9GH/aWMqybcfIz/Jz9bQiPjVzNDPG5OvOWCmlXOx4fTM7j9Xy9p5K3tpdwYaDJ/CIcNW0Ir580VmcU6TPblYDg8cj3H7RWVxy9jDuWrKVb/1xM8+tPcS3rjibOcVDUh3eGU/OxHbDJSUlZu3atakOI6EnV+7n7he3cdHkoSz6wixeWH8k1SGpFEjWgU1PHrMSjRn2lNex/uAJ3j1aQzhqKC7M5pMzRvGJ6aMYW6DNmtTAJCLrjDElqY4jXbi5jByowtEYD76+h/LaEOV1ISrsa3ltiMZwFACPwLTR+Vw0eSg3zhl7Wmc3+hguNZDEjGH9gRO8sv0YtaEIk4blcM8nzmNO8RA92d2LulI+aqXRJZrCUe61PaVeNnU4D3xuBkGfVwsB1SeawlFyMnwsWX+ElXsrASguzGb+xAJmjx/C2SPyKC50mrwqle600tg1biwjB5LG5ijrD55g1d5KdhyrZU95PQcq6wlHTx6P5QZ9FOYGKcwJMjQnwNDcIGOHZJMZ0FsL1JmlORJj1b5K/rmznIbmKBOH5XDjnLFcdX6R9hLcC7TS2AG3FYjvHq3h5t+u5lhNiHkTCrjy/CK8+mw+1U+qGprZVlrD7rI69lXW0xyJAeDzCMWF2UwekcvkYbmcNSyb4sJsxhdkkx3Ulu0qfWilsWvcVkamu6ZwlJ8u28He8nr2VdRx6HgjUWPwCBRkBxmaGzfkOK8Zfq0cKhWvORIjK+hcTNl4qAqAqUV5XDxlKNPH5DNtdD7D84J6FbKLulI+6pFfCpXXhnjgtV08s/ogQZ+XhfPGM2VEbqrDUmeY/KwA8ycWMn9iIdGYobw2xLGaptZh5Z5K/rb5KPGnl/IyfBTkOGfBL586nPGFToVy7JAsvTqplDqjNYWjbDxUxco9lbyzt5INh6pojsQQYNTgTOZPLKC4MIfxBVkEtXKoVKcEfB4+UzKGz5SMYdexWl59t4zXd5Sx6I29RGPOEUp+lp9R+ZmMzM9kVMswOJPheRmMGJTBsNwgfu0wqts6VWkUkSuAXwJe4FFjzH+2+TwIPAnMAiqBzxpj9tvP7gRuBaLAN4wxy9rLU0SKgcXAEGA98AVjTHN3luFWh4438PSqgzy5cj+hSIzPzh7D+IJscvTqjUoxr0cYMSjjtCYfzZEYlfUhKuqaqaxzXivqQmwrrWbN/uOt03kExgzJar0iWV4bIjfDR26Gnzz7GvB5kt6zqZTqmp6UzwNB/C0c0ZghFI4SjhkiUafFhNcjXF8ymvzMQJ+d0ApFomw6VM07eytZuaeS9QdPEIrEEIHzRg5i4bxxhCIxxhdk6xVEpXrBpOG5TBqey1cuPovG5ijbj9aw5XAVL219n6qGMJsOVfHPneWtLadaCJAd9JGX6SMvw09epp9BmX4G2fH8TD//68IJ2gw8iQ5rKSLiBX4NXAYcBtaIyFJjzPa4yW4FThhjJorIAuBe4LMiMhVYAJwLjAReFZHJdp5ked4L/MIYs1hEHrZ5P9TVZRhjoj1ZMb3tSFUjK3aW89ctR1mxqwKPwMfPL+LfLpvMhKE5eu+icrWAz0PRoEyKBmWe9tmV549gX0U9+yvr2Vdez96KevZV1LN633Eamk//GwZ9Hn6zYi9Dc4MMyw0yLDfj5HjeyfeDs/y92swkEo1RH4ry+1UHCEdj+DwevB7B6xF89vWL88Zp05ZOSrbP0hMC/acn5XP/R9sz9aEIpVWNHLFDaVUjpVVNbDh4gpqmCPWhCKE2B4gtfrJsB+Dse7KDPrIDXrKDPnLs82wvPWc4IwY5+55heUHyMvynVe6MMdSFIhyvb+bg8Qb2VdSz81gtmw9Xt3YsJsCIQRmUjBvMhKE5jC/QexCV6muZAS+zxg1m1rjBBOIeJ2aMoSkc40RDMzVNYWoaI/Y1TE1TmKqGMAcqG1o7mmrx81d3kp/lt8c8GRQNymBIduCUfce6AycI+Dz4PB58HsHndY4h/B4PXq+wYPYYgj4vGX7PgDqm6MylrTnAbmPMXgARWQxcB8QXStcBP7DjzwMPiLOWrgMWG2NCwD4R2W3zI1GeIvIucAnwOTvNEzbfh7qxjJWdXAfdZowhHDU0R2M0R2KEozFqm8KU1zpXYfaW17OrrJbtpTXsragHYFR+JndcOpnPzB6d8ABcqXSTnxVgxtgAM8YOPiXdGMOjK/ZR2xShtilMbSjSOj44O0B5TYhtpTW8XlNGfYLKpd8rFOYEGZTpt2cET16x9Hs9GMAYMBiMcXpaqwtFqGuKOK92vNa+ti0YEvn+0m1k+r1kBbxkBlpefWTZNL/Xg8cDIoJHBI84Zy6jBmIxQzRmiBlniMYMUeOsh6j9zOsRcoLO93CuwPpar8S2vGYFvK0xZAd9ZAa8BLye1uV5PdLrhVA0Zmiyz/5sisRax+tDUepCYWqbTq7P+pCzTjcfqqYpEiUUiREKR/F4hIDXwz93lpHpb1l/ztnc3Azn4Dw3w9f6W+Zl+MkO+k6ptLeMD6RCto91u3w2/dShgTGGmIFILEYsBlFjiNpys97+T+tDEeqbI9SFolTWhSizTeTLa0OU1YQ4VttEVUP4lHy9HmFEXgZ+r4cxgzPJDvrICnjJ8HtbD9zA+V9GYoaG5ij1zc6yGkJRqhvDHDnRSF0owmvvlZ0Wd8DrIcPvXJk0OJ3XRGKnrrKcoI/zRw3ilg8VU9cUobgwm6yAthhSqq905QKLiJAZ8JIZyGQkyY+3w9EYNY1hqhqdCuX4wmyOVjdytKqJo9XOiamqxjBd2WP+50vvAc5+KjvgJTfDT07QR06Gr/U1N+hrPXmVG5fe8r71s6Cf7KC3T8r+rurM3m0UcCju/WHggmTTGGMiIlINFNj0d9rMO8qOJ8qzAKgyxkQSTN+dZfSJg5UNXPqLf5522TuRMUMymTI8l89dMJYLJw9l0rCclP/oSvWm9nbi2Xan2FEPZ6FI1FYobQXTjteFIjSFo3g8UFrVRG2oluqGMJGYc1ZfRBAAW5nKidsBh8Ixcuy9lxk+D0G/p/XMn8/jcQ5eYyeHSMwwZUQujc0RGpqjNDZHaWiO0hCOOj0bRmJEjVNBbams5gR9xIyz7JYKnUeE6sYwHhFEcF5trMYYQi2VskiUUDhGd47cW/L1ijiVWKS18gzOQS42RmiJ1zmAb/m8u1UGEedg2SNC0Ochw+8l6PcSsxXPljO3jc1R6kKRhFebO7OMlork72+9gJLx+nyuJHpSPlf0VVA/WLqNZ1YdbP2PdZXfK06HMHkZjC3IYnbxYEblZzEyP6P1HqVhuRl4PdLjVjrRmOHSqcN4v7qJYzUhymubqLH7n6a4E01ZAS/5WX7yswKMtU3wh+We7HRDWwsplZ78Xg8FOUEKcoJA4tYyxhga7YnU+lCE59cdpjkSIxIzRGIxIlHnGCIac9Kmjc4nFHGmrQ9F7fFMmLpQhKqGZg6faDh5IrYLZWRL2e8R55hi+uh8nvvyvF5bFx3pTKUxUQ2nbSmQbJpk6YluLGhv+u4s49QARW4DbrNv60RkR4L5eqqQNgXxAeBN4LE+WFgPnRari6VLrOkSJ6RPrOkSJ6RPrOkSJ0Dh7Ht6JdZxvZCHG/WkfD51ov4pIzttd/dnTaftOxGNP3XSOXbQ+HvFTd2ftd/j3wXIV3qcTafLx85UGg8DY+LejwZKk0xzWER8wCDgeAfzJkqvAPJFxGevNsZP351ltDLGPAI80onv220isjZdunXXWHtfusQJ6RNrusQJ6RNrusQJ6RVrivSkfD5Ff5SR/SHdtxmNP3XSOXbQ+FMt3ePvjM50JbYGmCQixSISwOl0ZmmbaZYCC+349cBr9n6JpcACEQnaXlEnAauT5Wnned3mgc3zxW4uQymllBrIelI+K6WUUp3W4ZVGew/E14FlOF16P26M2SYiPwTWGmOW4rS+fMp2QnMcp+DCTvcczk35EeBrLb2aJsrTLvLbwGIRuQfYwMmWnV1ehlJKKTVQ9aR8VkoppbqiU918GWP+BvytTdrdceNNwA1J5v0x8OPO5GnT93Kyh9X49C4vIwXSqWmPxtr70iVOSJ9Y0yVOSJ9Y0yVOSK9YU6In5fMAle7bjMafOukcO2j8qZbu8XdItJWKUkoppZRSSqlkOnNPo1JKKaWUUkqpM5RWGnuJiFwhIjtEZLeIfKcPl/O4iJSJyNa4tCEi8oqI7LKvg226iMj9NqbNIjIzbp6FdvpdIrIwLn2WiGyx89wv9iFUyZbRTpxjROR1EXlXRLaJyP92cawZIrJaRDbZWP/DpheLyCqbz7O2owlsp0vP2uWuEpHxcXndadN3iMjH4tITbh/JltFBvF4R2SAif3F5nPvt77NRRNbaNNf9/naefBF5XkTes9vsPLfFKiJT7LpsGWpE5JtuizMurzvE+T9tFZE/iPM/S7gdSYq3VeV+0oWyL8G80bj/TduOgvpFkvhvsP+RmIgk7XUx2bben3oY/2llQX9KEvtPxdnfbxaRJSKSn2Ret677zsaf0nVvY0gU/49s7BtF5GURGZlk3oRlVX/qYfwp3/f0KmOMDj0ccDog2ANMAALAJmBqHy3rQmAmsDUu7SfAd+z4d4B77fiVwEs4z+maC6yy6UOAvfZ1sB0fbD9bDcyz87wEfLy9ZbQTZxEw047nAjuBqS6NVYAcO+4HVtkYngMW2PSHga/Y8a8CD9vxBcCzdnyq/e2DQLHdJrztbR/JltFBvP8KPAP8pb08XBDnfqCwTZrrfn873RPAv9jxAJDv1ljj9jnv4zxfyXVx4jxQfh+QGbf93JxsOyLF26oO7h/oQtmXYN46l8Z/DjAFWA6UJJmv344v+iJ+O91+2pQFLoj9csBnx+9NtO24fN13GL8b1n078efFjX+jZf/fZr6kZVU6xG8/S/m+p1fXRaoDGAgDzkHWsrj3dwJ39uHyxrfZeHcARXa8CNhhxxcBN7adDrgRWBSXvsimFQHvxaW3TpdsGV2I+UXgMrfHCmQB64ELcJ4b2rJTbv2NcXoqnGfHfXY6afu7t0yXbPuw8yRcRjvxjQb+AVwC/KW9PFIZp51uP6dXGl33+wN5OBUccXuscXlcDrzl1jhxKo2HcAp7H862+rFk2xEp3lZ1SI+BTpZ9CeZzxYFb2/jj0peTvNLYr8cXvR2//Xw/qa+4JIzdfvZJ4Ol0XPftxe+Wdd+J+O8EHkqQnrCsSpf47Weu2Pf01qDNU3tHywFSi8M2rb8MN8YcBbCvwzqIq730wwnS21tGh2xTsxk4V/BcGas4TT43AmXAKzhnF6uMMZEE+bfGZD+vBgq68R0K2llGMvcB3wJi9n17eaQyTgADvCwi60TkNpvmxt9/AlAO/FacZr+Piki2S2NtsQD4Qwd5pCxOY8wR4GfAQeAozra3Dvduqyo9dXa7zBCRtSLyjoh8ov/C6xWpPr7oDYnKAje5BadlRVvpsu6TxQ8uXvci8mMROQTcBNydYBJXr/9OxA/pve85jVYae4ckSDP9HsXpksXV1fTuByCSA/wR+KYxpqa9SbsYU6/GaoyJGmOm41zJm4PT7CZZ/r0Va5e+g4hcDZQZY9bFJ7stzjjzjTEzgY8DXxORC9uZNpW/vw+n6clDxpgZQD1OU7dkUrqt2nv0rgX+u6NJuxhPr8Vp7y27DqdJ6UggG2c7SJZ/qrdVNbCNNcaUAJ8D7hORs1IdUBcMhG26K2VBvxKRu3Ce8f10oo8TpLlq3XcQP7h43Rtj7jLGjMGJ/esJJnH1+u9E/JDe+57TaKWxdxwGxsS9Hw2U9uPyj4lIEYB9LesgrvbSRydIb28ZSYmIH6fC+LQx5gU3x9rCGFOF09RmLpAvIi3PMo3PvzUm+/kgnIdmd/U7VLSzjETmA9eKyH5gMU4T1ftcGCcAxphS+1oGLMGpjLvx9z8MHDbGrLLvn8epRLoxVnAK//XGmGMd5JHKOC8F9hljyo0xYeAF4IO4dFtVaatT22Xcvmgvzv59Rn8F2AtSfXzRY0nKgpSzHatcDdxkbFvCNly97jsRv2vXfRvPAJ9OkO7q9R8nWfzpvu85jVYae8caYJI4vfYFcJqO9WcvSUuBhXZ8Ic79gy3pXxTHXKDaNuFZBlwuIoPtFYHLcdrtHwVqRWSuiAjwxTZ5JVpGQnb+x4B3jTE/d3msQ1t6HhORTJwD3neB14Hrk8Takv/1wGt2h70UWCBOT5DFwCScjkUSbh92nmTLOI0x5k5jzGhjzHibx2vGmJvcFqddj9kiktsyjvO7bcWFv78x5n3gkIhMsUkfBba7MVbrRk42TW0vj1TGeRCYKyJZNq+Wdeq6bVWltQ63S7udB+14Ic7Jt+39FmHPpfr4okfaKQtSSkSuAL4NXGuMaUgymWvXfWfid+u6BxCRSXFvrwXeSzBZwrKqP+LrSGfiHwD7ntOl8obKgTTg9FS4E+deuLv6cDl/wLlHKIxzFuZWnPt4/gHssq9D7LQC/NrGtIW4G9Vx2sDvtsOX4tJLcHYqe4AHsJ2DJFtGO3F+CKcZwWZgox2udGms04ANNtatwN02fQLOAepunKaAQZueYd/vtp9PiMvrLhvPDmzPk+1tH8mW0Ynt4GJO9p7qujjt9JvssK0lLzf+/nae6cBauw38CaenNtfFitNRUyUwKC7NdXHaef4DpyDdCjyF0wOq67ZVHdJjoGtlXwnwqB3/oN3+N9nXW10U/yfteAg4xsmOoUYCf4ubt1+OL/oifpKUBS6IfTfO/XItxycPt43d5eu+w/jdsO7bif+POGXDZuDPwCg7bet/175PWFalQ/xu2ff05tByQKCUUkoppZRSSp1Gm6cqpZRSSimllEpKK41KKaWUUkoppZLSSqNSSimllFJKqaS00qiUUkoppZRSKimtNCqllFJKKaWUSkorjUq5kIjcJSLbRGSziGwUkQvamfZ3InJ9ss/jptln81ovIvOSTPdlEfliT+NXSiml+oqWkUr1P1+qA1BKncoWVlcDM40xIftQ2EAvZP3vxpjnReRyYBHO8ynjl+szxjzcC8tRSiml+oSWkUqlhlYalXKfIqDCGBMCMMZUAIjI3cA1QCbwNnC7afOgVRGZBfwcyAEqgJuNMUfb5P8GMNFOv9zmNR9YKiK5QJ0x5mciMhF4GBgKRIEbjDF7ROTfgc/gPKx9iTHm+738/ZVSSqlktIxUKgW0eapS7vMyMEZEdorIgyJykU1/wBgz2xhzHk6heHX8TCLiB34FXG+MmQU8Dvw4Qf7XAFvi3ucbYy4yxvxXm+meBn5tjPkA8EHgqD0DOwmYA0wHZonIhT36tkoppVTnaRmpVArolUalXMYYU2fPhn4Y+AjwrIh8B6gVkW8BWcAQYBvw57hZpwDnAa+ICIAXiD+D+lMR+b9AOXBrXPqzbWOwZ1NHGWOW2JiabPrlwOXABjtpDk4B+UZPvrNSSinVGVpGKpUaWmlUyoWMMVFgObBcRLYAt+PcX1FijDkkIj8AMtrMJsA2Y0zCG/ix92skSK9PkCZJ8hDg/xtjFnXwFZRSSqk+oWWkUv1Pm6cq5TIiMkVEJsUlTQd22PEKEckBEvUEtwMY2tLrm4j4ReTc7sRgjKkBDovIJ2xeQRHJApYBt9gYEJFRIjKsO8tQSimlukrLSKVSQ680KuU+OcCvRCQfiAC7gduAKpz7LPYDa9rOZIxptt2K3y8ig3D+3/fhNNHpji8Ai0Tkh0AY5yb/l0XkHGClbd5TB3weKOvmMpRSSqmu0DJSqRSQNh1LKaWUUkoppZRSrbR5qlJKKaWUUkqppLTSqJRSSimllFIqKa00KqWUUkoppZRKSiuNSimllFJKKaWS0kqjUkoppZRSSqmktNKolFJKKaWUUioprTQqpZRSSimllEpKK41KKaWUUkoppZL6H3daQZGzawWdAAAAAElFTkSuQmCC\n",
=======
      "image/png": "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\n",
>>>>>>> 187a606afa61a769d1e6c1390234c9344f9cdfc9
      "text/plain": [
       "<matplotlib.figure.Figure at 0x29b92490438>"
      ]
     },
     "metadata": {},
     "output_type": "display_data"
    }
   ],
   "source": [
    "f, (ax1, ax2) = plt.subplots(ncols=2, figsize=(15, 4))\n",
    "\n",
    "sns.distplot(labels, ax=ax1)\n",
    "sns.distplot(np.log1p(labels), ax=ax2)"
   ]
  },
  {
   "cell_type": "code",
   "execution_count": 12,
   "metadata": {},
   "outputs": [
    {
     "name": "stderr",
     "output_type": "stream",
     "text": [
      "/anaconda3/lib/python3.6/site-packages/scipy/stats/stats.py:1713: FutureWarning: Using a non-tuple sequence for multidimensional indexing is deprecated; use `arr[tuple(seq)]` instead of `arr[seq]`. In the future this will be interpreted as an array index, `arr[np.array(seq)]`, which will result either in an error or a different result.\n",
      "  return np.add.reduce(sorted[indexer] * weights, axis=axis) / sumval\n"
     ]
    },
    {
     "data": {
      "text/plain": [
       "<matplotlib.axes._subplots.AxesSubplot at 0x112f51978>"
      ]
     },
     "execution_count": 12,
     "metadata": {},
     "output_type": "execute_result"
    },
    {
     "data": {
      "image/png": "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\n",
      "text/plain": [
       "<Figure size 432x288 with 1 Axes>"
      ]
     },
     "metadata": {},
     "output_type": "display_data"
    }
   ],
   "source": [
    "sns.regplot(train[\"YearBuilt\"], labels)"
   ]
  },
  {
   "cell_type": "code",
   "execution_count": 13,
   "metadata": {},
   "outputs": [
    {
     "name": "stderr",
     "output_type": "stream",
     "text": [
      "/anaconda3/lib/python3.6/site-packages/scipy/stats/stats.py:1713: FutureWarning: Using a non-tuple sequence for multidimensional indexing is deprecated; use `arr[tuple(seq)]` instead of `arr[seq]`. In the future this will be interpreted as an array index, `arr[np.array(seq)]`, which will result either in an error or a different result.\n",
      "  return np.add.reduce(sorted[indexer] * weights, axis=axis) / sumval\n"
     ]
    },
    {
     "name": "stdout",
     "output_type": "stream",
     "text": [
      "(-0.21750331522000158, 4.2974640062573336e-17)\n"
     ]
    },
    {
     "data": {
      "image/png": "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\n",
      "text/plain": [
       "<Figure size 432x288 with 1 Axes>"
      ]
     },
     "metadata": {},
     "output_type": "display_data"
    }
   ],
   "source": [
    "from scipy.stats import pearsonr\n",
    "\n",
    "sns.regplot(train[\"YearRemodAdd\"] - train[\"YearBuilt\"], labels)\n",
    "print(pearsonr(train[\"YearRemodAdd\"] - train[\"YearBuilt\"], labels))"
   ]
  },
  {
   "cell_type": "code",
   "execution_count": 14,
   "metadata": {},
   "outputs": [
    {
     "data": {
      "text/plain": [
       "'\\nA\\tAgriculture\\nC\\tCommercial\\nFV\\tFloating Village Residential\\nI\\tIndustrial\\nRH\\tResidential High Density\\nRL\\tResidential Low Density\\nRP\\tResidential Low Density Park \\nRM\\tResidential Medium Density\\n'"
      ]
     },
     "execution_count": 14,
     "metadata": {},
     "output_type": "execute_result"
    },
    {
     "data": {
      "image/png": "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\n",
      "text/plain": [
       "<Figure size 432x288 with 1 Axes>"
      ]
     },
     "metadata": {},
     "output_type": "display_data"
    }
   ],
   "source": [
    "sns.stripplot(train[\"MSZoning\"], labels)\n",
    "\"\"\"\n",
    "A\tAgriculture\n",
    "C\tCommercial\n",
    "FV\tFloating Village Residential\n",
    "I\tIndustrial\n",
    "RH\tResidential High Density\n",
    "RL\tResidential Low Density\n",
    "RP\tResidential Low Density Park \n",
    "RM\tResidential Medium Density\n",
    "\"\"\""
   ]
  },
  {
   "cell_type": "code",
   "execution_count": 15,
   "metadata": {},
   "outputs": [
    {
     "data": {
      "text/plain": [
       "<matplotlib.axes._subplots.AxesSubplot at 0x11b52d080>"
      ]
     },
     "execution_count": 15,
     "metadata": {},
     "output_type": "execute_result"
    },
    {
     "data": {
      "image/png": "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\n",
      "text/plain": [
       "<Figure size 432x288 with 1 Axes>"
      ]
     },
     "metadata": {},
     "output_type": "display_data"
    }
   ],
   "source": [
    "group_col = \"SaleCondition\"\n",
    "\n",
    "train_with_labels = train.copy()\n",
    "train_with_labels[\"label\"] = labels\n",
    "groupped = train_with_labels.groupby(group_col).median().reset_index()[[group_col, \"label\"]]\n",
    "sns.barplot(groupped[group_col], groupped.label)"
   ]
  },
  {
   "cell_type": "code",
   "execution_count": 33,
   "metadata": {},
   "outputs": [],
   "source": [
    "# categorial = [\"MSZoning\", \"Street\", \"LotShape\", \"BldgType\", \"HouseStyle\", \"RoofStyle\", \"RoofMatl\",\"ExterQual\", \"ExterCond\", \"Foundation\", \"BsmtQual\", \"BsmtCond\", \"BsmtExposure\", \"Heating\", \"HeatingQC\", \"CentralAir\", \"Electrical\", \"KitchenQual\", \"Functional\",  \"SaleType\", \"SaleCondition\"]\n",
    "categorical = [i[0] for i in list(dict(train.dtypes).items()) if 'obj' in str(i[1])]\n",
    "for col in categorial:\n",
    "    all[col] = all[col].factorize()[0]\n",
    "    \n",
    "train = all.iloc[:train.shape[0]]\n",
    "test = all.iloc[train.shape[0]:]"
   ]
  },
  {
   "cell_type": "code",
   "execution_count": 34,
   "metadata": {},
   "outputs": [],
   "source": [
    "from sklearn.model_selection import KFold\n",
    "\n",
    "cv = KFold(n_splits=5, random_state=0)"
   ]
  },
  {
   "cell_type": "code",
   "execution_count": 35,
   "metadata": {},
   "outputs": [
    {
     "ename": "ValueError",
     "evalue": "could not convert string to float: 'NoFence'",
     "output_type": "error",
     "traceback": [
      "\u001b[0;31m---------------------------------------------------------------------------\u001b[0m",
      "\u001b[0;31mValueError\u001b[0m                                Traceback (most recent call last)",
      "\u001b[0;32m<ipython-input-35-0e4023a120af>\u001b[0m in \u001b[0;36m<module>\u001b[0;34m()\u001b[0m\n\u001b[1;32m      5\u001b[0m \u001b[0;32mfrom\u001b[0m \u001b[0msklearn\u001b[0m\u001b[0;34m.\u001b[0m\u001b[0mmodel_selection\u001b[0m \u001b[0;32mimport\u001b[0m \u001b[0mcross_val_score\u001b[0m\u001b[0;34m\u001b[0m\u001b[0m\n\u001b[1;32m      6\u001b[0m \u001b[0mregr\u001b[0m \u001b[0;34m=\u001b[0m \u001b[0mLinearRegression\u001b[0m\u001b[0;34m(\u001b[0m\u001b[0mn_jobs\u001b[0m\u001b[0;34m=\u001b[0m\u001b[0;34m-\u001b[0m\u001b[0;36m1\u001b[0m\u001b[0;34m)\u001b[0m\u001b[0;34m\u001b[0m\u001b[0m\n\u001b[0;32m----> 7\u001b[0;31m \u001b[0mprint\u001b[0m\u001b[0;34m(\u001b[0m\u001b[0mcross_val_score\u001b[0m\u001b[0;34m(\u001b[0m\u001b[0mregr\u001b[0m\u001b[0;34m,\u001b[0m \u001b[0mtrain\u001b[0m\u001b[0;34m,\u001b[0m \u001b[0mnp\u001b[0m\u001b[0;34m.\u001b[0m\u001b[0mlog1p\u001b[0m\u001b[0;34m(\u001b[0m\u001b[0mlabels\u001b[0m\u001b[0;34m)\u001b[0m\u001b[0;34m,\u001b[0m \u001b[0mscoring\u001b[0m\u001b[0;34m=\u001b[0m\u001b[0;34m\"mean_squared_error\"\u001b[0m\u001b[0;34m,\u001b[0m \u001b[0mcv\u001b[0m\u001b[0;34m=\u001b[0m\u001b[0mcv\u001b[0m\u001b[0;34m)\u001b[0m\u001b[0;34m.\u001b[0m\u001b[0mmean\u001b[0m\u001b[0;34m(\u001b[0m\u001b[0;34m)\u001b[0m\u001b[0;34m)\u001b[0m\u001b[0;34m\u001b[0m\u001b[0m\n\u001b[0m",
      "\u001b[0;32m/anaconda3/lib/python3.6/site-packages/sklearn/model_selection/_validation.py\u001b[0m in \u001b[0;36mcross_val_score\u001b[0;34m(estimator, X, y, groups, scoring, cv, n_jobs, verbose, fit_params, pre_dispatch)\u001b[0m\n\u001b[1;32m    340\u001b[0m                                 \u001b[0mn_jobs\u001b[0m\u001b[0;34m=\u001b[0m\u001b[0mn_jobs\u001b[0m\u001b[0;34m,\u001b[0m \u001b[0mverbose\u001b[0m\u001b[0;34m=\u001b[0m\u001b[0mverbose\u001b[0m\u001b[0;34m,\u001b[0m\u001b[0;34m\u001b[0m\u001b[0m\n\u001b[1;32m    341\u001b[0m                                 \u001b[0mfit_params\u001b[0m\u001b[0;34m=\u001b[0m\u001b[0mfit_params\u001b[0m\u001b[0;34m,\u001b[0m\u001b[0;34m\u001b[0m\u001b[0m\n\u001b[0;32m--> 342\u001b[0;31m                                 pre_dispatch=pre_dispatch)\n\u001b[0m\u001b[1;32m    343\u001b[0m     \u001b[0;32mreturn\u001b[0m \u001b[0mcv_results\u001b[0m\u001b[0;34m[\u001b[0m\u001b[0;34m'test_score'\u001b[0m\u001b[0;34m]\u001b[0m\u001b[0;34m\u001b[0m\u001b[0m\n\u001b[1;32m    344\u001b[0m \u001b[0;34m\u001b[0m\u001b[0m\n",
      "\u001b[0;32m/anaconda3/lib/python3.6/site-packages/sklearn/model_selection/_validation.py\u001b[0m in \u001b[0;36mcross_validate\u001b[0;34m(estimator, X, y, groups, scoring, cv, n_jobs, verbose, fit_params, pre_dispatch, return_train_score)\u001b[0m\n\u001b[1;32m    204\u001b[0m             \u001b[0mfit_params\u001b[0m\u001b[0;34m,\u001b[0m \u001b[0mreturn_train_score\u001b[0m\u001b[0;34m=\u001b[0m\u001b[0mreturn_train_score\u001b[0m\u001b[0;34m,\u001b[0m\u001b[0;34m\u001b[0m\u001b[0m\n\u001b[1;32m    205\u001b[0m             return_times=True)\n\u001b[0;32m--> 206\u001b[0;31m         for train, test in cv.split(X, y, groups))\n\u001b[0m\u001b[1;32m    207\u001b[0m \u001b[0;34m\u001b[0m\u001b[0m\n\u001b[1;32m    208\u001b[0m     \u001b[0;32mif\u001b[0m \u001b[0mreturn_train_score\u001b[0m\u001b[0;34m:\u001b[0m\u001b[0;34m\u001b[0m\u001b[0m\n",
      "\u001b[0;32m/anaconda3/lib/python3.6/site-packages/sklearn/externals/joblib/parallel.py\u001b[0m in \u001b[0;36m__call__\u001b[0;34m(self, iterable)\u001b[0m\n\u001b[1;32m    777\u001b[0m             \u001b[0;31m# was dispatched. In particular this covers the edge\u001b[0m\u001b[0;34m\u001b[0m\u001b[0;34m\u001b[0m\u001b[0m\n\u001b[1;32m    778\u001b[0m             \u001b[0;31m# case of Parallel used with an exhausted iterator.\u001b[0m\u001b[0;34m\u001b[0m\u001b[0;34m\u001b[0m\u001b[0m\n\u001b[0;32m--> 779\u001b[0;31m             \u001b[0;32mwhile\u001b[0m \u001b[0mself\u001b[0m\u001b[0;34m.\u001b[0m\u001b[0mdispatch_one_batch\u001b[0m\u001b[0;34m(\u001b[0m\u001b[0miterator\u001b[0m\u001b[0;34m)\u001b[0m\u001b[0;34m:\u001b[0m\u001b[0;34m\u001b[0m\u001b[0m\n\u001b[0m\u001b[1;32m    780\u001b[0m                 \u001b[0mself\u001b[0m\u001b[0;34m.\u001b[0m\u001b[0m_iterating\u001b[0m \u001b[0;34m=\u001b[0m \u001b[0;32mTrue\u001b[0m\u001b[0;34m\u001b[0m\u001b[0m\n\u001b[1;32m    781\u001b[0m             \u001b[0;32melse\u001b[0m\u001b[0;34m:\u001b[0m\u001b[0;34m\u001b[0m\u001b[0m\n",
      "\u001b[0;32m/anaconda3/lib/python3.6/site-packages/sklearn/externals/joblib/parallel.py\u001b[0m in \u001b[0;36mdispatch_one_batch\u001b[0;34m(self, iterator)\u001b[0m\n\u001b[1;32m    623\u001b[0m                 \u001b[0;32mreturn\u001b[0m \u001b[0;32mFalse\u001b[0m\u001b[0;34m\u001b[0m\u001b[0m\n\u001b[1;32m    624\u001b[0m             \u001b[0;32melse\u001b[0m\u001b[0;34m:\u001b[0m\u001b[0;34m\u001b[0m\u001b[0m\n\u001b[0;32m--> 625\u001b[0;31m                 \u001b[0mself\u001b[0m\u001b[0;34m.\u001b[0m\u001b[0m_dispatch\u001b[0m\u001b[0;34m(\u001b[0m\u001b[0mtasks\u001b[0m\u001b[0;34m)\u001b[0m\u001b[0;34m\u001b[0m\u001b[0m\n\u001b[0m\u001b[1;32m    626\u001b[0m                 \u001b[0;32mreturn\u001b[0m \u001b[0;32mTrue\u001b[0m\u001b[0;34m\u001b[0m\u001b[0m\n\u001b[1;32m    627\u001b[0m \u001b[0;34m\u001b[0m\u001b[0m\n",
      "\u001b[0;32m/anaconda3/lib/python3.6/site-packages/sklearn/externals/joblib/parallel.py\u001b[0m in \u001b[0;36m_dispatch\u001b[0;34m(self, batch)\u001b[0m\n\u001b[1;32m    586\u001b[0m         \u001b[0mdispatch_timestamp\u001b[0m \u001b[0;34m=\u001b[0m \u001b[0mtime\u001b[0m\u001b[0;34m.\u001b[0m\u001b[0mtime\u001b[0m\u001b[0;34m(\u001b[0m\u001b[0;34m)\u001b[0m\u001b[0;34m\u001b[0m\u001b[0m\n\u001b[1;32m    587\u001b[0m         \u001b[0mcb\u001b[0m \u001b[0;34m=\u001b[0m \u001b[0mBatchCompletionCallBack\u001b[0m\u001b[0;34m(\u001b[0m\u001b[0mdispatch_timestamp\u001b[0m\u001b[0;34m,\u001b[0m \u001b[0mlen\u001b[0m\u001b[0;34m(\u001b[0m\u001b[0mbatch\u001b[0m\u001b[0;34m)\u001b[0m\u001b[0;34m,\u001b[0m \u001b[0mself\u001b[0m\u001b[0;34m)\u001b[0m\u001b[0;34m\u001b[0m\u001b[0m\n\u001b[0;32m--> 588\u001b[0;31m         \u001b[0mjob\u001b[0m \u001b[0;34m=\u001b[0m \u001b[0mself\u001b[0m\u001b[0;34m.\u001b[0m\u001b[0m_backend\u001b[0m\u001b[0;34m.\u001b[0m\u001b[0mapply_async\u001b[0m\u001b[0;34m(\u001b[0m\u001b[0mbatch\u001b[0m\u001b[0;34m,\u001b[0m \u001b[0mcallback\u001b[0m\u001b[0;34m=\u001b[0m\u001b[0mcb\u001b[0m\u001b[0;34m)\u001b[0m\u001b[0;34m\u001b[0m\u001b[0m\n\u001b[0m\u001b[1;32m    589\u001b[0m         \u001b[0mself\u001b[0m\u001b[0;34m.\u001b[0m\u001b[0m_jobs\u001b[0m\u001b[0;34m.\u001b[0m\u001b[0mappend\u001b[0m\u001b[0;34m(\u001b[0m\u001b[0mjob\u001b[0m\u001b[0;34m)\u001b[0m\u001b[0;34m\u001b[0m\u001b[0m\n\u001b[1;32m    590\u001b[0m \u001b[0;34m\u001b[0m\u001b[0m\n",
      "\u001b[0;32m/anaconda3/lib/python3.6/site-packages/sklearn/externals/joblib/_parallel_backends.py\u001b[0m in \u001b[0;36mapply_async\u001b[0;34m(self, func, callback)\u001b[0m\n\u001b[1;32m    109\u001b[0m     \u001b[0;32mdef\u001b[0m \u001b[0mapply_async\u001b[0m\u001b[0;34m(\u001b[0m\u001b[0mself\u001b[0m\u001b[0;34m,\u001b[0m \u001b[0mfunc\u001b[0m\u001b[0;34m,\u001b[0m \u001b[0mcallback\u001b[0m\u001b[0;34m=\u001b[0m\u001b[0;32mNone\u001b[0m\u001b[0;34m)\u001b[0m\u001b[0;34m:\u001b[0m\u001b[0;34m\u001b[0m\u001b[0m\n\u001b[1;32m    110\u001b[0m         \u001b[0;34m\"\"\"Schedule a func to be run\"\"\"\u001b[0m\u001b[0;34m\u001b[0m\u001b[0m\n\u001b[0;32m--> 111\u001b[0;31m         \u001b[0mresult\u001b[0m \u001b[0;34m=\u001b[0m \u001b[0mImmediateResult\u001b[0m\u001b[0;34m(\u001b[0m\u001b[0mfunc\u001b[0m\u001b[0;34m)\u001b[0m\u001b[0;34m\u001b[0m\u001b[0m\n\u001b[0m\u001b[1;32m    112\u001b[0m         \u001b[0;32mif\u001b[0m \u001b[0mcallback\u001b[0m\u001b[0;34m:\u001b[0m\u001b[0;34m\u001b[0m\u001b[0m\n\u001b[1;32m    113\u001b[0m             \u001b[0mcallback\u001b[0m\u001b[0;34m(\u001b[0m\u001b[0mresult\u001b[0m\u001b[0;34m)\u001b[0m\u001b[0;34m\u001b[0m\u001b[0m\n",
      "\u001b[0;32m/anaconda3/lib/python3.6/site-packages/sklearn/externals/joblib/_parallel_backends.py\u001b[0m in \u001b[0;36m__init__\u001b[0;34m(self, batch)\u001b[0m\n\u001b[1;32m    330\u001b[0m         \u001b[0;31m# Don't delay the application, to avoid keeping the input\u001b[0m\u001b[0;34m\u001b[0m\u001b[0;34m\u001b[0m\u001b[0m\n\u001b[1;32m    331\u001b[0m         \u001b[0;31m# arguments in memory\u001b[0m\u001b[0;34m\u001b[0m\u001b[0;34m\u001b[0m\u001b[0m\n\u001b[0;32m--> 332\u001b[0;31m         \u001b[0mself\u001b[0m\u001b[0;34m.\u001b[0m\u001b[0mresults\u001b[0m \u001b[0;34m=\u001b[0m \u001b[0mbatch\u001b[0m\u001b[0;34m(\u001b[0m\u001b[0;34m)\u001b[0m\u001b[0;34m\u001b[0m\u001b[0m\n\u001b[0m\u001b[1;32m    333\u001b[0m \u001b[0;34m\u001b[0m\u001b[0m\n\u001b[1;32m    334\u001b[0m     \u001b[0;32mdef\u001b[0m \u001b[0mget\u001b[0m\u001b[0;34m(\u001b[0m\u001b[0mself\u001b[0m\u001b[0;34m)\u001b[0m\u001b[0;34m:\u001b[0m\u001b[0;34m\u001b[0m\u001b[0m\n",
      "\u001b[0;32m/anaconda3/lib/python3.6/site-packages/sklearn/externals/joblib/parallel.py\u001b[0m in \u001b[0;36m__call__\u001b[0;34m(self)\u001b[0m\n\u001b[1;32m    129\u001b[0m \u001b[0;34m\u001b[0m\u001b[0m\n\u001b[1;32m    130\u001b[0m     \u001b[0;32mdef\u001b[0m \u001b[0m__call__\u001b[0m\u001b[0;34m(\u001b[0m\u001b[0mself\u001b[0m\u001b[0;34m)\u001b[0m\u001b[0;34m:\u001b[0m\u001b[0;34m\u001b[0m\u001b[0m\n\u001b[0;32m--> 131\u001b[0;31m         \u001b[0;32mreturn\u001b[0m \u001b[0;34m[\u001b[0m\u001b[0mfunc\u001b[0m\u001b[0;34m(\u001b[0m\u001b[0;34m*\u001b[0m\u001b[0margs\u001b[0m\u001b[0;34m,\u001b[0m \u001b[0;34m**\u001b[0m\u001b[0mkwargs\u001b[0m\u001b[0;34m)\u001b[0m \u001b[0;32mfor\u001b[0m \u001b[0mfunc\u001b[0m\u001b[0;34m,\u001b[0m \u001b[0margs\u001b[0m\u001b[0;34m,\u001b[0m \u001b[0mkwargs\u001b[0m \u001b[0;32min\u001b[0m \u001b[0mself\u001b[0m\u001b[0;34m.\u001b[0m\u001b[0mitems\u001b[0m\u001b[0;34m]\u001b[0m\u001b[0;34m\u001b[0m\u001b[0m\n\u001b[0m\u001b[1;32m    132\u001b[0m \u001b[0;34m\u001b[0m\u001b[0m\n\u001b[1;32m    133\u001b[0m     \u001b[0;32mdef\u001b[0m \u001b[0m__len__\u001b[0m\u001b[0;34m(\u001b[0m\u001b[0mself\u001b[0m\u001b[0;34m)\u001b[0m\u001b[0;34m:\u001b[0m\u001b[0;34m\u001b[0m\u001b[0m\n",
      "\u001b[0;32m/anaconda3/lib/python3.6/site-packages/sklearn/externals/joblib/parallel.py\u001b[0m in \u001b[0;36m<listcomp>\u001b[0;34m(.0)\u001b[0m\n\u001b[1;32m    129\u001b[0m \u001b[0;34m\u001b[0m\u001b[0m\n\u001b[1;32m    130\u001b[0m     \u001b[0;32mdef\u001b[0m \u001b[0m__call__\u001b[0m\u001b[0;34m(\u001b[0m\u001b[0mself\u001b[0m\u001b[0;34m)\u001b[0m\u001b[0;34m:\u001b[0m\u001b[0;34m\u001b[0m\u001b[0m\n\u001b[0;32m--> 131\u001b[0;31m         \u001b[0;32mreturn\u001b[0m \u001b[0;34m[\u001b[0m\u001b[0mfunc\u001b[0m\u001b[0;34m(\u001b[0m\u001b[0;34m*\u001b[0m\u001b[0margs\u001b[0m\u001b[0;34m,\u001b[0m \u001b[0;34m**\u001b[0m\u001b[0mkwargs\u001b[0m\u001b[0;34m)\u001b[0m \u001b[0;32mfor\u001b[0m \u001b[0mfunc\u001b[0m\u001b[0;34m,\u001b[0m \u001b[0margs\u001b[0m\u001b[0;34m,\u001b[0m \u001b[0mkwargs\u001b[0m \u001b[0;32min\u001b[0m \u001b[0mself\u001b[0m\u001b[0;34m.\u001b[0m\u001b[0mitems\u001b[0m\u001b[0;34m]\u001b[0m\u001b[0;34m\u001b[0m\u001b[0m\n\u001b[0m\u001b[1;32m    132\u001b[0m \u001b[0;34m\u001b[0m\u001b[0m\n\u001b[1;32m    133\u001b[0m     \u001b[0;32mdef\u001b[0m \u001b[0m__len__\u001b[0m\u001b[0;34m(\u001b[0m\u001b[0mself\u001b[0m\u001b[0;34m)\u001b[0m\u001b[0;34m:\u001b[0m\u001b[0;34m\u001b[0m\u001b[0m\n",
      "\u001b[0;32m/anaconda3/lib/python3.6/site-packages/sklearn/model_selection/_validation.py\u001b[0m in \u001b[0;36m_fit_and_score\u001b[0;34m(estimator, X, y, scorer, train, test, verbose, parameters, fit_params, return_train_score, return_parameters, return_n_test_samples, return_times, error_score)\u001b[0m\n\u001b[1;32m    456\u001b[0m             \u001b[0mestimator\u001b[0m\u001b[0;34m.\u001b[0m\u001b[0mfit\u001b[0m\u001b[0;34m(\u001b[0m\u001b[0mX_train\u001b[0m\u001b[0;34m,\u001b[0m \u001b[0;34m**\u001b[0m\u001b[0mfit_params\u001b[0m\u001b[0;34m)\u001b[0m\u001b[0;34m\u001b[0m\u001b[0m\n\u001b[1;32m    457\u001b[0m         \u001b[0;32melse\u001b[0m\u001b[0;34m:\u001b[0m\u001b[0;34m\u001b[0m\u001b[0m\n\u001b[0;32m--> 458\u001b[0;31m             \u001b[0mestimator\u001b[0m\u001b[0;34m.\u001b[0m\u001b[0mfit\u001b[0m\u001b[0;34m(\u001b[0m\u001b[0mX_train\u001b[0m\u001b[0;34m,\u001b[0m \u001b[0my_train\u001b[0m\u001b[0;34m,\u001b[0m \u001b[0;34m**\u001b[0m\u001b[0mfit_params\u001b[0m\u001b[0;34m)\u001b[0m\u001b[0;34m\u001b[0m\u001b[0m\n\u001b[0m\u001b[1;32m    459\u001b[0m \u001b[0;34m\u001b[0m\u001b[0m\n\u001b[1;32m    460\u001b[0m     \u001b[0;32mexcept\u001b[0m \u001b[0mException\u001b[0m \u001b[0;32mas\u001b[0m \u001b[0me\u001b[0m\u001b[0;34m:\u001b[0m\u001b[0;34m\u001b[0m\u001b[0m\n",
      "\u001b[0;32m/anaconda3/lib/python3.6/site-packages/sklearn/linear_model/base.py\u001b[0m in \u001b[0;36mfit\u001b[0;34m(self, X, y, sample_weight)\u001b[0m\n\u001b[1;32m    480\u001b[0m         \u001b[0mn_jobs_\u001b[0m \u001b[0;34m=\u001b[0m \u001b[0mself\u001b[0m\u001b[0;34m.\u001b[0m\u001b[0mn_jobs\u001b[0m\u001b[0;34m\u001b[0m\u001b[0m\n\u001b[1;32m    481\u001b[0m         X, y = check_X_y(X, y, accept_sparse=['csr', 'csc', 'coo'],\n\u001b[0;32m--> 482\u001b[0;31m                          y_numeric=True, multi_output=True)\n\u001b[0m\u001b[1;32m    483\u001b[0m \u001b[0;34m\u001b[0m\u001b[0m\n\u001b[1;32m    484\u001b[0m         \u001b[0;32mif\u001b[0m \u001b[0msample_weight\u001b[0m \u001b[0;32mis\u001b[0m \u001b[0;32mnot\u001b[0m \u001b[0;32mNone\u001b[0m \u001b[0;32mand\u001b[0m \u001b[0mnp\u001b[0m\u001b[0;34m.\u001b[0m\u001b[0matleast_1d\u001b[0m\u001b[0;34m(\u001b[0m\u001b[0msample_weight\u001b[0m\u001b[0;34m)\u001b[0m\u001b[0;34m.\u001b[0m\u001b[0mndim\u001b[0m \u001b[0;34m>\u001b[0m \u001b[0;36m1\u001b[0m\u001b[0;34m:\u001b[0m\u001b[0;34m\u001b[0m\u001b[0m\n",
      "\u001b[0;32m/anaconda3/lib/python3.6/site-packages/sklearn/utils/validation.py\u001b[0m in \u001b[0;36mcheck_X_y\u001b[0;34m(X, y, accept_sparse, dtype, order, copy, force_all_finite, ensure_2d, allow_nd, multi_output, ensure_min_samples, ensure_min_features, y_numeric, warn_on_dtype, estimator)\u001b[0m\n\u001b[1;32m    571\u001b[0m     X = check_array(X, accept_sparse, dtype, order, copy, force_all_finite,\n\u001b[1;32m    572\u001b[0m                     \u001b[0mensure_2d\u001b[0m\u001b[0;34m,\u001b[0m \u001b[0mallow_nd\u001b[0m\u001b[0;34m,\u001b[0m \u001b[0mensure_min_samples\u001b[0m\u001b[0;34m,\u001b[0m\u001b[0;34m\u001b[0m\u001b[0m\n\u001b[0;32m--> 573\u001b[0;31m                     ensure_min_features, warn_on_dtype, estimator)\n\u001b[0m\u001b[1;32m    574\u001b[0m     \u001b[0;32mif\u001b[0m \u001b[0mmulti_output\u001b[0m\u001b[0;34m:\u001b[0m\u001b[0;34m\u001b[0m\u001b[0m\n\u001b[1;32m    575\u001b[0m         y = check_array(y, 'csr', force_all_finite=True, ensure_2d=False,\n",
      "\u001b[0;32m/anaconda3/lib/python3.6/site-packages/sklearn/utils/validation.py\u001b[0m in \u001b[0;36mcheck_array\u001b[0;34m(array, accept_sparse, dtype, order, copy, force_all_finite, ensure_2d, allow_nd, ensure_min_samples, ensure_min_features, warn_on_dtype, estimator)\u001b[0m\n\u001b[1;32m    446\u001b[0m         \u001b[0;31m# make sure we actually converted to numeric:\u001b[0m\u001b[0;34m\u001b[0m\u001b[0;34m\u001b[0m\u001b[0m\n\u001b[1;32m    447\u001b[0m         \u001b[0;32mif\u001b[0m \u001b[0mdtype_numeric\u001b[0m \u001b[0;32mand\u001b[0m \u001b[0marray\u001b[0m\u001b[0;34m.\u001b[0m\u001b[0mdtype\u001b[0m\u001b[0;34m.\u001b[0m\u001b[0mkind\u001b[0m \u001b[0;34m==\u001b[0m \u001b[0;34m\"O\"\u001b[0m\u001b[0;34m:\u001b[0m\u001b[0;34m\u001b[0m\u001b[0m\n\u001b[0;32m--> 448\u001b[0;31m             \u001b[0marray\u001b[0m \u001b[0;34m=\u001b[0m \u001b[0marray\u001b[0m\u001b[0;34m.\u001b[0m\u001b[0mastype\u001b[0m\u001b[0;34m(\u001b[0m\u001b[0mnp\u001b[0m\u001b[0;34m.\u001b[0m\u001b[0mfloat64\u001b[0m\u001b[0;34m)\u001b[0m\u001b[0;34m\u001b[0m\u001b[0m\n\u001b[0m\u001b[1;32m    449\u001b[0m         \u001b[0;32mif\u001b[0m \u001b[0;32mnot\u001b[0m \u001b[0mallow_nd\u001b[0m \u001b[0;32mand\u001b[0m \u001b[0marray\u001b[0m\u001b[0;34m.\u001b[0m\u001b[0mndim\u001b[0m \u001b[0;34m>=\u001b[0m \u001b[0;36m3\u001b[0m\u001b[0;34m:\u001b[0m\u001b[0;34m\u001b[0m\u001b[0m\n\u001b[1;32m    450\u001b[0m             raise ValueError(\"Found array with dim %d. %s expected <= 2.\"\n",
      "\u001b[0;31mValueError\u001b[0m: could not convert string to float: 'NoFence'"
     ]
    }
   ],
   "source": [
    "from sklearn.model_selection import cross_val_score\n",
    "from sklearn.ensemble import RandomForestRegressor\n",
    "from sklearn.ensemble import ExtraTreesRegressor\n",
    "from sklearn.linear_model import LinearRegression\n",
    "from sklearn.model_selection import cross_val_score\n",
    "regr = LinearRegression(n_jobs=-1)\n",
    "print(cross_val_score(regr, train, np.log1p(labels), scoring=\"mean_squared_error\", cv=cv).mean())"
   ]
  },
  {
   "cell_type": "code",
   "execution_count": 83,
   "metadata": {},
   "outputs": [],
   "source": [
    "def submit(preds):\n",
    "    submission = pd.read_csv(\"sample_submission.csv\")\n",
    "    submission[\"SalePrice\"] = preds\n",
    "    submission.to_csv(\"submission.csv\", index=False)\n",
    "\n",
    "regr = LinearRegression(normalize=True,n_jobs=-1)\n",
    "regr.fit(train, np.log1p(labels))\n",
    "preds = regr.predict(test)\n",
    "submit(np.expm1(preds))"
   ]
  },
  {
   "cell_type": "code",
   "execution_count": 80,
   "metadata": {},
   "outputs": [],
   "source": [
    "def code_freq(data, col):\n",
    "    return data[col].map(data.groupby(col).count().iloc[:, 0] / data.shape[0])"
   ]
  },
  {
   "cell_type": "code",
   "execution_count": 81,
   "metadata": {},
   "outputs": [],
   "source": [
    "from sklearn.base import BaseEstimator\n",
    "from sklearn.model_selection import cross_val_predict\n",
    "\n",
    "class MeanEncoder(BaseEstimator):\n",
    "    def __init__(self, col):\n",
    "        self.col = col\n",
    "        \n",
    "    def fit(self, X, y):\n",
    "        X_copy = X.copy()\n",
    "        X_copy['target'] = y\n",
    "        self.encoding = X_copy.groupby(col)['target'].mean()\n",
    "        return self\n",
    "        \n",
    "    def predict(self, X):\n",
    "        return X[col].map(self.encoding).fillna(-1)\n",
    "\n",
    "\n",
    "\n",
    "def code_mean(train, test, labels, col, cv):\n",
    "    mean_encoder = MeanEncoder(col)\n",
    "    train_col = cross_val_predict(mean_encoder, train, labels, cv=cv)\n",
    "    test_col = mean_encoder.fit(train, labels).predict(test)\n",
    "    \n",
    "    return train_col, test_col"
   ]
  },
  {
   "cell_type": "markdown",
   "metadata": {},
   "source": [
    "* Найти какие категориальные признаки являются ординальными и закодировать их соответственно\n",
    "* Найти наиболее важные категориальные признаки и попробовать их закодировать разными способами\n",
    "* Потюнить RandomForest\n",
    "* Сгенерировать новые признаки"
   ]
  },
  {
   "cell_type": "code",
   "execution_count": null,
   "metadata": {
    "collapsed": true
   },
   "outputs": [],
   "source": []
  }
 ],
 "metadata": {
  "anaconda-cloud": {},
  "kernelspec": {
   "display_name": "Python 3",
   "language": "python",
   "name": "python3"
  },
  "language_info": {
   "codemirror_mode": {
    "name": "ipython",
    "version": 3
   },
   "file_extension": ".py",
   "mimetype": "text/x-python",
   "name": "python",
   "nbconvert_exporter": "python",
   "pygments_lexer": "ipython3",
<<<<<<< HEAD
   "version": "3.6.5"
=======
   "version": "3.6.4"
>>>>>>> 187a606afa61a769d1e6c1390234c9344f9cdfc9
  }
 },
 "nbformat": 4,
 "nbformat_minor": 1
}
